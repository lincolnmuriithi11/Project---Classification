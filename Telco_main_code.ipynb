{
 "cells": [
  {
   "cell_type": "code",
   "execution_count": 1,
   "id": "b33502ea",
   "metadata": {},
   "outputs": [],
   "source": [
    "import warnings\n",
    "warnings.filterwarnings(\"ignore\")\n",
    "import pandas as pd\n",
    "import numpy as np\n",
    "\n",
    "from sklearn.model_selection import train_test_split\n",
    "from sklearn.ensemble import RandomForestClassifier\n",
    "from sklearn.metrics import classification_report\n",
    "from sklearn.metrics import confusion_matrix\n",
    "from sklearn import metrics\n",
    "from sklearn.metrics import recall_score\n",
    "from sklearn.tree import DecisionTreeClassifier\n",
    "from sklearn.neighbors import KNeighborsClassifier\n",
    "import matplotlib.pyplot as plt\n",
    "%matplotlib inline\n",
    "import seaborn as sns\n",
    "\n",
    "\n",
    "from pydataset import data\n",
    "\n",
    "import acquire\n",
    "import env\n",
    "\n",
    "from scipy import stats\n",
    "import math\n"
   ]
  },
  {
   "attachments": {},
   "cell_type": "markdown",
   "id": "b15da40b",
   "metadata": {},
   "source": [
    "# Project Objectives\n",
    "The Code up Date Science team has been assigned to find out what causes customers to churn and how can we predict if a customer is about to churn\n",
    "\n"
   ]
  },
  {
   "cell_type": "markdown",
   "id": "432c4613",
   "metadata": {},
   "source": [
    "# Agenda\n",
    "\n",
    "### Data dictionary / Acquisition\n",
    "### Preparation \n",
    "### Exploration\n",
    "### Statistical analysis\n",
    "### Modeling \n",
    "### Prediction \n",
    "### Conclusion"
   ]
  },
  {
   "cell_type": "code",
   "execution_count": 2,
   "id": "2feca2d9",
   "metadata": {},
   "outputs": [],
   "source": [
    "telco_df = acquire.get_telco_data()\n",
    "train, validate, test = acquire.prep_telco_data(telco_df)\n"
   ]
  },
  {
   "cell_type": "markdown",
   "id": "40a58d23",
   "metadata": {},
   "source": [
    "## Data Dictionary/ Acquisition"
   ]
  },
  {
   "cell_type": "markdown",
   "id": "81e604d2",
   "metadata": {},
   "source": [
    "1. The data is acquired from the Codeup sql database where specific credentials are neccessary to access it. \n",
    "2. After the data acquisition, the next process was tofigure out any unneccesary/ redundant columns and drop them.\n"
   ]
  },
  {
   "cell_type": "markdown",
   "id": "b87dd343",
   "metadata": {},
   "source": [
    "Acquiring the data using the get_telco_data finction"
   ]
  },
  {
   "cell_type": "code",
   "execution_count": 81,
   "id": "913a6d86",
   "metadata": {
    "scrolled": true
   },
   "outputs": [
    {
     "data": {
      "text/html": [
       "<div>\n",
       "<style scoped>\n",
       "    .dataframe tbody tr th:only-of-type {\n",
       "        vertical-align: middle;\n",
       "    }\n",
       "\n",
       "    .dataframe tbody tr th {\n",
       "        vertical-align: top;\n",
       "    }\n",
       "\n",
       "    .dataframe thead th {\n",
       "        text-align: right;\n",
       "    }\n",
       "</style>\n",
       "<table border=\"1\" class=\"dataframe\">\n",
       "  <thead>\n",
       "    <tr style=\"text-align: right;\">\n",
       "      <th></th>\n",
       "      <th>payment_type_id</th>\n",
       "      <th>internet_service_type_id</th>\n",
       "      <th>contract_type_id</th>\n",
       "      <th>customer_id</th>\n",
       "      <th>gender</th>\n",
       "      <th>senior_citizen</th>\n",
       "      <th>partner</th>\n",
       "      <th>dependents</th>\n",
       "      <th>tenure</th>\n",
       "      <th>phone_service</th>\n",
       "      <th>...</th>\n",
       "      <th>tech_support</th>\n",
       "      <th>streaming_tv</th>\n",
       "      <th>streaming_movies</th>\n",
       "      <th>paperless_billing</th>\n",
       "      <th>monthly_charges</th>\n",
       "      <th>total_charges</th>\n",
       "      <th>churn</th>\n",
       "      <th>contract_type</th>\n",
       "      <th>internet_service_type</th>\n",
       "      <th>payment_type</th>\n",
       "    </tr>\n",
       "  </thead>\n",
       "  <tbody>\n",
       "    <tr>\n",
       "      <th>0</th>\n",
       "      <td>2</td>\n",
       "      <td>1</td>\n",
       "      <td>2</td>\n",
       "      <td>0002-ORFBO</td>\n",
       "      <td>Female</td>\n",
       "      <td>0</td>\n",
       "      <td>Yes</td>\n",
       "      <td>Yes</td>\n",
       "      <td>9</td>\n",
       "      <td>Yes</td>\n",
       "      <td>...</td>\n",
       "      <td>Yes</td>\n",
       "      <td>Yes</td>\n",
       "      <td>No</td>\n",
       "      <td>Yes</td>\n",
       "      <td>65.6</td>\n",
       "      <td>593.3</td>\n",
       "      <td>No</td>\n",
       "      <td>One year</td>\n",
       "      <td>DSL</td>\n",
       "      <td>Mailed check</td>\n",
       "    </tr>\n",
       "    <tr>\n",
       "      <th>1</th>\n",
       "      <td>2</td>\n",
       "      <td>1</td>\n",
       "      <td>1</td>\n",
       "      <td>0003-MKNFE</td>\n",
       "      <td>Male</td>\n",
       "      <td>0</td>\n",
       "      <td>No</td>\n",
       "      <td>No</td>\n",
       "      <td>9</td>\n",
       "      <td>Yes</td>\n",
       "      <td>...</td>\n",
       "      <td>No</td>\n",
       "      <td>No</td>\n",
       "      <td>Yes</td>\n",
       "      <td>No</td>\n",
       "      <td>59.9</td>\n",
       "      <td>542.4</td>\n",
       "      <td>No</td>\n",
       "      <td>Month-to-month</td>\n",
       "      <td>DSL</td>\n",
       "      <td>Mailed check</td>\n",
       "    </tr>\n",
       "    <tr>\n",
       "      <th>2</th>\n",
       "      <td>1</td>\n",
       "      <td>2</td>\n",
       "      <td>1</td>\n",
       "      <td>0004-TLHLJ</td>\n",
       "      <td>Male</td>\n",
       "      <td>0</td>\n",
       "      <td>No</td>\n",
       "      <td>No</td>\n",
       "      <td>4</td>\n",
       "      <td>Yes</td>\n",
       "      <td>...</td>\n",
       "      <td>No</td>\n",
       "      <td>No</td>\n",
       "      <td>No</td>\n",
       "      <td>Yes</td>\n",
       "      <td>73.9</td>\n",
       "      <td>280.85</td>\n",
       "      <td>Yes</td>\n",
       "      <td>Month-to-month</td>\n",
       "      <td>Fiber optic</td>\n",
       "      <td>Electronic check</td>\n",
       "    </tr>\n",
       "    <tr>\n",
       "      <th>3</th>\n",
       "      <td>1</td>\n",
       "      <td>2</td>\n",
       "      <td>1</td>\n",
       "      <td>0011-IGKFF</td>\n",
       "      <td>Male</td>\n",
       "      <td>1</td>\n",
       "      <td>Yes</td>\n",
       "      <td>No</td>\n",
       "      <td>13</td>\n",
       "      <td>Yes</td>\n",
       "      <td>...</td>\n",
       "      <td>No</td>\n",
       "      <td>Yes</td>\n",
       "      <td>Yes</td>\n",
       "      <td>Yes</td>\n",
       "      <td>98.0</td>\n",
       "      <td>1237.85</td>\n",
       "      <td>Yes</td>\n",
       "      <td>Month-to-month</td>\n",
       "      <td>Fiber optic</td>\n",
       "      <td>Electronic check</td>\n",
       "    </tr>\n",
       "    <tr>\n",
       "      <th>4</th>\n",
       "      <td>2</td>\n",
       "      <td>2</td>\n",
       "      <td>1</td>\n",
       "      <td>0013-EXCHZ</td>\n",
       "      <td>Female</td>\n",
       "      <td>1</td>\n",
       "      <td>Yes</td>\n",
       "      <td>No</td>\n",
       "      <td>3</td>\n",
       "      <td>Yes</td>\n",
       "      <td>...</td>\n",
       "      <td>Yes</td>\n",
       "      <td>Yes</td>\n",
       "      <td>No</td>\n",
       "      <td>Yes</td>\n",
       "      <td>83.9</td>\n",
       "      <td>267.4</td>\n",
       "      <td>Yes</td>\n",
       "      <td>Month-to-month</td>\n",
       "      <td>Fiber optic</td>\n",
       "      <td>Mailed check</td>\n",
       "    </tr>\n",
       "  </tbody>\n",
       "</table>\n",
       "<p>5 rows × 24 columns</p>\n",
       "</div>"
      ],
      "text/plain": [
       "   payment_type_id  internet_service_type_id  contract_type_id customer_id  \\\n",
       "0                2                         1                 2  0002-ORFBO   \n",
       "1                2                         1                 1  0003-MKNFE   \n",
       "2                1                         2                 1  0004-TLHLJ   \n",
       "3                1                         2                 1  0011-IGKFF   \n",
       "4                2                         2                 1  0013-EXCHZ   \n",
       "\n",
       "   gender  senior_citizen partner dependents  tenure phone_service  ...  \\\n",
       "0  Female               0     Yes        Yes       9           Yes  ...   \n",
       "1    Male               0      No         No       9           Yes  ...   \n",
       "2    Male               0      No         No       4           Yes  ...   \n",
       "3    Male               1     Yes         No      13           Yes  ...   \n",
       "4  Female               1     Yes         No       3           Yes  ...   \n",
       "\n",
       "  tech_support streaming_tv streaming_movies paperless_billing  \\\n",
       "0          Yes          Yes               No               Yes   \n",
       "1           No           No              Yes                No   \n",
       "2           No           No               No               Yes   \n",
       "3           No          Yes              Yes               Yes   \n",
       "4          Yes          Yes               No               Yes   \n",
       "\n",
       "  monthly_charges total_charges churn   contract_type  internet_service_type  \\\n",
       "0            65.6         593.3    No        One year                    DSL   \n",
       "1            59.9         542.4    No  Month-to-month                    DSL   \n",
       "2            73.9        280.85   Yes  Month-to-month            Fiber optic   \n",
       "3            98.0       1237.85   Yes  Month-to-month            Fiber optic   \n",
       "4            83.9         267.4   Yes  Month-to-month            Fiber optic   \n",
       "\n",
       "       payment_type  \n",
       "0      Mailed check  \n",
       "1      Mailed check  \n",
       "2  Electronic check  \n",
       "3  Electronic check  \n",
       "4      Mailed check  \n",
       "\n",
       "[5 rows x 24 columns]"
      ]
     },
     "execution_count": 81,
     "metadata": {},
     "output_type": "execute_result"
    }
   ],
   "source": [
    "telco_df = acquire.get_telco_data()\n",
    "telco_df.head()"
   ]
  },
  {
   "cell_type": "code",
   "execution_count": null,
   "id": "8535beb5",
   "metadata": {},
   "outputs": [],
   "source": []
  },
  {
   "cell_type": "markdown",
   "id": "765c7016",
   "metadata": {},
   "source": [
    "#### columns available in the telco_df data set"
   ]
  },
  {
   "cell_type": "code",
   "execution_count": 4,
   "id": "2c01c195",
   "metadata": {
    "scrolled": false
   },
   "outputs": [
    {
     "data": {
      "text/plain": [
       "Index(['payment_type_id', 'internet_service_type_id', 'contract_type_id',\n",
       "       'customer_id', 'gender', 'senior_citizen', 'partner', 'dependents',\n",
       "       'tenure', 'phone_service', 'multiple_lines', 'online_security',\n",
       "       'online_backup', 'device_protection', 'tech_support', 'streaming_tv',\n",
       "       'streaming_movies', 'paperless_billing', 'monthly_charges',\n",
       "       'total_charges', 'churn', 'contract_type', 'internet_service_type',\n",
       "       'payment_type'],\n",
       "      dtype='object')"
      ]
     },
     "execution_count": 4,
     "metadata": {},
     "output_type": "execute_result"
    }
   ],
   "source": [
    "telco_df.columns"
   ]
  },
  {
   "cell_type": "code",
   "execution_count": null,
   "id": "af3d459e",
   "metadata": {},
   "outputs": [],
   "source": []
  },
  {
   "cell_type": "markdown",
   "id": "9b03d759",
   "metadata": {},
   "source": [
    "#### prepared and cleaned data set"
   ]
  },
  {
   "cell_type": "markdown",
   "id": "a41877b4",
   "metadata": {},
   "source": [
    "#### available columns on the train dataset"
   ]
  },
  {
   "cell_type": "code",
   "execution_count": 6,
   "id": "8299044a",
   "metadata": {
    "scrolled": true
   },
   "outputs": [
    {
     "data": {
      "text/plain": [
       "Index(['senior_citizen', 'tenure', 'monthly_charges', 'total_charges',\n",
       "       'gender_Male', 'partner_Yes', 'dependents_Yes', 'multiple_lines_Yes',\n",
       "       'online_security_Yes', 'online_backup_Yes', 'device_protection_Yes',\n",
       "       'tech_support_Yes', 'churn_Yes', 'streaming_tv_Yes',\n",
       "       'streaming_movies_Yes', 'paperless_billing_Yes',\n",
       "       'contract_type_One_year', 'contract_type_Two_year',\n",
       "       'internet_service_type_Fiber_optic', 'internet_service_type_None',\n",
       "       'payment_type_Credit_card_(automatic)', 'payment_type_Electronic_check',\n",
       "       'payment_type_Mailed_check'],\n",
       "      dtype='object')"
      ]
     },
     "execution_count": 6,
     "metadata": {},
     "output_type": "execute_result"
    }
   ],
   "source": [
    "train.columns"
   ]
  },
  {
   "cell_type": "code",
   "execution_count": null,
   "id": "19afd37f",
   "metadata": {},
   "outputs": [],
   "source": []
  },
  {
   "attachments": {},
   "cell_type": "markdown",
   "id": "6e6371b8",
   "metadata": {},
   "source": [
    "## Preparation\n",
    "\n",
    "1. Transformed the total_charges column from a string to an integer for workability purposes.\n",
    "2. Discovered nulls in the total_charges column where I opted to drop them since they are less than 1% of the dataset\n",
    "3. Columns to be encoded into boolean values. \"Yes\" = 1, \"No/No internet service\" = 0. (online_security, online_backup, device_protection, tech_support, streaming_tv, streaming_movies) \n",
    "4. Cleaned up some of the columns that had spaces and replaced them with an underscore\n",
    "5. Dropped all the columns that contained id. ('payment_type_id', 'internet_service_type_id','contract_type_id','customer_id','phone_service'). \n",
    "6. Lastly, used get dummies on on boolean columns to ensure ML model capability\n",
    "7. split the data to Train, validate and test\n",
    "8. All the necessary functions are available on the acquire.py file"
   ]
  },
  {
   "cell_type": "code",
   "execution_count": 8,
   "id": "3b8e745b",
   "metadata": {},
   "outputs": [],
   "source": []
  },
  {
   "cell_type": "markdown",
   "id": "92406175",
   "metadata": {},
   "source": [
    "Cleaning the telco exploration data"
   ]
  },
  {
   "cell_type": "code",
   "execution_count": 12,
   "id": "0c3b9db4",
   "metadata": {
    "scrolled": true
   },
   "outputs": [],
   "source": [
    "telco_df = telco_df[telco_df.total_charges!=\" \"]\n",
    "telco_df[\"total_charges\"] = pd.to_numeric(telco_df.total_charges)\n"
   ]
  },
  {
   "cell_type": "markdown",
   "id": "07eb11d2",
   "metadata": {
    "scrolled": true
   },
   "source": [
    "## Data Exploration"
   ]
  },
  {
   "cell_type": "markdown",
   "id": "58e3cf11",
   "metadata": {},
   "source": [
    "### Univariate Analysis\n"
   ]
  },
  {
   "cell_type": "markdown",
   "id": "618fd065",
   "metadata": {},
   "source": [
    "#### Observing the churn rate of different tenure\n",
    "it appears that customers of 10 months and under have a high churn rate"
   ]
  },
  {
   "cell_type": "code",
   "execution_count": 14,
   "id": "135b4c6b",
   "metadata": {
    "scrolled": true
   },
   "outputs": [
    {
     "data": {
      "text/plain": [
       "<matplotlib.legend.Legend at 0x7fd3db4ef4f0>"
      ]
     },
     "execution_count": 14,
     "metadata": {},
     "output_type": "execute_result"
    },
    {
     "data": {
      "image/png": "[encoded data removed]",
      "text/plain": [
       "<Figure size 432x288 with 1 Axes>"
      ]
     },
     "metadata": {
      "needs_background": "light"
     },
     "output_type": "display_data"
    }
   ],
   "source": [
    "tenure_not_churn = telco_df[telco_df.churn == \"No\"].tenure\n",
    "tenure_churn = telco_df[telco_df.churn == \"Yes\"].tenure\n",
    "\n",
    "\n",
    "# plt.ylabel(\"$customers$\")\n",
    "# plt.xlabel (\"$telco_df.tenure$\")\n",
    "# plt.title (\"Tenure and Churned Customers\")\n",
    "plt.hist([tenure_churn, tenure_not_churn], \n",
    "          color = [\"red\", \"blue\"], \n",
    "          label = [\"churn_yes\", \"churn_no\"]) \n",
    "plt.legend()\n"
   ]
  },
  {
   "cell_type": "markdown",
   "id": "a6f5f469",
   "metadata": {},
   "source": [
    "#### Observing the churn rate of different monthly charges\n",
    "it appears that customers that pay 70 ~ 110 have a higher churn rate\n"
   ]
  },
  {
   "cell_type": "code",
   "execution_count": 15,
   "id": "42598921",
   "metadata": {
    "scrolled": true
   },
   "outputs": [
    {
     "data": {
      "text/plain": [
       "<matplotlib.legend.Legend at 0x7fd3db4f7ac0>"
      ]
     },
     "execution_count": 15,
     "metadata": {},
     "output_type": "execute_result"
    },
    {
     "data": {
      "image/png": "[encoded data removed]",
      "text/plain": [
       "<Figure size 432x288 with 1 Axes>"
      ]
     },
     "metadata": {
      "needs_background": "light"
     },
     "output_type": "display_data"
    }
   ],
   "source": [
    "mc_not_churn = telco_df[telco_df.churn == \"No\"].monthly_charges\n",
    "mc_churn = telco_df[telco_df.churn == \"Yes\"].monthly_charges\n",
    "\n",
    "\n",
    "# plt.ylabel(\"$customers$\")\n",
    "# plt.xlabel (\"$telco_df.tenure$\")\n",
    "# plt.title (\"Tenure and Churned Customers\")\n",
    "plt.hist([mc_churn, mc_not_churn], \n",
    "          color = [\"red\", \"blue\"], \n",
    "          label = [\"churn_yes\", \"churn_no\"]) \n",
    "plt.legend()\n"
   ]
  },
  {
   "cell_type": "markdown",
   "id": "896077a9",
   "metadata": {},
   "source": [
    "#### Observing the churn rate of different payment types\n",
    "\n",
    "It appears that payment_type_id 1 (which represents electronic check payment) appears to have the highest churn rate among payment methods"
   ]
  },
  {
   "cell_type": "code",
   "execution_count": 16,
   "id": "34bfd967",
   "metadata": {},
   "outputs": [
    {
     "data": {
      "text/plain": [
       "<matplotlib.legend.Legend at 0x7fd3db4f7250>"
      ]
     },
     "execution_count": 16,
     "metadata": {},
     "output_type": "execute_result"
    },
    {
     "data": {
      "image/png": "[encoded data removed]",
      "text/plain": [
       "<Figure size 432x288 with 1 Axes>"
      ]
     },
     "metadata": {
      "needs_background": "light"
     },
     "output_type": "display_data"
    }
   ],
   "source": [
    "payment_type_id_not_churn = telco_df[telco_df.churn == \"No\"].payment_type_id\n",
    "payment_type_id_churn = telco_df[telco_df.churn == \"Yes\"].payment_type_id\n",
    "\n",
    "\n",
    "# plt.ylabel(\"$customers$\")\n",
    "# plt.xlabel (\"$telco_df.tenure$\")\n",
    "# plt.title (\"Tenure and Churned Customers\")\n",
    "plt.hist([payment_type_id_churn, payment_type_id_not_churn], \n",
    "          color = [\"red\", \"blue\"], \n",
    "          label = [\"churn_yes\", \"churn_no\"]) \n",
    "plt.legend()\n"
   ]
  },
  {
   "cell_type": "markdown",
   "id": "cab0135d",
   "metadata": {},
   "source": [
    "#### Observing the churn rate of different internet service type\n",
    "It appears that Fiber optic churn customers churn the most in this category"
   ]
  },
  {
   "cell_type": "code",
   "execution_count": 17,
   "id": "865b456d",
   "metadata": {
    "scrolled": true
   },
   "outputs": [
    {
     "data": {
      "text/plain": [
       "<matplotlib.legend.Legend at 0x7fd3db1d3ca0>"
      ]
     },
     "execution_count": 17,
     "metadata": {},
     "output_type": "execute_result"
    },
    {
     "data": {
      "image/png": "[encoded data removed]",
      "text/plain": [
       "<Figure size 432x288 with 1 Axes>"
      ]
     },
     "metadata": {
      "needs_background": "light"
     },
     "output_type": "display_data"
    }
   ],
   "source": [
    "is_not_churn = telco_df[telco_df.churn == \"No\"].internet_service_type\n",
    "is_churn = telco_df[telco_df.churn == \"Yes\"].internet_service_type\n",
    "\n",
    "\n",
    "# plt.ylabel(\"$customers$\")\n",
    "# plt.xlabel (\"$telco_df.tenure$\")\n",
    "# plt.title (\"Tenure and Churned Customers\")\n",
    "plt.hist([is_churn, is_not_churn], \n",
    "          color = [\"red\", \"blue\"], \n",
    "          label = [\"churn_yes\", \"churn_no\"]) \n",
    "plt.legend()"
   ]
  },
  {
   "cell_type": "markdown",
   "id": "84657874",
   "metadata": {},
   "source": [
    "### Bivariate Analysis\n"
   ]
  },
  {
   "cell_type": "markdown",
   "id": "852c405d",
   "metadata": {},
   "source": [
    "clear the customer_id column"
   ]
  },
  {
   "cell_type": "code",
   "execution_count": 18,
   "id": "bef8102f",
   "metadata": {},
   "outputs": [],
   "source": [
    "columns_dropped = [\"customer_id\"]\n",
    "telco_df = telco_df.drop(columns = columns_dropped)"
   ]
  },
  {
   "cell_type": "code",
   "execution_count": 85,
   "id": "fe790936",
   "metadata": {
    "scrolled": false
   },
   "outputs": [
    {
     "data": {
      "image/png": "[encoded data removed]",
      "text/plain": [
       "<Figure size 432x288 with 1 Axes>"
      ]
     },
     "metadata": {
      "needs_background": "light"
     },
     "output_type": "display_data"
    },
    {
     "data": {
      "image/png": "[encoded data removed]",
      "text/plain": [
       "<Figure size 432x288 with 1 Axes>"
      ]
     },
     "metadata": {
      "needs_background": "light"
     },
     "output_type": "display_data"
    },
    {
     "data": {
      "image/png": "[encoded data removed]",
      "text/plain": [
       "<Figure size 432x288 with 1 Axes>"
      ]
     },
     "metadata": {
      "needs_background": "light"
     },
     "output_type": "display_data"
    },
    {
     "data": {
      "image/png": "[encoded data removed]",
      "text/plain": [
       "<Figure size 432x288 with 1 Axes>"
      ]
     },
     "metadata": {
      "needs_background": "light"
     },
     "output_type": "display_data"
    },
    {
     "data": {
      "image/png": "[encoded data removed]",
      "text/plain": [
       "<Figure size 432x288 with 1 Axes>"
      ]
     },
     "metadata": {
      "needs_background": "light"
     },
     "output_type": "display_data"
    },
    {
     "data": {
      "image/png": "[encoded data removed]",
      "text/plain": [
       "<Figure size 432x288 with 1 Axes>"
      ]
     },
     "metadata": {
      "needs_background": "light"
     },
     "output_type": "display_data"
    },
    {
     "data": {
      "image/png": "[encoded data removed]",
      "text/plain": [
       "<Figure size 432x288 with 1 Axes>"
      ]
     },
     "metadata": {
      "needs_background": "light"
     },
     "output_type": "display_data"
    },
    {
     "data": {
      "image/png": "[encoded data removed]",
      "text/plain": [
       "<Figure size 432x288 with 1 Axes>"
      ]
     },
     "metadata": {
      "needs_background": "light"
     },
     "output_type": "display_data"
    },
    {
     "data": {
      "image/png": "[encoded data removed]",
      "text/plain": [
       "<Figure size 432x288 with 1 Axes>"
      ]
     },
     "metadata": {
      "needs_background": "light"
     },
     "output_type": "display_data"
    },
    {
     "data": {
      "image/png": "[encoded data removed]",
      "text/plain": [
       "<Figure size 432x288 with 1 Axes>"
      ]
     },
     "metadata": {
      "needs_background": "light"
     },
     "output_type": "display_data"
    }
   ],
   "source": [
    "for i, predictor in enumerate(telco_df.drop(columns=['senior_citizen','paperless_billing','churn','tenure', 'gender','total_charges', 'monthly_charges','contract_type_id','payment_type_id', 'internet_service_type_id','contract_type_id','phone_service','streaming_movies','streaming_tv','multiple_lines'])):\n",
    "    plt.figure(i)\n",
    "    plot= sns.countplot(data=telco_df, x=predictor, hue='churn')\n",
    "    plt.setp(plot.get_xticklabels(), rotation=90)    \n",
    "\n"
   ]
  },
  {
   "cell_type": "markdown",
   "id": "067a0023",
   "metadata": {},
   "source": [
    "### Takeaways\n",
    "- It appears that customers with no partners and no dependents have a high churn rate\n",
    "- Customers with no online backup, no online security, no device protection, and no tech support have a higher probability of churning than those who do\n",
    "- month to month contract type, fiber optic internet service and electronic check paypent also have a high probability of churning"
   ]
  },
  {
   "cell_type": "markdown",
   "id": "4feb4ed6",
   "metadata": {},
   "source": [
    "checking statistical features on specific variables "
   ]
  },
  {
   "cell_type": "code",
   "execution_count": 20,
   "id": "614bd490",
   "metadata": {
    "scrolled": true
   },
   "outputs": [
    {
     "data": {
      "text/html": [
       "<div>\n",
       "<style scoped>\n",
       "    .dataframe tbody tr th:only-of-type {\n",
       "        vertical-align: middle;\n",
       "    }\n",
       "\n",
       "    .dataframe tbody tr th {\n",
       "        vertical-align: top;\n",
       "    }\n",
       "\n",
       "    .dataframe thead th {\n",
       "        text-align: right;\n",
       "    }\n",
       "</style>\n",
       "<table border=\"1\" class=\"dataframe\">\n",
       "  <thead>\n",
       "    <tr style=\"text-align: right;\">\n",
       "      <th></th>\n",
       "      <th>count</th>\n",
       "      <th>mean</th>\n",
       "      <th>std</th>\n",
       "      <th>min</th>\n",
       "      <th>25%</th>\n",
       "      <th>50%</th>\n",
       "      <th>75%</th>\n",
       "      <th>max</th>\n",
       "    </tr>\n",
       "  </thead>\n",
       "  <tbody>\n",
       "    <tr>\n",
       "      <th>tenure</th>\n",
       "      <td>7032.0</td>\n",
       "      <td>32.421786</td>\n",
       "      <td>24.545260</td>\n",
       "      <td>1.00</td>\n",
       "      <td>9.0000</td>\n",
       "      <td>29.000</td>\n",
       "      <td>55.0000</td>\n",
       "      <td>72.00</td>\n",
       "    </tr>\n",
       "    <tr>\n",
       "      <th>monthly_charges</th>\n",
       "      <td>7032.0</td>\n",
       "      <td>64.798208</td>\n",
       "      <td>30.085974</td>\n",
       "      <td>18.25</td>\n",
       "      <td>35.5875</td>\n",
       "      <td>70.350</td>\n",
       "      <td>89.8625</td>\n",
       "      <td>118.75</td>\n",
       "    </tr>\n",
       "    <tr>\n",
       "      <th>total_charges</th>\n",
       "      <td>7032.0</td>\n",
       "      <td>2283.300441</td>\n",
       "      <td>2266.771362</td>\n",
       "      <td>18.80</td>\n",
       "      <td>401.4500</td>\n",
       "      <td>1397.475</td>\n",
       "      <td>3794.7375</td>\n",
       "      <td>8684.80</td>\n",
       "    </tr>\n",
       "  </tbody>\n",
       "</table>\n",
       "</div>"
      ],
      "text/plain": [
       "                  count         mean          std    min       25%       50%  \\\n",
       "tenure           7032.0    32.421786    24.545260   1.00    9.0000    29.000   \n",
       "monthly_charges  7032.0    64.798208    30.085974  18.25   35.5875    70.350   \n",
       "total_charges    7032.0  2283.300441  2266.771362  18.80  401.4500  1397.475   \n",
       "\n",
       "                       75%      max  \n",
       "tenure             55.0000    72.00  \n",
       "monthly_charges    89.8625   118.75  \n",
       "total_charges    3794.7375  8684.80  "
      ]
     },
     "execution_count": 20,
     "metadata": {},
     "output_type": "execute_result"
    }
   ],
   "source": [
    "temp_df = telco_df.drop(columns=['senior_citizen','contract_type_id','payment_type_id', 'internet_service_type_id','contract_type_id','phone_service','streaming_movies','streaming_tv','multiple_lines'])\n",
    "temp_df.describe().T\n"
   ]
  },
  {
   "cell_type": "markdown",
   "id": "67f4cb05",
   "metadata": {},
   "source": []
  },
  {
   "cell_type": "markdown",
   "id": "5a369d95",
   "metadata": {},
   "source": [
    "### Hypothesis testing   \n",
    "    \n"
   ]
  },
  {
   "cell_type": "markdown",
   "id": "a243b941",
   "metadata": {},
   "source": [
    "Columns_of_interest:\n",
    "\n",
    "    - monthly_charges\n",
    "    - total_charges\n",
    "    - tenure\n",
    "    - partner \n",
    "    - dependents\n",
    "    - multiple_lines                      \n",
    "    - online_security                      \n",
    "    - online_backup                     \n",
    "    - device_protection                    \n",
    "    - tech_support\n",
    "    - contract_type\n",
    "    - internet_service_type\n",
    "    - payment_type"
   ]
  },
  {
   "cell_type": "code",
   "execution_count": 22,
   "id": "40558cb9",
   "metadata": {},
   "outputs": [],
   "source": [
    "alpha = 0.05"
   ]
  },
  {
   "cell_type": "markdown",
   "id": "9b7537d7",
   "metadata": {},
   "source": [
    "### I used pearsons R for linear relationship/ correlation"
   ]
  },
  {
   "cell_type": "markdown",
   "id": "9296a089",
   "metadata": {},
   "source": [
    "### customers with total_charges\n",
    "Initial Hypotheses\n",
    "\n",
    "$H_{0}$  : Rate of churn is not dependent on having high total charges with the company\n",
    "\n",
    "$H_{1}$  : Rate of churn is dependent on having high total charges with the company"
   ]
  },
  {
   "cell_type": "markdown",
   "id": "3a0f3945",
   "metadata": {},
   "source": [
    "### customers with tenure\n",
    "Initial Hypotheses\n",
    "\n",
    "$H_{0}$  : Rate of churn is not dependent on having tenure with the company\n",
    "\n",
    "$H_{1}$  : Rate of churn is dependent on having tenure with the company"
   ]
  },
  {
   "cell_type": "markdown",
   "id": "a54084db",
   "metadata": {},
   "source": [
    "##### for the categorical variables I used Chi2"
   ]
  },
  {
   "cell_type": "markdown",
   "id": "519b28bc",
   "metadata": {
    "scrolled": false
   },
   "source": [
    "### customers with partners\n",
    "Initial Hypotheses\n",
    "\n",
    "$H_{0}$  : Rate of churn is not dependent on having a partner\n",
    "\n",
    "$H_{1}$  : Rate of churn is dependent on having a partner\n",
    "     "
   ]
  },
  {
   "cell_type": "code",
   "execution_count": 26,
   "id": "bb583a4c",
   "metadata": {},
   "outputs": [
    {
     "data": {
      "text/html": [
       "<div>\n",
       "<style scoped>\n",
       "    .dataframe tbody tr th:only-of-type {\n",
       "        vertical-align: middle;\n",
       "    }\n",
       "\n",
       "    .dataframe tbody tr th {\n",
       "        vertical-align: top;\n",
       "    }\n",
       "\n",
       "    .dataframe thead th {\n",
       "        text-align: right;\n",
       "    }\n",
       "</style>\n",
       "<table border=\"1\" class=\"dataframe\">\n",
       "  <thead>\n",
       "    <tr style=\"text-align: right;\">\n",
       "      <th>churn_Yes</th>\n",
       "      <th>0</th>\n",
       "      <th>1</th>\n",
       "    </tr>\n",
       "    <tr>\n",
       "      <th>partner_Yes</th>\n",
       "      <th></th>\n",
       "      <th></th>\n",
       "    </tr>\n",
       "  </thead>\n",
       "  <tbody>\n",
       "    <tr>\n",
       "      <th>0</th>\n",
       "      <td>1364</td>\n",
       "      <td>663</td>\n",
       "    </tr>\n",
       "    <tr>\n",
       "      <th>1</th>\n",
       "      <td>1527</td>\n",
       "      <td>383</td>\n",
       "    </tr>\n",
       "  </tbody>\n",
       "</table>\n",
       "</div>"
      ],
      "text/plain": [
       "churn_Yes       0    1\n",
       "partner_Yes           \n",
       "0            1364  663\n",
       "1            1527  383"
      ]
     },
     "execution_count": 26,
     "metadata": {},
     "output_type": "execute_result"
    }
   ],
   "source": [
    "partners_crosstab = pd.crosstab(train.partner_Yes, train.churn_Yes)\n",
    "partners_crosstab"
   ]
  },
  {
   "cell_type": "markdown",
   "id": "facdea5e",
   "metadata": {},
   "source": [
    "### customers with dependents\n",
    "Initial Hypotheses\n",
    "\n",
    "$H_{0}$  : Rate of churn is not dependent on having dependents\n",
    "\n",
    "$H_{1}$  : Rate of churn is dependent on having dependents"
   ]
  },
  {
   "cell_type": "markdown",
   "id": "8dfddcae",
   "metadata": {},
   "source": [
    "### customers with multiple_lines\n",
    "Initial Hypotheses\n",
    "\n",
    "$H_{0}$  : Rate of churn is not dependent on having multiple_lines \n",
    "\n",
    "$H_{1}$  : Rate of churn is dependent on having multiple_lines"
   ]
  },
  {
   "cell_type": "markdown",
   "id": "ffa5990a",
   "metadata": {},
   "source": [
    "### customers with online_security\n",
    "Initial Hypotheses\n",
    "\n",
    "$H_{0}$  : Rate of churn is not dependent on having online_security\n",
    "\n",
    "$H_{1}$  : Rate of churn is dependent on having online_security"
   ]
  },
  {
   "cell_type": "markdown",
   "id": "4696b457",
   "metadata": {},
   "source": [
    "### customers with online_backup\n",
    "Initial Hypotheses\n",
    "\n",
    "$H_{0}$  : Rate of churn is not dependent on having online_backup\n",
    "\n",
    "$H_{1}$  : Rate of churn is dependent on having online_backup"
   ]
  },
  {
   "cell_type": "markdown",
   "id": "383480dd",
   "metadata": {},
   "source": [
    "### customers with device_protection\n",
    "Initial Hypotheses\n",
    "\n",
    "$H_{0}$  : Rate of churn is not dependent on having device_protection\n",
    "\n",
    "$H_{1}$  : Rate of churn is dependent on having device_protection"
   ]
  },
  {
   "cell_type": "markdown",
   "id": "ba2f67f9",
   "metadata": {},
   "source": [
    "### customers with tech_support\n",
    "Initial Hypotheses\n",
    "\n",
    "$H_{0}$  : Rate of churn is not dependent on having tech_support\n",
    "\n",
    "$H_{1}$  : Rate of churn is dependent on having tech_support\n"
   ]
  },
  {
   "cell_type": "markdown",
   "id": "03d675cb",
   "metadata": {},
   "source": [
    "### customers with certain contract_type\n",
    "Initial Hypotheses\n",
    "\n",
    "$H_{0}$  : Rate of churn is not dependent on the contract_type\n",
    "\n",
    "$H_{1}$  : Rate of churn is dependent on the contract_type\n",
    "\n",
    "\n"
   ]
  },
  {
   "cell_type": "markdown",
   "id": "0de08eef",
   "metadata": {},
   "source": [
    "### customers with certain internet_service_type\n",
    "Initial Hypotheses\n",
    "\n",
    "$H_{0}$  : Rate of churn is not dependent on the internet_service_type\n",
    "\n",
    "$H_{1}$  : Rate of churn is dependent on the internet_service_type"
   ]
  },
  {
   "cell_type": "markdown",
   "id": "0948cf2f",
   "metadata": {},
   "source": [
    "### customers with certain payment_type\n",
    "Initial Hypotheses\n",
    "\n",
    "$H_{0}$  : Rate of churn is not dependent on the payment_type\n",
    "\n",
    "$H_{1}$  : Rate of churn is dependent on the payment_type\n",
    "\n",
    "\n"
   ]
  },
  {
   "cell_type": "code",
   "execution_count": 86,
   "id": "8219d1d3",
   "metadata": {},
   "outputs": [],
   "source": [
    "# p_value_df.to_csv('p_value.csv') # add `, index = False` to leave off index\n"
   ]
  },
  {
   "cell_type": "markdown",
   "id": "f8da0a08",
   "metadata": {},
   "source": [
    "# Feature Modeling"
   ]
  },
  {
   "cell_type": "markdown",
   "id": "ebb2215d",
   "metadata": {},
   "source": [
    "The above dataframe shows features that have rejected the null hypothesis \n",
    "\n",
    "The features have a significant churn rate in comparison to the other features tested.\n",
    "\n",
    "possible outcomes to the model\n",
    "\n",
    "TP: the model predicts that a customer will churn and they do\n",
    "\n",
    "TN: the model predicts that a customer will not and they don't\n",
    "\n",
    "FP: the model predicts that a customer will churn but they don't\n",
    "\n",
    "FN: the model predicts that a customer will not churn but they do\n"
   ]
  },
  {
   "cell_type": "markdown",
   "id": "9ad873a3",
   "metadata": {},
   "source": [
    "Correlation Visualization"
   ]
  },
  {
   "cell_type": "code",
   "execution_count": 87,
   "id": "78f7cac2",
   "metadata": {},
   "outputs": [
    {
     "data": {
      "text/plain": [
       "<AxesSubplot:>"
      ]
     },
     "execution_count": 87,
     "metadata": {},
     "output_type": "execute_result"
    },
    {
     "data": {
      "image/png": "[encoded data removed]",
      "text/plain": [
       "<Figure size 2160x1080 with 1 Axes>"
      ]
     },
     "metadata": {
      "needs_background": "light"
     },
     "output_type": "display_data"
    }
   ],
   "source": [
    "plt.figure(figsize=(30,15))\n",
    "train.corr()['churn_Yes'].sort_values(ascending = False).plot(kind='bar')"
   ]
  },
  {
   "cell_type": "markdown",
   "id": "9defae03",
   "metadata": {},
   "source": [
    "evaluation of the current train data set"
   ]
  },
  {
   "cell_type": "code",
   "execution_count": 39,
   "id": "86aab424",
   "metadata": {},
   "outputs": [],
   "source": [
    "from sklearn.model_selection import train_test_split\n",
    "\n",
    "def train_validate_test_split(df, target, seed=123):\n",
    "    '''\n",
    "    This function takes in the telco df, the name of the target variable\n",
    "    (for stratification purposes), and an integer for a setting a seed\n",
    "    and splits the data into train, validate and test. \n",
    "    Test is 20% of the original dataset, validate is .30*.80= 24% of the \n",
    "    original dataset, and train is .70*.80= 56% of the original dataset. \n",
    "    The function returns, in this order, train, validate and test dataframes. \n",
    "    '''\n",
    "    train_validate, test = train_test_split(df, test_size=0.2, \n",
    "                                            random_state=seed, \n",
    "                                            stratify=df[target])\n",
    "    train, validate = train_test_split(train_validate, test_size=0.3, \n",
    "                                       random_state=seed,\n",
    "                                       stratify=train_validate[target])\n",
    "    return train, validate, test"
   ]
  },
  {
   "cell_type": "code",
   "execution_count": 40,
   "id": "abbde99a",
   "metadata": {},
   "outputs": [],
   "source": [
    "train, validate, test = train_validate_test_split(train, target = \"churn_Yes\", seed =123)\n",
    "\n",
    "X_train = train.drop(columns = [\"churn_Yes\"])\n",
    "y_train = train.churn_Yes\n",
    "\n",
    "X_validate = validate.drop(columns = [\"churn_Yes\"])\n",
    "y_validate = validate.churn_Yes\n",
    "\n",
    "X_test = test.drop(columns = [\"churn_Yes\"])\n",
    "y_test = test.churn_Yes"
   ]
  },
  {
   "cell_type": "markdown",
   "id": "4e401898",
   "metadata": {},
   "source": [
    "### Baseline"
   ]
  },
  {
   "cell_type": "code",
   "execution_count": 88,
   "id": "e3afed31",
   "metadata": {},
   "outputs": [
    {
     "name": "stdout",
     "output_type": "stream",
     "text": [
      "Baseline accuracy: 0.73\n"
     ]
    },
    {
     "data": {
      "text/plain": [
       "0    0\n",
       "dtype: uint8"
      ]
     },
     "execution_count": 88,
     "metadata": {},
     "output_type": "execute_result"
    }
   ],
   "source": [
    "import statistics\n",
    "# The mode is a great baseline\n",
    "baseline = y_train.mode()\n",
    "\n",
    "\n",
    "# Produce a boolean array with True representing a match between the baseline prediction and reality\n",
    "matches_baseline_prediction = (y_train == 0)\n",
    "\n",
    "baseline_accuracy = matches_baseline_prediction.mean()\n",
    "print(f\"Baseline accuracy: {round(baseline_accuracy, 2)}\")\n",
    "baseline"
   ]
  },
  {
   "cell_type": "code",
   "execution_count": null,
   "id": "41faa9cc",
   "metadata": {},
   "outputs": [],
   "source": []
  },
  {
   "cell_type": "markdown",
   "id": "309dc1cd",
   "metadata": {},
   "source": [
    "#### Testing out a model to decide whether to upsample the train Data set"
   ]
  },
  {
   "cell_type": "code",
   "execution_count": 42,
   "id": "914b1b1f",
   "metadata": {},
   "outputs": [],
   "source": [
    "rf = RandomForestClassifier(max_depth=5, \n",
    "                            random_state=123)"
   ]
  },
  {
   "cell_type": "code",
   "execution_count": 43,
   "id": "2658ef44",
   "metadata": {},
   "outputs": [],
   "source": [
    "rf = rf.fit(X_train, y_train)\n"
   ]
  },
  {
   "cell_type": "code",
   "execution_count": 44,
   "id": "baa3e1e1",
   "metadata": {},
   "outputs": [
    {
     "name": "stdout",
     "output_type": "stream",
     "text": [
      "[0.01568469 0.19549115 0.10100166 0.15323788 0.00483675 0.00682344\n",
      " 0.00837724 0.00626257 0.04292528 0.00868162 0.00424327 0.03022029\n",
      " 0.00426796 0.00558952 0.02118279 0.05259975 0.07551062 0.14690008\n",
      " 0.05127899 0.00462323 0.05183899 0.00842222]\n"
     ]
    }
   ],
   "source": [
    "print(rf.feature_importances_)"
   ]
  },
  {
   "cell_type": "code",
   "execution_count": 45,
   "id": "11ff6594",
   "metadata": {},
   "outputs": [
    {
     "data": {
      "text/plain": [
       "array([0, 1, 0, ..., 0, 0, 0], dtype=uint8)"
      ]
     },
     "execution_count": 45,
     "metadata": {},
     "output_type": "execute_result"
    }
   ],
   "source": [
    "y_pred = rf.predict(X_train)\n",
    "y_pred"
   ]
  },
  {
   "cell_type": "code",
   "execution_count": 46,
   "id": "b9277b26",
   "metadata": {},
   "outputs": [
    {
     "data": {
      "text/plain": [
       "array([[0.97074225, 0.02925775],\n",
       "       [0.38152763, 0.61847237],\n",
       "       [0.77382148, 0.22617852],\n",
       "       [0.32960794, 0.67039206],\n",
       "       [0.80497124, 0.19502876]])"
      ]
     },
     "execution_count": 46,
     "metadata": {},
     "output_type": "execute_result"
    }
   ],
   "source": [
    "y_pred_proba = rf.predict_proba(X_train)\n",
    "y_pred_proba[0:5]"
   ]
  },
  {
   "cell_type": "code",
   "execution_count": 47,
   "id": "73688458",
   "metadata": {},
   "outputs": [
    {
     "data": {
      "text/plain": [
       "array([[0.97074225, 0.02925775],\n",
       "       [0.38152763, 0.61847237],\n",
       "       [0.77382148, 0.22617852],\n",
       "       ...,\n",
       "       [0.94795694, 0.05204306],\n",
       "       [0.9524698 , 0.0475302 ],\n",
       "       [0.78839179, 0.21160821]])"
      ]
     },
     "execution_count": 47,
     "metadata": {},
     "output_type": "execute_result"
    }
   ],
   "source": [
    "y_pred_proba = rf.predict_proba(X_train)\n",
    "y_pred_proba"
   ]
  },
  {
   "cell_type": "code",
   "execution_count": 48,
   "id": "62d192ce",
   "metadata": {
    "scrolled": true
   },
   "outputs": [
    {
     "name": "stdout",
     "output_type": "stream",
     "text": [
      "Accuracy of Decision Tree classifier on validate set: 0.81\n"
     ]
    }
   ],
   "source": [
    "print('Accuracy of Decision Tree classifier on validate set: {:.2f}'\n",
    "     .format(rf.score(X_validate, y_validate)))"
   ]
  },
  {
   "cell_type": "code",
   "execution_count": 49,
   "id": "c63da509",
   "metadata": {},
   "outputs": [
    {
     "name": "stdout",
     "output_type": "stream",
     "text": [
      "              precision    recall  f1-score   support\n",
      "\n",
      "           0       0.83      0.93      0.88       694\n",
      "           1       0.72      0.48      0.58       251\n",
      "\n",
      "    accuracy                           0.81       945\n",
      "   macro avg       0.78      0.71      0.73       945\n",
      "weighted avg       0.80      0.81      0.80       945\n",
      "\n"
     ]
    }
   ],
   "source": [
    "y_pred = rf.predict(X_validate)\n",
    "\n",
    "# Compare actual y values (from validate) to predicted y_values from the model run on X_validate\n",
    "print(classification_report(y_validate, y_pred))\n"
   ]
  },
  {
   "cell_type": "markdown",
   "id": "3f93d1c3",
   "metadata": {},
   "source": [
    "as shown above the model F1 score for the churners(yes) is .53\n",
    "\n",
    "this prompts for an upsample for the training data set"
   ]
  },
  {
   "cell_type": "markdown",
   "id": "ebf06d6b",
   "metadata": {},
   "source": [
    "## New Train Dataset "
   ]
  },
  {
   "cell_type": "markdown",
   "id": "1bc741a0",
   "metadata": {},
   "source": []
  },
  {
   "cell_type": "markdown",
   "id": "e2b2499c",
   "metadata": {},
   "source": [
    "I realize that there might be an issue of imbalanced data with a ratio of = 0.73: 0.27 on the train dataset\n",
    "\n",
    "I will proceed to upsample in the train data set"
   ]
  },
  {
   "cell_type": "raw",
   "id": "0458bfca",
   "metadata": {},
   "source": [
    "100*train[\"churn_Yes\"].value_counts()/len(train[\"churn_Yes\"])"
   ]
  },
  {
   "cell_type": "code",
   "execution_count": 50,
   "id": "db6c5699",
   "metadata": {},
   "outputs": [],
   "source": [
    "churners = train[train[\"churn_Yes\"] == 1]\n",
    "non_churners  = train[train[\"churn_Yes\"] == 0]\n",
    "\n",
    "from sklearn.utils import resample\n",
    "churners_upsample = resample(churners,\n",
    "             replace=True,\n",
    "             n_samples=len(non_churners),\n",
    "             random_state=42)\n",
    "\n"
   ]
  },
  {
   "cell_type": "markdown",
   "id": "efa87d5b",
   "metadata": {},
   "source": [
    "Great success"
   ]
  },
  {
   "cell_type": "code",
   "execution_count": 51,
   "id": "e94fc65a",
   "metadata": {
    "scrolled": false
   },
   "outputs": [
    {
     "data": {
      "text/plain": [
       "1    50.0\n",
       "0    50.0\n",
       "Name: churn_Yes, dtype: float64"
      ]
     },
     "execution_count": 51,
     "metadata": {},
     "output_type": "execute_result"
    }
   ],
   "source": [
    "new_train = pd.concat([churners_upsample, non_churners])\n",
    "\n",
    "100*new_train[\"churn_Yes\"].value_counts()/len(new_train[\"churn_Yes\"])"
   ]
  },
  {
   "cell_type": "code",
   "execution_count": 52,
   "id": "cac0bfbd",
   "metadata": {},
   "outputs": [],
   "source": [
    "new_train, validate, test = train_validate_test_split(new_train, target = \"churn_Yes\", seed =123)\n",
    "\n",
    "X_train_new = new_train.drop(columns = [\"churn_Yes\"])\n",
    "y_train_new = new_train.churn_Yes\n",
    "\n",
    "X_validate = validate.drop(columns = [\"churn_Yes\"])\n",
    "y_validate = validate.churn_Yes\n",
    "\n",
    "X_test = test.drop(columns = [\"churn_Yes\"])\n",
    "y_test = test.churn_Yes"
   ]
  },
  {
   "cell_type": "markdown",
   "id": "21a900d8",
   "metadata": {},
   "source": [
    "### Decision Tree model"
   ]
  },
  {
   "cell_type": "markdown",
   "id": "831bc2c1",
   "metadata": {},
   "source": [
    "  Making the model & Fitting the model \n",
    "  evaluate the model's performance on train, first"
   ]
  },
  {
   "cell_type": "code",
   "execution_count": 53,
   "id": "37b84c47",
   "metadata": {},
   "outputs": [],
   "source": [
    "tree3 = DecisionTreeClassifier(max_depth=3, random_state=123)\n",
    "\n",
    "tree3 = tree3.fit(X_train_new, y_train_new)\n",
    "\n",
    "y_pred_dt = tree3.predict(X_train_new)"
   ]
  },
  {
   "cell_type": "code",
   "execution_count": 93,
   "id": "80d6f90c",
   "metadata": {},
   "outputs": [
    {
     "name": "stdout",
     "output_type": "stream",
     "text": [
      "                    0           1  accuracy    macro avg  weighted avg\n",
      "precision    0.707182    0.740426  0.722606     0.723804      0.723820\n",
      "recall       0.758893    0.686391  0.722606     0.722642      0.722606\n",
      "f1-score     0.732126    0.712385  0.722606     0.722255      0.722246\n",
      "support    506.000000  507.000000  0.722606  1013.000000   1013.000000\n",
      "\n",
      "                    0           1  accuracy    macro avg  weighted avg\n",
      "precision    0.867568    0.712286  0.769003     0.789927      0.789850\n",
      "recall       0.634387    0.903353  0.769003     0.768870      0.769003\n",
      "f1-score     0.732877    0.796522  0.769003     0.764699      0.764731\n",
      "support    506.000000  507.000000  0.769003  1013.000000   1013.000000\n",
      "\n",
      "                    0           1  accuracy    macro avg  weighted avg\n",
      "precision    0.791498    0.778420  0.784798     0.784959      0.784953\n",
      "recall       0.772727    0.796844  0.784798     0.784786      0.784798\n",
      "f1-score     0.782000    0.787524  0.784798     0.784762      0.784765\n",
      "support    506.000000  507.000000  0.784798  1013.000000   1013.000000\n",
      "\n",
      "                    0           1  accuracy    macro avg  weighted avg\n",
      "precision    0.835789    0.797398    0.8154     0.816594      0.816575\n",
      "recall       0.784585    0.846154    0.8154     0.815369      0.815400\n",
      "f1-score     0.809378    0.821053    0.8154     0.815215      0.815221\n",
      "support    506.000000  507.000000    0.8154  1013.000000   1013.000000\n",
      "\n",
      "                    0           1  accuracy    macro avg  weighted avg\n",
      "precision    0.878525    0.817029  0.845015     0.847777      0.847747\n",
      "recall       0.800395    0.889546  0.845015     0.844971      0.845015\n",
      "f1-score     0.837642    0.851747  0.845015     0.844695      0.844702\n",
      "support    506.000000  507.000000  0.845015  1013.000000   1013.000000\n",
      "\n",
      "                    0           1  accuracy    macro avg  weighted avg\n",
      "precision    0.874751    0.870588  0.872655     0.872670      0.872668\n",
      "recall       0.869565    0.875740  0.872655     0.872652      0.872655\n",
      "f1-score     0.872151    0.873156  0.872655     0.872653      0.872654\n",
      "support    506.000000  507.000000  0.872655  1013.000000   1013.000000\n",
      "\n",
      "                    0           1  accuracy    macro avg  weighted avg\n",
      "precision    0.925847    0.872458  0.897335     0.899153      0.899127\n",
      "recall       0.863636    0.930966  0.897335     0.897301      0.897335\n",
      "f1-score     0.893661    0.900763  0.897335     0.897212      0.897215\n",
      "support    506.000000  507.000000  0.897335  1013.000000   1013.000000\n",
      "\n",
      "                    0           1  accuracy    macro avg  weighted avg\n",
      "precision    0.940206    0.905303  0.922014     0.922755      0.922737\n",
      "recall       0.901186    0.942801  0.922014     0.921993      0.922014\n",
      "f1-score     0.920283    0.923671  0.922014     0.921977      0.921979\n",
      "support    506.000000  507.000000  0.922014  1013.000000   1013.000000\n",
      "\n",
      "                    0           1  accuracy    macro avg  weighted avg\n",
      "precision    0.966457    0.916045  0.939783     0.941251      0.941226\n",
      "recall       0.911067    0.968442  0.939783     0.939755      0.939783\n",
      "f1-score     0.937945    0.941515  0.939783     0.939730      0.939732\n",
      "support    506.000000  507.000000  0.939783  1013.000000   1013.000000\n",
      "\n",
      "                    0           1  accuracy    macro avg  weighted avg\n",
      "precision    0.975560    0.948276    0.9615     0.961918      0.961905\n",
      "recall       0.946640    0.976331    0.9615     0.961486      0.961500\n",
      "f1-score     0.960883    0.962099    0.9615     0.961491      0.961491\n",
      "support    506.000000  507.000000    0.9615  1013.000000   1013.000000\n",
      "\n",
      "                    0           1  accuracy    macro avg  weighted avg\n",
      "precision    0.993852    0.960000  0.976308     0.976926      0.976910\n",
      "recall       0.958498    0.994083  0.976308     0.976290      0.976308\n",
      "f1-score     0.975855    0.976744  0.976308     0.976300      0.976300\n",
      "support    506.000000  507.000000  0.976308  1013.000000   1013.000000\n",
      "\n",
      "                    0           1  accuracy    macro avg  weighted avg\n",
      "precision    0.995943    0.971154  0.983218     0.983549      0.983536\n",
      "recall       0.970356    0.996055  0.983218     0.983205      0.983218\n",
      "f1-score     0.982983    0.983447  0.983218     0.983215      0.983215\n",
      "support    506.000000  507.000000  0.983218  1013.000000   1013.000000\n",
      "\n",
      "                    0           1  accuracy    macro avg  weighted avg\n",
      "precision    0.993964    0.976744  0.985192     0.985354      0.985345\n",
      "recall       0.976285    0.994083  0.985192     0.985184      0.985192\n",
      "f1-score     0.985045    0.985337  0.985192     0.985191      0.985191\n",
      "support    506.000000  507.000000  0.985192  1013.000000   1013.000000\n",
      "\n",
      "                   0           1  accuracy    macro avg  weighted avg\n",
      "precision    0.99600    0.984405  0.990128     0.990203      0.990197\n",
      "recall       0.98419    0.996055  0.990128     0.990122      0.990128\n",
      "f1-score     0.99006    0.990196  0.990128     0.990128      0.990128\n",
      "support    506.00000  507.000000  0.990128  1013.000000   1013.000000\n",
      "\n",
      "                    0           1  accuracy    macro avg  weighted avg\n",
      "precision    0.997996    0.984436  0.991115     0.991216      0.991209\n",
      "recall       0.984190    0.998028  0.991115     0.991109      0.991115\n",
      "f1-score     0.991045    0.991185  0.991115     0.991115      0.991115\n",
      "support    506.000000  507.000000  0.991115  1013.000000   1013.000000\n",
      "\n",
      "                    0           1  accuracy    macro avg  weighted avg\n",
      "precision    0.994071    0.994083  0.994077     0.994077      0.994077\n",
      "recall       0.994071    0.994083  0.994077     0.994077      0.994077\n",
      "f1-score     0.994071    0.994083  0.994077     0.994077      0.994077\n",
      "support    506.000000  507.000000  0.994077  1013.000000   1013.000000\n",
      "\n",
      "                    0           1  accuracy    macro avg  weighted avg\n",
      "precision    0.998012    0.992157  0.995064     0.995084      0.995082\n",
      "recall       0.992095    0.998028  0.995064     0.995061      0.995064\n",
      "f1-score     0.995045    0.995084  0.995064     0.995064      0.995064\n",
      "support    506.000000  507.000000  0.995064  1013.000000   1013.000000\n",
      "\n",
      "                    0           1  accuracy    macro avg  weighted avg\n",
      "precision    0.996055    0.998024  0.997038     0.997039      0.997040\n",
      "recall       0.998024    0.996055  0.997038     0.997039      0.997038\n",
      "f1-score     0.997038    0.997038  0.997038     0.997038      0.997038\n",
      "support    506.000000  507.000000  0.997038  1013.000000   1013.000000\n",
      "\n",
      "                    0           1  accuracy    macro avg  weighted avg\n",
      "precision    0.998028    1.000000  0.999013     0.999014      0.999015\n",
      "recall       1.000000    0.998028  0.999013     0.999014      0.999013\n",
      "f1-score     0.999013    0.999013  0.999013     0.999013      0.999013\n",
      "support    506.000000  507.000000  0.999013  1013.000000   1013.000000\n",
      "\n"
     ]
    }
   ],
   "source": [
    "for i in range(2, 21):\n",
    "    # Make the model\n",
    "    tree = DecisionTreeClassifier(max_depth=i, random_state=123)\n",
    "\n",
    "    # Fit the model (on train and only train)\n",
    "    tree = tree.fit(X_train_new, y_train_new)\n",
    "\n",
    "    # Use the model\n",
    "    # We'll evaluate the model's performance on train, first\n",
    "    y_predictions = tree.predict(X_train_new)\n",
    "\n",
    "    # Produce the classification report on the actual y values and this model's predicted y values\n",
    "    report = classification_report(y_train_new, y_predictions, output_dict=True)\n",
    "    print(f\"Tree with max depth of {i}\")\n",
    "    tree_df = pd.DataFrame(report)\n",
    "    print(tree_df)\n",
    "    print()\n",
    "    \n"
   ]
  },
  {
   "cell_type": "markdown",
   "id": "f9c55888",
   "metadata": {},
   "source": [
    "#### looping in order to compare in-sample to out-of-sample\n",
    "\n"
   ]
  },
  {
   "cell_type": "code",
   "execution_count": 100,
   "id": "973f70a2",
   "metadata": {
    "scrolled": true
   },
   "outputs": [
    {
     "data": {
      "text/html": [
       "<div>\n",
       "<style scoped>\n",
       "    .dataframe tbody tr th:only-of-type {\n",
       "        vertical-align: middle;\n",
       "    }\n",
       "\n",
       "    .dataframe tbody tr th {\n",
       "        vertical-align: top;\n",
       "    }\n",
       "\n",
       "    .dataframe thead th {\n",
       "        text-align: right;\n",
       "    }\n",
       "</style>\n",
       "<table border=\"1\" class=\"dataframe\">\n",
       "  <thead>\n",
       "    <tr style=\"text-align: right;\">\n",
       "      <th></th>\n",
       "      <th>max_depth</th>\n",
       "      <th>train_accuracy</th>\n",
       "      <th>validate_accuracy</th>\n",
       "      <th>difference</th>\n",
       "    </tr>\n",
       "  </thead>\n",
       "  <tbody>\n",
       "    <tr>\n",
       "      <th>9</th>\n",
       "      <td>11</td>\n",
       "      <td>0.961500</td>\n",
       "      <td>0.811494</td>\n",
       "      <td>0.150006</td>\n",
       "    </tr>\n",
       "    <tr>\n",
       "      <th>14</th>\n",
       "      <td>16</td>\n",
       "      <td>0.991115</td>\n",
       "      <td>0.809195</td>\n",
       "      <td>0.181920</td>\n",
       "    </tr>\n",
       "    <tr>\n",
       "      <th>13</th>\n",
       "      <td>15</td>\n",
       "      <td>0.990128</td>\n",
       "      <td>0.797701</td>\n",
       "      <td>0.192427</td>\n",
       "    </tr>\n",
       "    <tr>\n",
       "      <th>16</th>\n",
       "      <td>18</td>\n",
       "      <td>0.995064</td>\n",
       "      <td>0.795402</td>\n",
       "      <td>0.199662</td>\n",
       "    </tr>\n",
       "    <tr>\n",
       "      <th>8</th>\n",
       "      <td>10</td>\n",
       "      <td>0.939783</td>\n",
       "      <td>0.795402</td>\n",
       "      <td>0.144381</td>\n",
       "    </tr>\n",
       "    <tr>\n",
       "      <th>22</th>\n",
       "      <td>24</td>\n",
       "      <td>0.999013</td>\n",
       "      <td>0.793103</td>\n",
       "      <td>0.205909</td>\n",
       "    </tr>\n",
       "    <tr>\n",
       "      <th>21</th>\n",
       "      <td>23</td>\n",
       "      <td>0.999013</td>\n",
       "      <td>0.793103</td>\n",
       "      <td>0.205909</td>\n",
       "    </tr>\n",
       "    <tr>\n",
       "      <th>20</th>\n",
       "      <td>22</td>\n",
       "      <td>0.999013</td>\n",
       "      <td>0.793103</td>\n",
       "      <td>0.205909</td>\n",
       "    </tr>\n",
       "    <tr>\n",
       "      <th>19</th>\n",
       "      <td>21</td>\n",
       "      <td>0.999013</td>\n",
       "      <td>0.793103</td>\n",
       "      <td>0.205909</td>\n",
       "    </tr>\n",
       "    <tr>\n",
       "      <th>18</th>\n",
       "      <td>20</td>\n",
       "      <td>0.999013</td>\n",
       "      <td>0.793103</td>\n",
       "      <td>0.205909</td>\n",
       "    </tr>\n",
       "    <tr>\n",
       "      <th>11</th>\n",
       "      <td>13</td>\n",
       "      <td>0.983218</td>\n",
       "      <td>0.790805</td>\n",
       "      <td>0.192414</td>\n",
       "    </tr>\n",
       "    <tr>\n",
       "      <th>10</th>\n",
       "      <td>12</td>\n",
       "      <td>0.976308</td>\n",
       "      <td>0.788506</td>\n",
       "      <td>0.187802</td>\n",
       "    </tr>\n",
       "    <tr>\n",
       "      <th>15</th>\n",
       "      <td>17</td>\n",
       "      <td>0.994077</td>\n",
       "      <td>0.786207</td>\n",
       "      <td>0.207870</td>\n",
       "    </tr>\n",
       "    <tr>\n",
       "      <th>6</th>\n",
       "      <td>8</td>\n",
       "      <td>0.897335</td>\n",
       "      <td>0.783908</td>\n",
       "      <td>0.113427</td>\n",
       "    </tr>\n",
       "    <tr>\n",
       "      <th>12</th>\n",
       "      <td>14</td>\n",
       "      <td>0.985192</td>\n",
       "      <td>0.781609</td>\n",
       "      <td>0.203583</td>\n",
       "    </tr>\n",
       "    <tr>\n",
       "      <th>17</th>\n",
       "      <td>19</td>\n",
       "      <td>0.997038</td>\n",
       "      <td>0.781609</td>\n",
       "      <td>0.215429</td>\n",
       "    </tr>\n",
       "    <tr>\n",
       "      <th>7</th>\n",
       "      <td>9</td>\n",
       "      <td>0.922014</td>\n",
       "      <td>0.774713</td>\n",
       "      <td>0.147301</td>\n",
       "    </tr>\n",
       "    <tr>\n",
       "      <th>4</th>\n",
       "      <td>6</td>\n",
       "      <td>0.845015</td>\n",
       "      <td>0.770115</td>\n",
       "      <td>0.074900</td>\n",
       "    </tr>\n",
       "    <tr>\n",
       "      <th>5</th>\n",
       "      <td>7</td>\n",
       "      <td>0.872655</td>\n",
       "      <td>0.765517</td>\n",
       "      <td>0.107138</td>\n",
       "    </tr>\n",
       "    <tr>\n",
       "      <th>2</th>\n",
       "      <td>4</td>\n",
       "      <td>0.784798</td>\n",
       "      <td>0.749425</td>\n",
       "      <td>0.035372</td>\n",
       "    </tr>\n",
       "    <tr>\n",
       "      <th>1</th>\n",
       "      <td>3</td>\n",
       "      <td>0.769003</td>\n",
       "      <td>0.726437</td>\n",
       "      <td>0.042566</td>\n",
       "    </tr>\n",
       "    <tr>\n",
       "      <th>3</th>\n",
       "      <td>5</td>\n",
       "      <td>0.815400</td>\n",
       "      <td>0.724138</td>\n",
       "      <td>0.091262</td>\n",
       "    </tr>\n",
       "    <tr>\n",
       "      <th>0</th>\n",
       "      <td>2</td>\n",
       "      <td>0.722606</td>\n",
       "      <td>0.701149</td>\n",
       "      <td>0.021457</td>\n",
       "    </tr>\n",
       "  </tbody>\n",
       "</table>\n",
       "</div>"
      ],
      "text/plain": [
       "    max_depth  train_accuracy  validate_accuracy  difference\n",
       "9          11        0.961500           0.811494    0.150006\n",
       "14         16        0.991115           0.809195    0.181920\n",
       "13         15        0.990128           0.797701    0.192427\n",
       "16         18        0.995064           0.795402    0.199662\n",
       "8          10        0.939783           0.795402    0.144381\n",
       "22         24        0.999013           0.793103    0.205909\n",
       "21         23        0.999013           0.793103    0.205909\n",
       "20         22        0.999013           0.793103    0.205909\n",
       "19         21        0.999013           0.793103    0.205909\n",
       "18         20        0.999013           0.793103    0.205909\n",
       "11         13        0.983218           0.790805    0.192414\n",
       "10         12        0.976308           0.788506    0.187802\n",
       "15         17        0.994077           0.786207    0.207870\n",
       "6           8        0.897335           0.783908    0.113427\n",
       "12         14        0.985192           0.781609    0.203583\n",
       "17         19        0.997038           0.781609    0.215429\n",
       "7           9        0.922014           0.774713    0.147301\n",
       "4           6        0.845015           0.770115    0.074900\n",
       "5           7        0.872655           0.765517    0.107138\n",
       "2           4        0.784798           0.749425    0.035372\n",
       "1           3        0.769003           0.726437    0.042566\n",
       "3           5        0.815400           0.724138    0.091262\n",
       "0           2        0.722606           0.701149    0.021457"
      ]
     },
     "execution_count": 100,
     "metadata": {},
     "output_type": "execute_result"
    }
   ],
   "source": [
    "metrics = []\n",
    "\n",
    "for i in range(2, 25):\n",
    "    # Make the model\n",
    "    tree_sample = DecisionTreeClassifier(max_depth=i, random_state=123)\n",
    "\n",
    "    # Fit the model (on train and only train)\n",
    "    tree_sample = tree_sample.fit(X_train_new, y_train_new)\n",
    "\n",
    "    # Use the model\n",
    "    # We'll evaluate the model's performance on train, first\n",
    "    in_sample_accuracy = tree_sample.score(X_train_new, y_train_new)\n",
    "    \n",
    "    out_of_sample_accuracy = tree_sample.score(X_validate, y_validate)\n",
    "\n",
    "    output = {\n",
    "        \"max_depth\": i,\n",
    "        \"train_accuracy\": in_sample_accuracy,\n",
    "        \"validate_accuracy\": out_of_sample_accuracy\n",
    "    }\n",
    "    \n",
    "    metrics.append(output)\n",
    "    \n",
    "df_dt = pd.DataFrame(metrics)\n",
    "df_dt[\"difference\"] = df_dt.train_accuracy - df_dt.validate_accuracy\n",
    "df_dt.sort_values(by = \"validate_accuracy\", axis=0, ascending=False)"
   ]
  },
  {
   "cell_type": "code",
   "execution_count": 101,
   "id": "ee113309",
   "metadata": {},
   "outputs": [
    {
     "data": {
      "text/html": [
       "<div>\n",
       "<style scoped>\n",
       "    .dataframe tbody tr th:only-of-type {\n",
       "        vertical-align: middle;\n",
       "    }\n",
       "\n",
       "    .dataframe tbody tr th {\n",
       "        vertical-align: top;\n",
       "    }\n",
       "\n",
       "    .dataframe thead th {\n",
       "        text-align: right;\n",
       "    }\n",
       "</style>\n",
       "<table border=\"1\" class=\"dataframe\">\n",
       "  <thead>\n",
       "    <tr style=\"text-align: right;\">\n",
       "      <th></th>\n",
       "      <th>max_depth</th>\n",
       "      <th>train_accuracy</th>\n",
       "      <th>validate_accuracy</th>\n",
       "      <th>difference</th>\n",
       "    </tr>\n",
       "  </thead>\n",
       "  <tbody>\n",
       "    <tr>\n",
       "      <th>0</th>\n",
       "      <td>2</td>\n",
       "      <td>0.722606</td>\n",
       "      <td>0.701149</td>\n",
       "      <td>0.021457</td>\n",
       "    </tr>\n",
       "    <tr>\n",
       "      <th>1</th>\n",
       "      <td>3</td>\n",
       "      <td>0.769003</td>\n",
       "      <td>0.726437</td>\n",
       "      <td>0.042566</td>\n",
       "    </tr>\n",
       "    <tr>\n",
       "      <th>2</th>\n",
       "      <td>4</td>\n",
       "      <td>0.784798</td>\n",
       "      <td>0.749425</td>\n",
       "      <td>0.035372</td>\n",
       "    </tr>\n",
       "    <tr>\n",
       "      <th>3</th>\n",
       "      <td>5</td>\n",
       "      <td>0.815400</td>\n",
       "      <td>0.724138</td>\n",
       "      <td>0.091262</td>\n",
       "    </tr>\n",
       "    <tr>\n",
       "      <th>4</th>\n",
       "      <td>6</td>\n",
       "      <td>0.845015</td>\n",
       "      <td>0.770115</td>\n",
       "      <td>0.074900</td>\n",
       "    </tr>\n",
       "    <tr>\n",
       "      <th>5</th>\n",
       "      <td>7</td>\n",
       "      <td>0.872655</td>\n",
       "      <td>0.765517</td>\n",
       "      <td>0.107138</td>\n",
       "    </tr>\n",
       "    <tr>\n",
       "      <th>6</th>\n",
       "      <td>8</td>\n",
       "      <td>0.897335</td>\n",
       "      <td>0.783908</td>\n",
       "      <td>0.113427</td>\n",
       "    </tr>\n",
       "    <tr>\n",
       "      <th>7</th>\n",
       "      <td>9</td>\n",
       "      <td>0.922014</td>\n",
       "      <td>0.774713</td>\n",
       "      <td>0.147301</td>\n",
       "    </tr>\n",
       "    <tr>\n",
       "      <th>8</th>\n",
       "      <td>10</td>\n",
       "      <td>0.939783</td>\n",
       "      <td>0.795402</td>\n",
       "      <td>0.144381</td>\n",
       "    </tr>\n",
       "    <tr>\n",
       "      <th>9</th>\n",
       "      <td>11</td>\n",
       "      <td>0.961500</td>\n",
       "      <td>0.811494</td>\n",
       "      <td>0.150006</td>\n",
       "    </tr>\n",
       "    <tr>\n",
       "      <th>10</th>\n",
       "      <td>12</td>\n",
       "      <td>0.976308</td>\n",
       "      <td>0.788506</td>\n",
       "      <td>0.187802</td>\n",
       "    </tr>\n",
       "    <tr>\n",
       "      <th>11</th>\n",
       "      <td>13</td>\n",
       "      <td>0.983218</td>\n",
       "      <td>0.790805</td>\n",
       "      <td>0.192414</td>\n",
       "    </tr>\n",
       "    <tr>\n",
       "      <th>12</th>\n",
       "      <td>14</td>\n",
       "      <td>0.985192</td>\n",
       "      <td>0.781609</td>\n",
       "      <td>0.203583</td>\n",
       "    </tr>\n",
       "    <tr>\n",
       "      <th>13</th>\n",
       "      <td>15</td>\n",
       "      <td>0.990128</td>\n",
       "      <td>0.797701</td>\n",
       "      <td>0.192427</td>\n",
       "    </tr>\n",
       "    <tr>\n",
       "      <th>14</th>\n",
       "      <td>16</td>\n",
       "      <td>0.991115</td>\n",
       "      <td>0.809195</td>\n",
       "      <td>0.181920</td>\n",
       "    </tr>\n",
       "    <tr>\n",
       "      <th>15</th>\n",
       "      <td>17</td>\n",
       "      <td>0.994077</td>\n",
       "      <td>0.786207</td>\n",
       "      <td>0.207870</td>\n",
       "    </tr>\n",
       "    <tr>\n",
       "      <th>16</th>\n",
       "      <td>18</td>\n",
       "      <td>0.995064</td>\n",
       "      <td>0.795402</td>\n",
       "      <td>0.199662</td>\n",
       "    </tr>\n",
       "    <tr>\n",
       "      <th>17</th>\n",
       "      <td>19</td>\n",
       "      <td>0.997038</td>\n",
       "      <td>0.781609</td>\n",
       "      <td>0.215429</td>\n",
       "    </tr>\n",
       "    <tr>\n",
       "      <th>18</th>\n",
       "      <td>20</td>\n",
       "      <td>0.999013</td>\n",
       "      <td>0.793103</td>\n",
       "      <td>0.205909</td>\n",
       "    </tr>\n",
       "    <tr>\n",
       "      <th>19</th>\n",
       "      <td>21</td>\n",
       "      <td>0.999013</td>\n",
       "      <td>0.793103</td>\n",
       "      <td>0.205909</td>\n",
       "    </tr>\n",
       "    <tr>\n",
       "      <th>20</th>\n",
       "      <td>22</td>\n",
       "      <td>0.999013</td>\n",
       "      <td>0.793103</td>\n",
       "      <td>0.205909</td>\n",
       "    </tr>\n",
       "    <tr>\n",
       "      <th>21</th>\n",
       "      <td>23</td>\n",
       "      <td>0.999013</td>\n",
       "      <td>0.793103</td>\n",
       "      <td>0.205909</td>\n",
       "    </tr>\n",
       "    <tr>\n",
       "      <th>22</th>\n",
       "      <td>24</td>\n",
       "      <td>0.999013</td>\n",
       "      <td>0.793103</td>\n",
       "      <td>0.205909</td>\n",
       "    </tr>\n",
       "  </tbody>\n",
       "</table>\n",
       "</div>"
      ],
      "text/plain": [
       "    max_depth  train_accuracy  validate_accuracy  difference\n",
       "0           2        0.722606           0.701149    0.021457\n",
       "1           3        0.769003           0.726437    0.042566\n",
       "2           4        0.784798           0.749425    0.035372\n",
       "3           5        0.815400           0.724138    0.091262\n",
       "4           6        0.845015           0.770115    0.074900\n",
       "5           7        0.872655           0.765517    0.107138\n",
       "6           8        0.897335           0.783908    0.113427\n",
       "7           9        0.922014           0.774713    0.147301\n",
       "8          10        0.939783           0.795402    0.144381\n",
       "9          11        0.961500           0.811494    0.150006\n",
       "10         12        0.976308           0.788506    0.187802\n",
       "11         13        0.983218           0.790805    0.192414\n",
       "12         14        0.985192           0.781609    0.203583\n",
       "13         15        0.990128           0.797701    0.192427\n",
       "14         16        0.991115           0.809195    0.181920\n",
       "15         17        0.994077           0.786207    0.207870\n",
       "16         18        0.995064           0.795402    0.199662\n",
       "17         19        0.997038           0.781609    0.215429\n",
       "18         20        0.999013           0.793103    0.205909\n",
       "19         21        0.999013           0.793103    0.205909\n",
       "20         22        0.999013           0.793103    0.205909\n",
       "21         23        0.999013           0.793103    0.205909\n",
       "22         24        0.999013           0.793103    0.205909"
      ]
     },
     "execution_count": 101,
     "metadata": {},
     "output_type": "execute_result"
    }
   ],
   "source": [
    "df_dt.to_csv(\"decision_tree_df\",index = 0)\n",
    "df_dt = pd.read_csv(\"decision_tree_df\")\n",
    "df_dt"
   ]
  },
  {
   "cell_type": "markdown",
   "id": "3673e212",
   "metadata": {},
   "source": [
    "### dt_final_model"
   ]
  },
  {
   "cell_type": "code",
   "execution_count": 56,
   "id": "aed5cbe7",
   "metadata": {
    "scrolled": false
   },
   "outputs": [],
   "source": [
    "# tree_sample_m = DecisionTreeClassifier(max_depth=8, random_state=123)\n",
    "# tree_sample = tree_sample_m.fit(X_train_new, y_train_new)\n",
    "\n",
    "# test.reset_index()\n",
    "\n",
    "# y_predictions = tree_sample_m.predict(X_test)\n",
    "# y_proba = tree_sample_m.predict_proba(X_test)\n",
    "# y_proba = y_proba[:,1]\n",
    "# predictions = pd.DataFrame({\n",
    "#     \"index\" : test.index, # since the customer_id is dropped from X_test, we'll use test here since the indexes line up\n",
    "#     \"prediction\": y_predictions,\n",
    "#     \"probability_of_churn\": y_proba\n",
    "# })\n",
    "\n",
    "# predictions.to_csv(\"predictions.csv\")\n"
   ]
  },
  {
   "cell_type": "code",
   "execution_count": 57,
   "id": "b27d8bae",
   "metadata": {},
   "outputs": [],
   "source": [
    "# predictions\n"
   ]
  },
  {
   "cell_type": "code",
   "execution_count": 58,
   "id": "109d343e",
   "metadata": {
    "scrolled": true
   },
   "outputs": [],
   "source": [
    "# type(y_proba)"
   ]
  },
  {
   "cell_type": "markdown",
   "id": "ac68cf9f",
   "metadata": {},
   "source": [
    "Max depth of 2 seems like the only viable model"
   ]
  },
  {
   "cell_type": "code",
   "execution_count": 59,
   "id": "3a229f18",
   "metadata": {},
   "outputs": [],
   "source": [
    "# pd.read_csv(\"predictions.csv\")"
   ]
  },
  {
   "cell_type": "markdown",
   "id": "29086241",
   "metadata": {},
   "source": [
    "### Random forest with the new_train "
   ]
  },
  {
   "cell_type": "code",
   "execution_count": 60,
   "id": "8badec2e",
   "metadata": {},
   "outputs": [],
   "source": [
    "new_train, validate, test = train_validate_test_split(new_train, target = \"churn_Yes\", seed =123)\n",
    "\n",
    "X_train_new = new_train.drop(columns = [\"churn_Yes\"])\n",
    "y_train_new = new_train.churn_Yes\n",
    "\n",
    "X_validate = validate.drop(columns = [\"churn_Yes\"])\n",
    "y_validate = validate.churn_Yes\n",
    "\n",
    "X_test = test.drop(columns = [\"churn_Yes\"])\n",
    "y_test = test.churn_Yes\n"
   ]
  },
  {
   "cell_type": "code",
   "execution_count": 61,
   "id": "b651dbec",
   "metadata": {
    "scrolled": true
   },
   "outputs": [
    {
     "data": {
      "text/plain": [
       "Index(['senior_citizen', 'tenure', 'monthly_charges', 'total_charges',\n",
       "       'gender_Male', 'partner_Yes', 'dependents_Yes', 'multiple_lines_Yes',\n",
       "       'online_security_Yes', 'online_backup_Yes', 'device_protection_Yes',\n",
       "       'tech_support_Yes', 'streaming_tv_Yes', 'streaming_movies_Yes',\n",
       "       'paperless_billing_Yes', 'contract_type_One_year',\n",
       "       'contract_type_Two_year', 'internet_service_type_Fiber_optic',\n",
       "       'internet_service_type_None', 'payment_type_Credit_card_(automatic)',\n",
       "       'payment_type_Electronic_check', 'payment_type_Mailed_check'],\n",
       "      dtype='object')"
      ]
     },
     "execution_count": 61,
     "metadata": {},
     "output_type": "execute_result"
    }
   ],
   "source": [
    "X_train_new.columns"
   ]
  },
  {
   "cell_type": "code",
   "execution_count": 62,
   "id": "bed82d43",
   "metadata": {},
   "outputs": [
    {
     "data": {
      "text/plain": [
       "Index(['senior_citizen', 'tenure', 'monthly_charges', 'total_charges',\n",
       "       'gender_Male', 'partner_Yes', 'dependents_Yes', 'multiple_lines_Yes',\n",
       "       'online_security_Yes', 'online_backup_Yes', 'device_protection_Yes',\n",
       "       'tech_support_Yes', 'streaming_tv_Yes', 'streaming_movies_Yes',\n",
       "       'paperless_billing_Yes', 'contract_type_One_year',\n",
       "       'contract_type_Two_year', 'internet_service_type_Fiber_optic',\n",
       "       'internet_service_type_None', 'payment_type_Credit_card_(automatic)',\n",
       "       'payment_type_Electronic_check', 'payment_type_Mailed_check'],\n",
       "      dtype='object')"
      ]
     },
     "execution_count": 62,
     "metadata": {},
     "output_type": "execute_result"
    }
   ],
   "source": [
    "X_validate.columns"
   ]
  },
  {
   "cell_type": "code",
   "execution_count": 63,
   "id": "1caa1587",
   "metadata": {},
   "outputs": [],
   "source": [
    "rf_new = RandomForestClassifier(max_depth=5, \n",
    "                            random_state=123)"
   ]
  },
  {
   "cell_type": "code",
   "execution_count": 64,
   "id": "ee8560a4",
   "metadata": {},
   "outputs": [],
   "source": [
    "rf_new = rf_new.fit(X_train_new, y_train_new)"
   ]
  },
  {
   "cell_type": "code",
   "execution_count": 65,
   "id": "e3e4a061",
   "metadata": {},
   "outputs": [
    {
     "name": "stdout",
     "output_type": "stream",
     "text": [
      "[0.01427705 0.16911253 0.12336588 0.13616706 0.00703165 0.00816786\n",
      " 0.00711689 0.00610862 0.03725789 0.00700922 0.00686802 0.04097488\n",
      " 0.00942105 0.0077883  0.02062377 0.03244956 0.12644831 0.12212384\n",
      " 0.05253853 0.00771257 0.05244222 0.00499429]\n"
     ]
    }
   ],
   "source": [
    "print(rf_new.feature_importances_)\n"
   ]
  },
  {
   "cell_type": "code",
   "execution_count": 66,
   "id": "0de3d8d9",
   "metadata": {},
   "outputs": [
    {
     "data": {
      "text/plain": [
       "array([1, 0, 0, ..., 1, 0, 0], dtype=uint8)"
      ]
     },
     "execution_count": 66,
     "metadata": {},
     "output_type": "execute_result"
    }
   ],
   "source": [
    "y_pred_new = rf_new.predict(X_train_new)\n",
    "y_pred_new"
   ]
  },
  {
   "cell_type": "code",
   "execution_count": 67,
   "id": "166cf65c",
   "metadata": {},
   "outputs": [
    {
     "data": {
      "text/plain": [
       "array([[0.34988959, 0.65011041],\n",
       "       [0.52808769, 0.47191231],\n",
       "       [0.92501778, 0.07498222],\n",
       "       [0.41778086, 0.58221914],\n",
       "       [0.63859257, 0.36140743]])"
      ]
     },
     "execution_count": 67,
     "metadata": {},
     "output_type": "execute_result"
    }
   ],
   "source": [
    "y_pred_proba_new = rf_new.predict_proba(X_train_new)\n",
    "y_pred_proba_new[0:5]"
   ]
  },
  {
   "cell_type": "code",
   "execution_count": 68,
   "id": "9dc152bb",
   "metadata": {},
   "outputs": [
    {
     "data": {
      "text/plain": [
       "array([[0.34988959, 0.65011041],\n",
       "       [0.52808769, 0.47191231],\n",
       "       [0.92501778, 0.07498222],\n",
       "       ...,\n",
       "       [0.18741861, 0.81258139],\n",
       "       [0.53576415, 0.46423585],\n",
       "       [0.9654172 , 0.0345828 ]])"
      ]
     },
     "execution_count": 68,
     "metadata": {},
     "output_type": "execute_result"
    }
   ],
   "source": [
    "y_pred_proba_new = rf_new.predict_proba(X_train_new)\n",
    "y_pred_proba_new"
   ]
  },
  {
   "cell_type": "code",
   "execution_count": 69,
   "id": "27c61962",
   "metadata": {
    "scrolled": true
   },
   "outputs": [
    {
     "name": "stdout",
     "output_type": "stream",
     "text": [
      "Accuracy of Decision Tree classifier on validate set: 0.77\n"
     ]
    }
   ],
   "source": [
    "print('Accuracy of Decision Tree classifier on validate set: {:.2f}'\n",
    "     .format(rf_new.score(X_validate, y_validate)))"
   ]
  },
  {
   "cell_type": "code",
   "execution_count": 70,
   "id": "7cbb3375",
   "metadata": {
    "scrolled": true
   },
   "outputs": [
    {
     "name": "stdout",
     "output_type": "stream",
     "text": [
      "              precision    recall  f1-score   support\n",
      "\n",
      "           0       0.79      0.73      0.76       218\n",
      "           1       0.75      0.81      0.78       217\n",
      "\n",
      "    accuracy                           0.77       435\n",
      "   macro avg       0.77      0.77      0.77       435\n",
      "weighted avg       0.77      0.77      0.77       435\n",
      "\n"
     ]
    }
   ],
   "source": [
    "y_pred_new = rf_new.predict(X_validate)\n",
    "\n",
    "# Compare actual y values (from validate) to predicted y_values from the model run on X_validate\n",
    "print(classification_report(y_validate, y_pred_new))"
   ]
  },
  {
   "cell_type": "markdown",
   "id": "b1f7aab2",
   "metadata": {},
   "source": [
    "## model optimization"
   ]
  },
  {
   "cell_type": "code",
   "execution_count": 71,
   "id": "b5ef652d",
   "metadata": {
    "scrolled": false
   },
   "outputs": [
    {
     "data": {
      "text/html": [
       "<div>\n",
       "<style scoped>\n",
       "    .dataframe tbody tr th:only-of-type {\n",
       "        vertical-align: middle;\n",
       "    }\n",
       "\n",
       "    .dataframe tbody tr th {\n",
       "        vertical-align: top;\n",
       "    }\n",
       "\n",
       "    .dataframe thead th {\n",
       "        text-align: right;\n",
       "    }\n",
       "</style>\n",
       "<table border=\"1\" class=\"dataframe\">\n",
       "  <thead>\n",
       "    <tr style=\"text-align: right;\">\n",
       "      <th></th>\n",
       "      <th>max_depth</th>\n",
       "      <th>train_accuracy</th>\n",
       "      <th>validate_accuracy</th>\n",
       "      <th>difference</th>\n",
       "    </tr>\n",
       "  </thead>\n",
       "  <tbody>\n",
       "    <tr>\n",
       "      <th>12</th>\n",
       "      <td>14</td>\n",
       "      <td>0.852087</td>\n",
       "      <td>0.827586</td>\n",
       "      <td>0.024501</td>\n",
       "    </tr>\n",
       "    <tr>\n",
       "      <th>7</th>\n",
       "      <td>9</td>\n",
       "      <td>0.825318</td>\n",
       "      <td>0.825287</td>\n",
       "      <td>0.000030</td>\n",
       "    </tr>\n",
       "    <tr>\n",
       "      <th>14</th>\n",
       "      <td>16</td>\n",
       "      <td>0.849819</td>\n",
       "      <td>0.822989</td>\n",
       "      <td>0.026830</td>\n",
       "    </tr>\n",
       "    <tr>\n",
       "      <th>20</th>\n",
       "      <td>22</td>\n",
       "      <td>0.848004</td>\n",
       "      <td>0.822989</td>\n",
       "      <td>0.025015</td>\n",
       "    </tr>\n",
       "    <tr>\n",
       "      <th>16</th>\n",
       "      <td>18</td>\n",
       "      <td>0.847096</td>\n",
       "      <td>0.822989</td>\n",
       "      <td>0.024108</td>\n",
       "    </tr>\n",
       "    <tr>\n",
       "      <th>22</th>\n",
       "      <td>24</td>\n",
       "      <td>0.848004</td>\n",
       "      <td>0.820690</td>\n",
       "      <td>0.027314</td>\n",
       "    </tr>\n",
       "    <tr>\n",
       "      <th>21</th>\n",
       "      <td>23</td>\n",
       "      <td>0.848004</td>\n",
       "      <td>0.820690</td>\n",
       "      <td>0.027314</td>\n",
       "    </tr>\n",
       "    <tr>\n",
       "      <th>19</th>\n",
       "      <td>21</td>\n",
       "      <td>0.846642</td>\n",
       "      <td>0.820690</td>\n",
       "      <td>0.025953</td>\n",
       "    </tr>\n",
       "    <tr>\n",
       "      <th>18</th>\n",
       "      <td>20</td>\n",
       "      <td>0.847096</td>\n",
       "      <td>0.820690</td>\n",
       "      <td>0.026407</td>\n",
       "    </tr>\n",
       "    <tr>\n",
       "      <th>17</th>\n",
       "      <td>19</td>\n",
       "      <td>0.847550</td>\n",
       "      <td>0.818391</td>\n",
       "      <td>0.029159</td>\n",
       "    </tr>\n",
       "    <tr>\n",
       "      <th>9</th>\n",
       "      <td>11</td>\n",
       "      <td>0.834846</td>\n",
       "      <td>0.818391</td>\n",
       "      <td>0.016455</td>\n",
       "    </tr>\n",
       "    <tr>\n",
       "      <th>15</th>\n",
       "      <td>17</td>\n",
       "      <td>0.847096</td>\n",
       "      <td>0.818391</td>\n",
       "      <td>0.028705</td>\n",
       "    </tr>\n",
       "    <tr>\n",
       "      <th>10</th>\n",
       "      <td>12</td>\n",
       "      <td>0.843920</td>\n",
       "      <td>0.816092</td>\n",
       "      <td>0.027828</td>\n",
       "    </tr>\n",
       "    <tr>\n",
       "      <th>13</th>\n",
       "      <td>15</td>\n",
       "      <td>0.846189</td>\n",
       "      <td>0.816092</td>\n",
       "      <td>0.030097</td>\n",
       "    </tr>\n",
       "    <tr>\n",
       "      <th>11</th>\n",
       "      <td>13</td>\n",
       "      <td>0.848457</td>\n",
       "      <td>0.813793</td>\n",
       "      <td>0.034664</td>\n",
       "    </tr>\n",
       "    <tr>\n",
       "      <th>8</th>\n",
       "      <td>10</td>\n",
       "      <td>0.827586</td>\n",
       "      <td>0.809195</td>\n",
       "      <td>0.018391</td>\n",
       "    </tr>\n",
       "    <tr>\n",
       "      <th>6</th>\n",
       "      <td>8</td>\n",
       "      <td>0.799456</td>\n",
       "      <td>0.800000</td>\n",
       "      <td>-0.000544</td>\n",
       "    </tr>\n",
       "    <tr>\n",
       "      <th>5</th>\n",
       "      <td>7</td>\n",
       "      <td>0.791289</td>\n",
       "      <td>0.790805</td>\n",
       "      <td>0.000484</td>\n",
       "    </tr>\n",
       "    <tr>\n",
       "      <th>4</th>\n",
       "      <td>6</td>\n",
       "      <td>0.779492</td>\n",
       "      <td>0.786207</td>\n",
       "      <td>-0.006715</td>\n",
       "    </tr>\n",
       "    <tr>\n",
       "      <th>3</th>\n",
       "      <td>5</td>\n",
       "      <td>0.763158</td>\n",
       "      <td>0.770115</td>\n",
       "      <td>-0.006957</td>\n",
       "    </tr>\n",
       "    <tr>\n",
       "      <th>1</th>\n",
       "      <td>3</td>\n",
       "      <td>0.746824</td>\n",
       "      <td>0.765517</td>\n",
       "      <td>-0.018693</td>\n",
       "    </tr>\n",
       "    <tr>\n",
       "      <th>2</th>\n",
       "      <td>4</td>\n",
       "      <td>0.750000</td>\n",
       "      <td>0.763218</td>\n",
       "      <td>-0.013218</td>\n",
       "    </tr>\n",
       "    <tr>\n",
       "      <th>0</th>\n",
       "      <td>2</td>\n",
       "      <td>0.739564</td>\n",
       "      <td>0.754023</td>\n",
       "      <td>-0.014459</td>\n",
       "    </tr>\n",
       "  </tbody>\n",
       "</table>\n",
       "</div>"
      ],
      "text/plain": [
       "    max_depth  train_accuracy  validate_accuracy  difference\n",
       "12         14        0.852087           0.827586    0.024501\n",
       "7           9        0.825318           0.825287    0.000030\n",
       "14         16        0.849819           0.822989    0.026830\n",
       "20         22        0.848004           0.822989    0.025015\n",
       "16         18        0.847096           0.822989    0.024108\n",
       "22         24        0.848004           0.820690    0.027314\n",
       "21         23        0.848004           0.820690    0.027314\n",
       "19         21        0.846642           0.820690    0.025953\n",
       "18         20        0.847096           0.820690    0.026407\n",
       "17         19        0.847550           0.818391    0.029159\n",
       "9          11        0.834846           0.818391    0.016455\n",
       "15         17        0.847096           0.818391    0.028705\n",
       "10         12        0.843920           0.816092    0.027828\n",
       "13         15        0.846189           0.816092    0.030097\n",
       "11         13        0.848457           0.813793    0.034664\n",
       "8          10        0.827586           0.809195    0.018391\n",
       "6           8        0.799456           0.800000   -0.000544\n",
       "5           7        0.791289           0.790805    0.000484\n",
       "4           6        0.779492           0.786207   -0.006715\n",
       "3           5        0.763158           0.770115   -0.006957\n",
       "1           3        0.746824           0.765517   -0.018693\n",
       "2           4        0.750000           0.763218   -0.013218\n",
       "0           2        0.739564           0.754023   -0.014459"
      ]
     },
     "execution_count": 71,
     "metadata": {},
     "output_type": "execute_result"
    }
   ],
   "source": [
    "# Let's continue getting loopy, so we can compare in-sample to out-of-sample\n",
    "metrics = []\n",
    "\n",
    "for i in range(2, 25):\n",
    "    # Make the model\n",
    "    rand_forest = RandomForestClassifier(max_depth=i, random_state=123)\n",
    "\n",
    "    # Fit the model (on train and only train)\n",
    "    rand_forest = rand_forest.fit(X_train_new, y_train_new)\n",
    "\n",
    "    # Use the model\n",
    "    # We'll evaluate the model's performance on train, first\n",
    "    in_sample_accuracy = rand_forest.score(X_train, y_train)\n",
    "    \n",
    "    out_of_sample_accuracy = rand_forest.score(X_validate, y_validate)\n",
    "\n",
    "    output = {\n",
    "        \"max_depth\": i,\n",
    "        \"train_accuracy\": in_sample_accuracy,\n",
    "        \"validate_accuracy\": out_of_sample_accuracy\n",
    "    }\n",
    "    \n",
    "    metrics.append(output)\n",
    "    \n",
    "    \n",
    "    \n",
    "df_rf = pd.DataFrame(metrics)\n",
    "df_rf[\"difference\"] = df_rf.train_accuracy - df_rf.validate_accuracy\n",
    "df_rf.sort_values(by= \"validate_accuracy\",ascending=False)\n"
   ]
  },
  {
   "cell_type": "code",
   "execution_count": 72,
   "id": "c67bba7b",
   "metadata": {},
   "outputs": [],
   "source": [
    "# y_predictions = model.predict(X_test)\n",
    "# y_proba = model.predict_proba(X_test)\n",
    "\n",
    "# predictions = pd.DataFrame({\n",
    "#     \"customer_id\": test.customer_id, # since the customer_id is dropped from X_test, we'll use test here since the indexes line up\n",
    "#     \"prediction\": y_predictions,\n",
    "#     \"probability_of_churn\", y_proba\n",
    "# })\n",
    "\n",
    "# predictions.to_csv(\"predictions.csv\")"
   ]
  },
  {
   "cell_type": "markdown",
   "id": "03b655c9",
   "metadata": {},
   "source": [
    "#### Takeaways\n",
    "\n",
    "best model in this has 13 maxdepth samples per leaf and has 86% train accuracy and 79% validate accuracy"
   ]
  },
  {
   "cell_type": "code",
   "execution_count": 73,
   "id": "1b59eb4b",
   "metadata": {},
   "outputs": [
    {
     "data": {
      "image/png": "[encoded data removed]",
      "text/plain": [
       "<Figure size 1152x648 with 1 Axes>"
      ]
     },
     "metadata": {
      "needs_background": "light"
     },
     "output_type": "display_data"
    }
   ],
   "source": [
    "df_rf.set_index('max_depth').plot(figsize = (16,9))\n",
    "plt.ylabel('Accuracy')\n",
    "plt.xticks(np.arange(0,21,1))\n",
    "plt.grid()"
   ]
  },
  {
   "cell_type": "markdown",
   "id": "4a3f635d",
   "metadata": {},
   "source": [
    "## Increasing minimum samples per leaf, decreasing max depth\n"
   ]
  },
  {
   "cell_type": "code",
   "execution_count": 78,
   "id": "402c48b2",
   "metadata": {
    "scrolled": true
   },
   "outputs": [
    {
     "data": {
      "text/html": [
       "<div>\n",
       "<style scoped>\n",
       "    .dataframe tbody tr th:only-of-type {\n",
       "        vertical-align: middle;\n",
       "    }\n",
       "\n",
       "    .dataframe tbody tr th {\n",
       "        vertical-align: top;\n",
       "    }\n",
       "\n",
       "    .dataframe thead th {\n",
       "        text-align: right;\n",
       "    }\n",
       "</style>\n",
       "<table border=\"1\" class=\"dataframe\">\n",
       "  <thead>\n",
       "    <tr style=\"text-align: right;\">\n",
       "      <th></th>\n",
       "      <th>min_samples_per_leaf</th>\n",
       "      <th>max_depth</th>\n",
       "      <th>train_accuracy</th>\n",
       "      <th>validate_accuracy</th>\n",
       "      <th>difference</th>\n",
       "    </tr>\n",
       "  </thead>\n",
       "  <tbody>\n",
       "    <tr>\n",
       "      <th>0</th>\n",
       "      <td>2</td>\n",
       "      <td>18</td>\n",
       "      <td>0.956565</td>\n",
       "      <td>0.813793</td>\n",
       "      <td>0.142772</td>\n",
       "    </tr>\n",
       "    <tr>\n",
       "      <th>1</th>\n",
       "      <td>3</td>\n",
       "      <td>17</td>\n",
       "      <td>0.911155</td>\n",
       "      <td>0.788506</td>\n",
       "      <td>0.122649</td>\n",
       "    </tr>\n",
       "    <tr>\n",
       "      <th>3</th>\n",
       "      <td>5</td>\n",
       "      <td>15</td>\n",
       "      <td>0.865745</td>\n",
       "      <td>0.774713</td>\n",
       "      <td>0.091033</td>\n",
       "    </tr>\n",
       "    <tr>\n",
       "      <th>2</th>\n",
       "      <td>4</td>\n",
       "      <td>16</td>\n",
       "      <td>0.883514</td>\n",
       "      <td>0.772414</td>\n",
       "      <td>0.111101</td>\n",
       "    </tr>\n",
       "    <tr>\n",
       "      <th>4</th>\n",
       "      <td>6</td>\n",
       "      <td>14</td>\n",
       "      <td>0.855874</td>\n",
       "      <td>0.772414</td>\n",
       "      <td>0.083460</td>\n",
       "    </tr>\n",
       "    <tr>\n",
       "      <th>7</th>\n",
       "      <td>9</td>\n",
       "      <td>11</td>\n",
       "      <td>0.824284</td>\n",
       "      <td>0.772414</td>\n",
       "      <td>0.051871</td>\n",
       "    </tr>\n",
       "    <tr>\n",
       "      <th>8</th>\n",
       "      <td>10</td>\n",
       "      <td>10</td>\n",
       "      <td>0.824284</td>\n",
       "      <td>0.772414</td>\n",
       "      <td>0.051871</td>\n",
       "    </tr>\n",
       "    <tr>\n",
       "      <th>12</th>\n",
       "      <td>14</td>\n",
       "      <td>6</td>\n",
       "      <td>0.804541</td>\n",
       "      <td>0.772414</td>\n",
       "      <td>0.032127</td>\n",
       "    </tr>\n",
       "    <tr>\n",
       "      <th>5</th>\n",
       "      <td>7</td>\n",
       "      <td>13</td>\n",
       "      <td>0.838105</td>\n",
       "      <td>0.770115</td>\n",
       "      <td>0.067990</td>\n",
       "    </tr>\n",
       "    <tr>\n",
       "      <th>11</th>\n",
       "      <td>13</td>\n",
       "      <td>7</td>\n",
       "      <td>0.810464</td>\n",
       "      <td>0.770115</td>\n",
       "      <td>0.040349</td>\n",
       "    </tr>\n",
       "    <tr>\n",
       "      <th>15</th>\n",
       "      <td>17</td>\n",
       "      <td>3</td>\n",
       "      <td>0.795656</td>\n",
       "      <td>0.767816</td>\n",
       "      <td>0.027840</td>\n",
       "    </tr>\n",
       "    <tr>\n",
       "      <th>6</th>\n",
       "      <td>8</td>\n",
       "      <td>12</td>\n",
       "      <td>0.836130</td>\n",
       "      <td>0.767816</td>\n",
       "      <td>0.068314</td>\n",
       "    </tr>\n",
       "    <tr>\n",
       "      <th>10</th>\n",
       "      <td>12</td>\n",
       "      <td>8</td>\n",
       "      <td>0.811451</td>\n",
       "      <td>0.767816</td>\n",
       "      <td>0.043635</td>\n",
       "    </tr>\n",
       "    <tr>\n",
       "      <th>9</th>\n",
       "      <td>11</td>\n",
       "      <td>9</td>\n",
       "      <td>0.814413</td>\n",
       "      <td>0.765517</td>\n",
       "      <td>0.048895</td>\n",
       "    </tr>\n",
       "    <tr>\n",
       "      <th>13</th>\n",
       "      <td>15</td>\n",
       "      <td>5</td>\n",
       "      <td>0.801579</td>\n",
       "      <td>0.760920</td>\n",
       "      <td>0.040660</td>\n",
       "    </tr>\n",
       "    <tr>\n",
       "      <th>14</th>\n",
       "      <td>16</td>\n",
       "      <td>4</td>\n",
       "      <td>0.805528</td>\n",
       "      <td>0.758621</td>\n",
       "      <td>0.046907</td>\n",
       "    </tr>\n",
       "    <tr>\n",
       "      <th>16</th>\n",
       "      <td>18</td>\n",
       "      <td>2</td>\n",
       "      <td>0.790721</td>\n",
       "      <td>0.751724</td>\n",
       "      <td>0.038996</td>\n",
       "    </tr>\n",
       "    <tr>\n",
       "      <th>17</th>\n",
       "      <td>19</td>\n",
       "      <td>1</td>\n",
       "      <td>0.769990</td>\n",
       "      <td>0.719540</td>\n",
       "      <td>0.050450</td>\n",
       "    </tr>\n",
       "  </tbody>\n",
       "</table>\n",
       "</div>"
      ],
      "text/plain": [
       "    min_samples_per_leaf  max_depth  train_accuracy  validate_accuracy  \\\n",
       "0                      2         18        0.956565           0.813793   \n",
       "1                      3         17        0.911155           0.788506   \n",
       "3                      5         15        0.865745           0.774713   \n",
       "2                      4         16        0.883514           0.772414   \n",
       "4                      6         14        0.855874           0.772414   \n",
       "7                      9         11        0.824284           0.772414   \n",
       "8                     10         10        0.824284           0.772414   \n",
       "12                    14          6        0.804541           0.772414   \n",
       "5                      7         13        0.838105           0.770115   \n",
       "11                    13          7        0.810464           0.770115   \n",
       "15                    17          3        0.795656           0.767816   \n",
       "6                      8         12        0.836130           0.767816   \n",
       "10                    12          8        0.811451           0.767816   \n",
       "9                     11          9        0.814413           0.765517   \n",
       "13                    15          5        0.801579           0.760920   \n",
       "14                    16          4        0.805528           0.758621   \n",
       "16                    18          2        0.790721           0.751724   \n",
       "17                    19          1        0.769990           0.719540   \n",
       "\n",
       "    difference  \n",
       "0     0.142772  \n",
       "1     0.122649  \n",
       "3     0.091033  \n",
       "2     0.111101  \n",
       "4     0.083460  \n",
       "7     0.051871  \n",
       "8     0.051871  \n",
       "12    0.032127  \n",
       "5     0.067990  \n",
       "11    0.040349  \n",
       "15    0.027840  \n",
       "6     0.068314  \n",
       "10    0.043635  \n",
       "9     0.048895  \n",
       "13    0.040660  \n",
       "14    0.046907  \n",
       "16    0.038996  \n",
       "17    0.050450  "
      ]
     },
     "execution_count": 78,
     "metadata": {},
     "output_type": "execute_result"
    }
   ],
   "source": [
    "# Let's continue getting loopy, so we can compare in-sample to out-of-sample\n",
    "metrics = []\n",
    "max_depth = 20\n",
    "\n",
    "for i in range(2, max_depth):\n",
    "    # Make the model\n",
    "    depth = max_depth - i\n",
    "    n_samples = i\n",
    "    forest_min_samp = RandomForestClassifier(max_depth=depth, min_samples_leaf=n_samples, random_state=123)\n",
    "\n",
    "    # Fit the model (on train and only train)\n",
    "    forest_min_samp = forest_min_samp.fit(X_train_new, y_train_new)\n",
    "\n",
    "    # Use the model\n",
    "    # We'll evaluate the model's performance on train, first\n",
    "    in_sample_accuracy = forest_min_samp.score(X_train_new, y_train_new)\n",
    "    \n",
    "    out_of_sample_accuracy = forest_min_samp.score(X_validate, y_validate)\n",
    "\n",
    "    output = {\n",
    "        \"min_samples_per_leaf\": n_samples,\n",
    "        \"max_depth\": depth,\n",
    "        \"train_accuracy\": in_sample_accuracy,\n",
    "        \"validate_accuracy\": out_of_sample_accuracy\n",
    "    }\n",
    "    \n",
    "    metrics.append(output)\n",
    "    \n",
    "df_min_samp = pd.DataFrame(metrics)\n",
    "df_min_samp[\"difference\"] = df_min_samp.train_accuracy - df_min_samp.validate_accuracy\n",
    "df_min_samp.sort_values(by = \"validate_accuracy\",ascending=False)\n"
   ]
  },
  {
   "cell_type": "markdown",
   "id": "3d59a02f",
   "metadata": {},
   "source": [
    "#### takeaways\n",
    "Increasing minimum samples per leaf, decreasing max depth\n",
    "\n",
    "best model in this  has 7 min samples per leaf and has 84% train accuracy and 77% validate accuracy"
   ]
  },
  {
   "cell_type": "code",
   "execution_count": 76,
   "id": "8dddd391",
   "metadata": {
    "scrolled": true
   },
   "outputs": [
    {
     "data": {
      "image/png": "[encoded data removed]",
      "text/plain": [
       "<Figure size 1152x648 with 1 Axes>"
      ]
     },
     "metadata": {
      "needs_background": "light"
     },
     "output_type": "display_data"
    }
   ],
   "source": [
    "df_min_samp.set_index('max_depth')[['train_accuracy', 'validate_accuracy','difference']].plot(figsize = (16,9))\n",
    "plt.ylabel('Accuracy')\n",
    "plt.xticks(np.arange(0,21,1))\n",
    "plt.grid()"
   ]
  },
  {
   "cell_type": "markdown",
   "id": "abcd5b7f",
   "metadata": {},
   "source": [
    "## Increase both minimum samples per leaf and max depth\n"
   ]
  },
  {
   "cell_type": "code",
   "execution_count": null,
   "id": "c22b3063",
   "metadata": {
    "scrolled": false
   },
   "outputs": [],
   "source": [
    "# Let's continue getting loopy, so we can compare in-sample to out-of-sample\n",
    "metrics = []\n",
    "max_depth = 20\n",
    "\n",
    "for i in range(2, max_depth):\n",
    "    # Make the model\n",
    "    depth = i\n",
    "    n_samples = i\n",
    "    forest_increase_both  = RandomForestClassifier(max_depth=depth, min_samples_leaf=n_samples, random_state=123)\n",
    "\n",
    "    # Fit the model (on train and only train)\n",
    "    forest_increase_both = forest_increase_both.fit(X_train_new, y_train_new)\n",
    "\n",
    "    # Use the model\n",
    "    # We'll evaluate the model's performance on train, first\n",
    "    in_sample_accuracy = forest_increase_both.score(X_train_new, y_train_new)\n",
    "    \n",
    "    out_of_sample_accuracy = forest_increase_both.score(X_validate, y_validate)\n",
    "\n",
    "    output = {\n",
    "        \"min_samples_per_leaf\": n_samples,\n",
    "        \"max_depth\": depth,\n",
    "        \"train_accuracy\": in_sample_accuracy,\n",
    "        \"validate_accuracy\": out_of_sample_accuracy\n",
    "    }\n",
    "    \n",
    "    metrics.append(output)\n",
    "    \n",
    "df_ib = pd.DataFrame(metrics)\n",
    "df_ib[\"difference\"] = df_ib.train_accuracy - df_ib.validate_accuracy\n",
    "\n",
    "df_ib.sort_values(by = \"validate_accuracy\",ascending=False).head(3)\n"
   ]
  },
  {
   "cell_type": "markdown",
   "id": "01893559",
   "metadata": {},
   "source": [
    "#### takeaways\n",
    "Increase both minimum samples per leaf and max depth\n",
    "\n",
    "best model in this has 9 min samples per leaf and has 85% train accuracy and 77% validate accuracy"
   ]
  },
  {
   "cell_type": "code",
   "execution_count": null,
   "id": "595b4c6a",
   "metadata": {},
   "outputs": [],
   "source": [
    "df_ib[['train_accuracy', 'validate_accuracy','difference']].plot()\n",
    "plt.grid()"
   ]
  },
  {
   "cell_type": "markdown",
   "id": "e1747a65",
   "metadata": {},
   "source": [
    "## Fixed depth and increasing min samples leaf\n"
   ]
  },
  {
   "cell_type": "code",
   "execution_count": null,
   "id": "8e39fbcb",
   "metadata": {
    "scrolled": true
   },
   "outputs": [],
   "source": [
    "# Let's continue getting loopy, so we can compare in-sample to out-of-sample\n",
    "metrics = []\n",
    "\n",
    "\n",
    "for i in range(2, 50):\n",
    "    # Make the model\n",
    "    depth = 5\n",
    "    n_samples = i\n",
    "    forest_fd = RandomForestClassifier(max_depth=depth, min_samples_leaf=n_samples, random_state=123)\n",
    "\n",
    "    # Fit the model (on train and only train)\n",
    "    forest_fd = forest_fd.fit(X_train_new, y_train_new)\n",
    "\n",
    "    # Use the model\n",
    "    # We'll evaluate the model's performance on train, first\n",
    "    in_sample_accuracy = forest_fd.score(X_train_new, y_train_new)\n",
    "    \n",
    "    out_of_sample_accuracy = forest_fd.score(X_validate, y_validate)\n",
    "\n",
    "    output = {\n",
    "        \"min_samples_per_leaf\": n_samples,\n",
    "        \"max_depth\": depth,\n",
    "        \"train_accuracy\": in_sample_accuracy,\n",
    "        \"validate_accuracy\": out_of_sample_accuracy\n",
    "    }\n",
    "    \n",
    "    metrics.append(output)\n",
    "    \n",
    "df_fd = pd.DataFrame(metrics)\n",
    "df_fd[\"difference\"] = df_fd.train_accuracy - df_fd.validate_accuracy\n",
    "df_fd.sort_values(by = \"validate_accuracy\",ascending=False).head(3)"
   ]
  },
  {
   "cell_type": "markdown",
   "id": "41dec360",
   "metadata": {},
   "source": [
    "#### Takeaways\n",
    "Fixed depth and increasing min samples leaf\n",
    "\n",
    "best model in this has min samples per leaf and has 85% train accuracy and 77% validate accuracy"
   ]
  },
  {
   "cell_type": "code",
   "execution_count": null,
   "id": "ae36084b",
   "metadata": {},
   "outputs": [],
   "source": [
    "df_fd.set_index('min_samples_per_leaf')[['train_accuracy', 'validate_accuracy', 'difference']].plot(figsize = (16,9))\n",
    "plt.ylabel('Accuracy')\n",
    "plt.xticks(np.arange(0,50,5))\n",
    "plt.grid()"
   ]
  },
  {
   "cell_type": "markdown",
   "id": "4d9b24ff",
   "metadata": {},
   "source": [
    "### KNN MODEL"
   ]
  },
  {
   "cell_type": "code",
   "execution_count": null,
   "id": "cdb45cb4",
   "metadata": {
    "scrolled": true
   },
   "outputs": [],
   "source": [
    "new_train.info()"
   ]
  },
  {
   "cell_type": "markdown",
   "id": "e23c257d",
   "metadata": {},
   "source": [
    "#### Categories neccessary for KNN model\n",
    "I chose to go with the top 5 according to the p values"
   ]
  },
  {
   "cell_type": "code",
   "execution_count": null,
   "id": "69051664",
   "metadata": {
    "scrolled": true
   },
   "outputs": [],
   "source": [
    "p_value_df.sort_values(by = \"p_values\").head()"
   ]
  },
  {
   "cell_type": "code",
   "execution_count": null,
   "id": "54b3e3e6",
   "metadata": {},
   "outputs": [],
   "source": [
    "x_cols = [\"monthly_charges\",\"tenure\",\"internet_service_type_Fiber_optic\", \"internet_service_type_Fiber_optic\",\"contract_type_Two_year\",\"payment_type_Electronic_check\"]\n",
    "y_col = \"churn_Yes\""
   ]
  },
  {
   "cell_type": "code",
   "execution_count": null,
   "id": "05b0e44f",
   "metadata": {},
   "outputs": [],
   "source": [
    "X_train_knn, y_train_knn = new_train[x_cols], new_train[y_col]\n",
    "X_validate_knn, y_validate_knn = validate[x_cols], validate[y_col]\n",
    "X_test_knn, y_test_knn = test[x_cols], test[y_col]"
   ]
  },
  {
   "cell_type": "code",
   "execution_count": null,
   "id": "82fe12c3",
   "metadata": {},
   "outputs": [],
   "source": []
  },
  {
   "cell_type": "code",
   "execution_count": null,
   "id": "a08a7a17",
   "metadata": {},
   "outputs": [],
   "source": [
    "knn10 = KNeighborsClassifier(10)\n",
    "knn10.fit(X_train_knn, y_train_knn)  \n",
    "# CLASSIFICATION METRICS\n",
    "y_pred_knn = knn10.predict(X_train_knn)"
   ]
  },
  {
   "cell_type": "code",
   "execution_count": null,
   "id": "7cecc767",
   "metadata": {},
   "outputs": [],
   "source": [
    "print(classification_report(y_train_knn, y_pred_knn))"
   ]
  },
  {
   "cell_type": "code",
   "execution_count": null,
   "id": "bc2c675a",
   "metadata": {},
   "outputs": [],
   "source": [
    "report = classification_report(y_train_knn, y_pred_knn, output_dict=True)\n",
    "print(\"n_neighbour = 10\")\n",
    "pd.DataFrame(report)"
   ]
  },
  {
   "cell_type": "code",
   "execution_count": null,
   "id": "cf232ca1",
   "metadata": {},
   "outputs": [],
   "source": [
    "pd.crosstab(y_train_knn, y_pred_knn)\n"
   ]
  },
  {
   "cell_type": "markdown",
   "id": "00898a42",
   "metadata": {},
   "source": [
    "### takeaways\n",
    "after trying out a few models, the accuracy on the KNN models were lower and less efficient than the decision trees"
   ]
  },
  {
   "cell_type": "markdown",
   "id": "be4dd9d6",
   "metadata": {},
   "source": [
    "Conclusion\n",
    "A number of factors are contributing to churn. We can attempt to reduce churn by doing the following:\n",
    "\n",
    "Marketing to younger families with dependents and partners.\n",
    "Promoting online security and online backup to our internet customers.\n",
    "Promoting tech support and device protection.\n",
    "Discouraging the use of electronic checks for payment purposes.\n",
    "With additional time dedicated to this project:\n",
    "\n",
    "Investigate fiber optic customers in greater detail and look at possible combinations of factors that might be driving churn within that group.\n",
    "Investigate our pricing structure across various services to identify if our pricing strategy may be suboptimal.\n",
    "Improve the readibility of the report via additional comments, markdown cells, and summary tables.\n",
    "Include a meaningful readme for github containing project description with goals, a data dictionary, project planning, an explanation of how someone else can recreate this project and findings, and key takeaways from this project.\n",
    "Include a data dictionary.\n",
    "Increase the number of models to test, especially focusing on hyperparameters and feature engineering to improve model performance.\n",
    "Included in the github repository is a CSV that contains a prediction for every customer, except for customers with 0 tenure. Those customers have 0% chance to be predicted to have churned."
   ]
  }
 ],
 "metadata": {
  "kernelspec": {
   "display_name": "Python 3 (ipykernel)",
   "language": "python",
   "name": "python3"
  },
  "language_info": {
   "codemirror_mode": {
    "name": "ipython",
    "version": 3
   },
   "file_extension": ".py",
   "mimetype": "text/x-python",
   "name": "python",
   "nbconvert_exporter": "python",
   "pygments_lexer": "ipython3",
   "version": "3.9.7"
  }
 },
 "nbformat": 4,
 "nbformat_minor": 5
}
