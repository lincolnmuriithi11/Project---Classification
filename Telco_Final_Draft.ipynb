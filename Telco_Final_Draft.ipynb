{
 "cells": [
  {
   "cell_type": "code",
   "execution_count": 1,
   "id": "b33502ea",
   "metadata": {},
   "outputs": [],
   "source": [
    "import warnings\n",
    "warnings.filterwarnings(\"ignore\")\n",
    "import pandas as pd\n",
    "import numpy as np\n",
    "\n",
    "from sklearn.model_selection import train_test_split\n",
    "from sklearn.ensemble import RandomForestClassifier\n",
    "from sklearn.metrics import classification_report\n",
    "from sklearn.metrics import confusion_matrix\n",
    "from sklearn import metrics\n",
    "from sklearn.metrics import recall_score\n",
    "from sklearn.tree import DecisionTreeClassifier\n",
    "from sklearn.neighbors import KNeighborsClassifier\n",
    "import matplotlib.pyplot as plt\n",
    "%matplotlib inline\n",
    "import seaborn as sns\n",
    "\n",
    "\n",
    "from pydataset import data\n",
    "\n",
    "import acquire\n",
    "import env\n",
    "\n",
    "from scipy import stats\n",
    "import math\n"
   ]
  },
  {
   "cell_type": "markdown",
   "id": "b15da40b",
   "metadata": {},
   "source": [
    "# Project Objectives\n",
    "The Code up Date Science team has been assigned to find out what causes customers to churn and how can we predict if a customer is about to churn\n",
    "\n"
   ]
  },
  {
   "cell_type": "markdown",
   "id": "1691e552",
   "metadata": {},
   "source": [
    "# Agenda\n",
    "\n",
    "### Data dictionary / Acquisition\n",
    "### Preparation \n",
    "### Exploration\n",
    "### Statistical analysis\n",
    "### Modeling \n",
    "### Prediction \n",
    "### Conclusion"
   ]
  },
  {
   "cell_type": "code",
   "execution_count": 2,
   "id": "5f9b7c58",
   "metadata": {},
   "outputs": [],
   "source": [
    "telco_df = acquire.get_telco_data()\n",
    "train, validate, test = acquire.prep_telco_data(telco_df)\n"
   ]
  },
  {
   "cell_type": "markdown",
   "id": "cf2a3d67",
   "metadata": {},
   "source": [
    "## Data Dictionary/ Acquisition"
   ]
  },
  {
   "cell_type": "markdown",
   "id": "26f6a5d8",
   "metadata": {},
   "source": [
    "1. The data is acquired from the Codeup sql database where specific credentials are neccessary to access it. \n",
    "2. After the data acquisition, the next process was tofigure out any unneccesary/ redundant columns and drop them.\n"
   ]
  },
  {
   "cell_type": "markdown",
   "id": "bba84481",
   "metadata": {},
   "source": [
    "Acquiring the data using the get_telco_data finction"
   ]
  },
  {
   "cell_type": "code",
   "execution_count": 3,
   "id": "c3f612f2",
   "metadata": {
    "scrolled": true
   },
   "outputs": [
    {
     "data": {
      "text/html": [
       "<div>\n",
       "<style scoped>\n",
       "    .dataframe tbody tr th:only-of-type {\n",
       "        vertical-align: middle;\n",
       "    }\n",
       "\n",
       "    .dataframe tbody tr th {\n",
       "        vertical-align: top;\n",
       "    }\n",
       "\n",
       "    .dataframe thead th {\n",
       "        text-align: right;\n",
       "    }\n",
       "</style>\n",
       "<table border=\"1\" class=\"dataframe\">\n",
       "  <thead>\n",
       "    <tr style=\"text-align: right;\">\n",
       "      <th></th>\n",
       "      <th>payment_type_id</th>\n",
       "      <th>internet_service_type_id</th>\n",
       "      <th>contract_type_id</th>\n",
       "      <th>customer_id</th>\n",
       "      <th>gender</th>\n",
       "      <th>senior_citizen</th>\n",
       "      <th>partner</th>\n",
       "      <th>dependents</th>\n",
       "      <th>tenure</th>\n",
       "      <th>phone_service</th>\n",
       "      <th>...</th>\n",
       "      <th>tech_support</th>\n",
       "      <th>streaming_tv</th>\n",
       "      <th>streaming_movies</th>\n",
       "      <th>paperless_billing</th>\n",
       "      <th>monthly_charges</th>\n",
       "      <th>total_charges</th>\n",
       "      <th>churn</th>\n",
       "      <th>contract_type</th>\n",
       "      <th>internet_service_type</th>\n",
       "      <th>payment_type</th>\n",
       "    </tr>\n",
       "  </thead>\n",
       "  <tbody>\n",
       "    <tr>\n",
       "      <th>0</th>\n",
       "      <td>2</td>\n",
       "      <td>1</td>\n",
       "      <td>2</td>\n",
       "      <td>0002-ORFBO</td>\n",
       "      <td>Female</td>\n",
       "      <td>0</td>\n",
       "      <td>Yes</td>\n",
       "      <td>Yes</td>\n",
       "      <td>9</td>\n",
       "      <td>Yes</td>\n",
       "      <td>...</td>\n",
       "      <td>Yes</td>\n",
       "      <td>Yes</td>\n",
       "      <td>No</td>\n",
       "      <td>Yes</td>\n",
       "      <td>65.6</td>\n",
       "      <td>593.3</td>\n",
       "      <td>No</td>\n",
       "      <td>One year</td>\n",
       "      <td>DSL</td>\n",
       "      <td>Mailed check</td>\n",
       "    </tr>\n",
       "    <tr>\n",
       "      <th>1</th>\n",
       "      <td>2</td>\n",
       "      <td>1</td>\n",
       "      <td>1</td>\n",
       "      <td>0003-MKNFE</td>\n",
       "      <td>Male</td>\n",
       "      <td>0</td>\n",
       "      <td>No</td>\n",
       "      <td>No</td>\n",
       "      <td>9</td>\n",
       "      <td>Yes</td>\n",
       "      <td>...</td>\n",
       "      <td>No</td>\n",
       "      <td>No</td>\n",
       "      <td>Yes</td>\n",
       "      <td>No</td>\n",
       "      <td>59.9</td>\n",
       "      <td>542.4</td>\n",
       "      <td>No</td>\n",
       "      <td>Month-to-month</td>\n",
       "      <td>DSL</td>\n",
       "      <td>Mailed check</td>\n",
       "    </tr>\n",
       "    <tr>\n",
       "      <th>2</th>\n",
       "      <td>1</td>\n",
       "      <td>2</td>\n",
       "      <td>1</td>\n",
       "      <td>0004-TLHLJ</td>\n",
       "      <td>Male</td>\n",
       "      <td>0</td>\n",
       "      <td>No</td>\n",
       "      <td>No</td>\n",
       "      <td>4</td>\n",
       "      <td>Yes</td>\n",
       "      <td>...</td>\n",
       "      <td>No</td>\n",
       "      <td>No</td>\n",
       "      <td>No</td>\n",
       "      <td>Yes</td>\n",
       "      <td>73.9</td>\n",
       "      <td>280.85</td>\n",
       "      <td>Yes</td>\n",
       "      <td>Month-to-month</td>\n",
       "      <td>Fiber optic</td>\n",
       "      <td>Electronic check</td>\n",
       "    </tr>\n",
       "    <tr>\n",
       "      <th>3</th>\n",
       "      <td>1</td>\n",
       "      <td>2</td>\n",
       "      <td>1</td>\n",
       "      <td>0011-IGKFF</td>\n",
       "      <td>Male</td>\n",
       "      <td>1</td>\n",
       "      <td>Yes</td>\n",
       "      <td>No</td>\n",
       "      <td>13</td>\n",
       "      <td>Yes</td>\n",
       "      <td>...</td>\n",
       "      <td>No</td>\n",
       "      <td>Yes</td>\n",
       "      <td>Yes</td>\n",
       "      <td>Yes</td>\n",
       "      <td>98.0</td>\n",
       "      <td>1237.85</td>\n",
       "      <td>Yes</td>\n",
       "      <td>Month-to-month</td>\n",
       "      <td>Fiber optic</td>\n",
       "      <td>Electronic check</td>\n",
       "    </tr>\n",
       "    <tr>\n",
       "      <th>4</th>\n",
       "      <td>2</td>\n",
       "      <td>2</td>\n",
       "      <td>1</td>\n",
       "      <td>0013-EXCHZ</td>\n",
       "      <td>Female</td>\n",
       "      <td>1</td>\n",
       "      <td>Yes</td>\n",
       "      <td>No</td>\n",
       "      <td>3</td>\n",
       "      <td>Yes</td>\n",
       "      <td>...</td>\n",
       "      <td>Yes</td>\n",
       "      <td>Yes</td>\n",
       "      <td>No</td>\n",
       "      <td>Yes</td>\n",
       "      <td>83.9</td>\n",
       "      <td>267.4</td>\n",
       "      <td>Yes</td>\n",
       "      <td>Month-to-month</td>\n",
       "      <td>Fiber optic</td>\n",
       "      <td>Mailed check</td>\n",
       "    </tr>\n",
       "  </tbody>\n",
       "</table>\n",
       "<p>5 rows × 24 columns</p>\n",
       "</div>"
      ],
      "text/plain": [
       "   payment_type_id  internet_service_type_id  contract_type_id customer_id  \\\n",
       "0                2                         1                 2  0002-ORFBO   \n",
       "1                2                         1                 1  0003-MKNFE   \n",
       "2                1                         2                 1  0004-TLHLJ   \n",
       "3                1                         2                 1  0011-IGKFF   \n",
       "4                2                         2                 1  0013-EXCHZ   \n",
       "\n",
       "   gender  senior_citizen partner dependents  tenure phone_service  ...  \\\n",
       "0  Female               0     Yes        Yes       9           Yes  ...   \n",
       "1    Male               0      No         No       9           Yes  ...   \n",
       "2    Male               0      No         No       4           Yes  ...   \n",
       "3    Male               1     Yes         No      13           Yes  ...   \n",
       "4  Female               1     Yes         No       3           Yes  ...   \n",
       "\n",
       "  tech_support streaming_tv streaming_movies paperless_billing  \\\n",
       "0          Yes          Yes               No               Yes   \n",
       "1           No           No              Yes                No   \n",
       "2           No           No               No               Yes   \n",
       "3           No          Yes              Yes               Yes   \n",
       "4          Yes          Yes               No               Yes   \n",
       "\n",
       "  monthly_charges total_charges churn   contract_type  internet_service_type  \\\n",
       "0            65.6         593.3    No        One year                    DSL   \n",
       "1            59.9         542.4    No  Month-to-month                    DSL   \n",
       "2            73.9        280.85   Yes  Month-to-month            Fiber optic   \n",
       "3            98.0       1237.85   Yes  Month-to-month            Fiber optic   \n",
       "4            83.9         267.4   Yes  Month-to-month            Fiber optic   \n",
       "\n",
       "       payment_type  \n",
       "0      Mailed check  \n",
       "1      Mailed check  \n",
       "2  Electronic check  \n",
       "3  Electronic check  \n",
       "4      Mailed check  \n",
       "\n",
       "[5 rows x 24 columns]"
      ]
     },
     "execution_count": 3,
     "metadata": {},
     "output_type": "execute_result"
    }
   ],
   "source": [
    "telco_df = acquire.get_telco_data()\n",
    "telco_df.head()"
   ]
  },
  {
   "cell_type": "markdown",
   "id": "adbd5fce",
   "metadata": {},
   "source": [
    "#### available columns on the train dataset"
   ]
  },
  {
   "cell_type": "code",
   "execution_count": 81,
   "id": "c7d13aa3",
   "metadata": {
    "scrolled": true
   },
   "outputs": [
    {
     "data": {
      "text/html": [
       "<div>\n",
       "<style scoped>\n",
       "    .dataframe tbody tr th:only-of-type {\n",
       "        vertical-align: middle;\n",
       "    }\n",
       "\n",
       "    .dataframe tbody tr th {\n",
       "        vertical-align: top;\n",
       "    }\n",
       "\n",
       "    .dataframe thead th {\n",
       "        text-align: right;\n",
       "    }\n",
       "</style>\n",
       "<table border=\"1\" class=\"dataframe\">\n",
       "  <thead>\n",
       "    <tr style=\"text-align: right;\">\n",
       "      <th></th>\n",
       "      <th>senior_citizen</th>\n",
       "      <th>tenure</th>\n",
       "      <th>monthly_charges</th>\n",
       "      <th>total_charges</th>\n",
       "      <th>gender_Male</th>\n",
       "      <th>partner_Yes</th>\n",
       "      <th>dependents_Yes</th>\n",
       "      <th>multiple_lines_Yes</th>\n",
       "      <th>online_security_Yes</th>\n",
       "      <th>online_backup_Yes</th>\n",
       "      <th>...</th>\n",
       "      <th>streaming_tv_Yes</th>\n",
       "      <th>streaming_movies_Yes</th>\n",
       "      <th>paperless_billing_Yes</th>\n",
       "      <th>contract_type_One_year</th>\n",
       "      <th>contract_type_Two_year</th>\n",
       "      <th>internet_service_type_Fiber_optic</th>\n",
       "      <th>internet_service_type_None</th>\n",
       "      <th>payment_type_Credit_card_(automatic)</th>\n",
       "      <th>payment_type_Electronic_check</th>\n",
       "      <th>payment_type_Mailed_check</th>\n",
       "    </tr>\n",
       "  </thead>\n",
       "  <tbody>\n",
       "    <tr>\n",
       "      <th>4758</th>\n",
       "      <td>0</td>\n",
       "      <td>16</td>\n",
       "      <td>20.50</td>\n",
       "      <td>290.549988</td>\n",
       "      <td>1</td>\n",
       "      <td>1</td>\n",
       "      <td>1</td>\n",
       "      <td>0</td>\n",
       "      <td>0</td>\n",
       "      <td>0</td>\n",
       "      <td>...</td>\n",
       "      <td>0</td>\n",
       "      <td>0</td>\n",
       "      <td>0</td>\n",
       "      <td>0</td>\n",
       "      <td>1</td>\n",
       "      <td>0</td>\n",
       "      <td>1</td>\n",
       "      <td>0</td>\n",
       "      <td>0</td>\n",
       "      <td>1</td>\n",
       "    </tr>\n",
       "    <tr>\n",
       "      <th>5151</th>\n",
       "      <td>0</td>\n",
       "      <td>3</td>\n",
       "      <td>69.85</td>\n",
       "      <td>199.850006</td>\n",
       "      <td>0</td>\n",
       "      <td>0</td>\n",
       "      <td>0</td>\n",
       "      <td>0</td>\n",
       "      <td>0</td>\n",
       "      <td>0</td>\n",
       "      <td>...</td>\n",
       "      <td>0</td>\n",
       "      <td>0</td>\n",
       "      <td>1</td>\n",
       "      <td>0</td>\n",
       "      <td>0</td>\n",
       "      <td>1</td>\n",
       "      <td>0</td>\n",
       "      <td>0</td>\n",
       "      <td>1</td>\n",
       "      <td>0</td>\n",
       "    </tr>\n",
       "    <tr>\n",
       "      <th>6610</th>\n",
       "      <td>0</td>\n",
       "      <td>62</td>\n",
       "      <td>94.00</td>\n",
       "      <td>5757.200195</td>\n",
       "      <td>0</td>\n",
       "      <td>0</td>\n",
       "      <td>0</td>\n",
       "      <td>1</td>\n",
       "      <td>0</td>\n",
       "      <td>0</td>\n",
       "      <td>...</td>\n",
       "      <td>1</td>\n",
       "      <td>1</td>\n",
       "      <td>1</td>\n",
       "      <td>1</td>\n",
       "      <td>0</td>\n",
       "      <td>1</td>\n",
       "      <td>0</td>\n",
       "      <td>0</td>\n",
       "      <td>0</td>\n",
       "      <td>0</td>\n",
       "    </tr>\n",
       "    <tr>\n",
       "      <th>5871</th>\n",
       "      <td>1</td>\n",
       "      <td>3</td>\n",
       "      <td>77.00</td>\n",
       "      <td>237.750000</td>\n",
       "      <td>1</td>\n",
       "      <td>0</td>\n",
       "      <td>0</td>\n",
       "      <td>1</td>\n",
       "      <td>0</td>\n",
       "      <td>0</td>\n",
       "      <td>...</td>\n",
       "      <td>0</td>\n",
       "      <td>0</td>\n",
       "      <td>1</td>\n",
       "      <td>0</td>\n",
       "      <td>0</td>\n",
       "      <td>1</td>\n",
       "      <td>0</td>\n",
       "      <td>0</td>\n",
       "      <td>1</td>\n",
       "      <td>0</td>\n",
       "    </tr>\n",
       "    <tr>\n",
       "      <th>3491</th>\n",
       "      <td>0</td>\n",
       "      <td>11</td>\n",
       "      <td>19.25</td>\n",
       "      <td>180.300003</td>\n",
       "      <td>0</td>\n",
       "      <td>1</td>\n",
       "      <td>1</td>\n",
       "      <td>0</td>\n",
       "      <td>0</td>\n",
       "      <td>0</td>\n",
       "      <td>...</td>\n",
       "      <td>0</td>\n",
       "      <td>0</td>\n",
       "      <td>1</td>\n",
       "      <td>0</td>\n",
       "      <td>0</td>\n",
       "      <td>0</td>\n",
       "      <td>1</td>\n",
       "      <td>0</td>\n",
       "      <td>0</td>\n",
       "      <td>1</td>\n",
       "    </tr>\n",
       "  </tbody>\n",
       "</table>\n",
       "<p>5 rows × 23 columns</p>\n",
       "</div>"
      ],
      "text/plain": [
       "      senior_citizen  tenure  monthly_charges  total_charges  gender_Male  \\\n",
       "4758               0      16            20.50     290.549988            1   \n",
       "5151               0       3            69.85     199.850006            0   \n",
       "6610               0      62            94.00    5757.200195            0   \n",
       "5871               1       3            77.00     237.750000            1   \n",
       "3491               0      11            19.25     180.300003            0   \n",
       "\n",
       "      partner_Yes  dependents_Yes  multiple_lines_Yes  online_security_Yes  \\\n",
       "4758            1               1                   0                    0   \n",
       "5151            0               0                   0                    0   \n",
       "6610            0               0                   1                    0   \n",
       "5871            0               0                   1                    0   \n",
       "3491            1               1                   0                    0   \n",
       "\n",
       "      online_backup_Yes  ...  streaming_tv_Yes  streaming_movies_Yes  \\\n",
       "4758                  0  ...                 0                     0   \n",
       "5151                  0  ...                 0                     0   \n",
       "6610                  0  ...                 1                     1   \n",
       "5871                  0  ...                 0                     0   \n",
       "3491                  0  ...                 0                     0   \n",
       "\n",
       "      paperless_billing_Yes  contract_type_One_year  contract_type_Two_year  \\\n",
       "4758                      0                       0                       1   \n",
       "5151                      1                       0                       0   \n",
       "6610                      1                       1                       0   \n",
       "5871                      1                       0                       0   \n",
       "3491                      1                       0                       0   \n",
       "\n",
       "      internet_service_type_Fiber_optic  internet_service_type_None  \\\n",
       "4758                                  0                           1   \n",
       "5151                                  1                           0   \n",
       "6610                                  1                           0   \n",
       "5871                                  1                           0   \n",
       "3491                                  0                           1   \n",
       "\n",
       "      payment_type_Credit_card_(automatic)  payment_type_Electronic_check  \\\n",
       "4758                                     0                              0   \n",
       "5151                                     0                              1   \n",
       "6610                                     0                              0   \n",
       "5871                                     0                              1   \n",
       "3491                                     0                              0   \n",
       "\n",
       "      payment_type_Mailed_check  \n",
       "4758                          1  \n",
       "5151                          0  \n",
       "6610                          0  \n",
       "5871                          0  \n",
       "3491                          1  \n",
       "\n",
       "[5 rows x 23 columns]"
      ]
     },
     "execution_count": 81,
     "metadata": {},
     "output_type": "execute_result"
    }
   ],
   "source": [
    "train.head()"
   ]
  },
  {
   "cell_type": "code",
   "execution_count": null,
   "id": "c13d81f5",
   "metadata": {},
   "outputs": [],
   "source": []
  },
  {
   "cell_type": "markdown",
   "id": "6e6371b8",
   "metadata": {},
   "source": [
    "## Preparation\n",
    "\n",
    "1. Transformed the total_charges column from a string to an integer for workability purposes.\n",
    "2. Discovered nulls in the total_charges column where I opted to drop them since they are less than 1% of the dataset\n",
    "3. Columns to be encoded into boolean values. \"Yes\" = 1, \"No/No internet service\" = 0. (online_security, online_backup, device_protection, tech_support, streaming_tv, streaming_movies) \n",
    "4. Cleaned up some of the columns that had spaces and replaced them with an underscore\n",
    "5. Dropped all the columns that contained id. ('payment_type_id', 'internet_service_type_id','contract_type_id','customer_id','phone_service'). \n",
    "6. Lastly, used get dummies on on boolean columns to ensure ML model capability\n",
    "7. split the data to Train, validate and test\n",
    "8. All the necessary functions are available on the acquire.py file"
   ]
  },
  {
   "cell_type": "markdown",
   "id": "fba08880",
   "metadata": {},
   "source": [
    "Cleaning the telco exploration data"
   ]
  },
  {
   "cell_type": "code",
   "execution_count": 6,
   "id": "25d10e08",
   "metadata": {
    "scrolled": true
   },
   "outputs": [],
   "source": [
    "telco_df = telco_df[telco_df.total_charges!=\" \"]\n",
    "telco_df[\"total_charges\"] = pd.to_numeric(telco_df.total_charges)\n"
   ]
  },
  {
   "cell_type": "markdown",
   "id": "3e370d4e",
   "metadata": {
    "scrolled": true
   },
   "source": [
    "## Data Exploration"
   ]
  },
  {
   "cell_type": "markdown",
   "id": "58e3cf11",
   "metadata": {},
   "source": [
    "### Univariate Analysis\n"
   ]
  },
  {
   "cell_type": "markdown",
   "id": "61987eed",
   "metadata": {},
   "source": [
    "#### Observing the churn rate of different tenure\n",
    "it appears that customers of 10 months and under have a high churn rate"
   ]
  },
  {
   "cell_type": "code",
   "execution_count": 7,
   "id": "135b4c6b",
   "metadata": {
    "scrolled": true
   },
   "outputs": [
    {
     "data": {
      "text/plain": [
       "<matplotlib.legend.Legend at 0x7f835ee57a00>"
      ]
     },
     "execution_count": 7,
     "metadata": {},
     "output_type": "execute_result"
    },
    {
     "data": {
      "image/png": "[encoded data removed]",
      "text/plain": [
       "<Figure size 432x288 with 1 Axes>"
      ]
     },
     "metadata": {
      "needs_background": "light"
     },
     "output_type": "display_data"
    }
   ],
   "source": [
    "tenure_not_churn = telco_df[telco_df.churn == \"No\"].tenure\n",
    "tenure_churn = telco_df[telco_df.churn == \"Yes\"].tenure\n",
    "\n",
    "\n",
    "# plt.ylabel(\"$customers$\")\n",
    "# plt.xlabel (\"$telco_df.tenure$\")\n",
    "# plt.title (\"Tenure and Churned Customers\")\n",
    "plt.hist([tenure_churn, tenure_not_churn], \n",
    "          color = [\"red\", \"blue\"], \n",
    "          label = [\"churn_yes\", \"churn_no\"]) \n",
    "plt.legend()\n"
   ]
  },
  {
   "cell_type": "markdown",
   "id": "d8f58d10",
   "metadata": {},
   "source": [
    "#### Observing the churn rate of different monthly charges\n",
    "it appears that customers that pay 70 ~ 110 have a higher churn rate\n"
   ]
  },
  {
   "cell_type": "code",
   "execution_count": 8,
   "id": "42598921",
   "metadata": {
    "scrolled": true
   },
   "outputs": [
    {
     "data": {
      "text/plain": [
       "<matplotlib.legend.Legend at 0x7f8362e72f10>"
      ]
     },
     "execution_count": 8,
     "metadata": {},
     "output_type": "execute_result"
    },
    {
     "data": {
      "image/png": "[encoded data removed]",
      "text/plain": [
       "<Figure size 432x288 with 1 Axes>"
      ]
     },
     "metadata": {
      "needs_background": "light"
     },
     "output_type": "display_data"
    }
   ],
   "source": [
    "mc_not_churn = telco_df[telco_df.churn == \"No\"].monthly_charges\n",
    "mc_churn = telco_df[telco_df.churn == \"Yes\"].monthly_charges\n",
    "\n",
    "\n",
    "# plt.ylabel(\"$customers$\")\n",
    "# plt.xlabel (\"$telco_df.tenure$\")\n",
    "# plt.title (\"Tenure and Churned Customers\")\n",
    "plt.hist([mc_churn, mc_not_churn], \n",
    "          color = [\"red\", \"blue\"], \n",
    "          label = [\"churn_yes\", \"churn_no\"]) \n",
    "plt.legend()\n"
   ]
  },
  {
   "cell_type": "markdown",
   "id": "310d9551",
   "metadata": {},
   "source": [
    "#### Observing the churn rate of different payment types\n",
    "\n",
    "It appears that payment_type_id 1 (which represents electronic check payment) appears to have the highest churn rate among payment methods"
   ]
  },
  {
   "cell_type": "code",
   "execution_count": 9,
   "id": "34bfd967",
   "metadata": {},
   "outputs": [
    {
     "data": {
      "text/plain": [
       "<matplotlib.legend.Legend at 0x7f8362e9f190>"
      ]
     },
     "execution_count": 9,
     "metadata": {},
     "output_type": "execute_result"
    },
    {
     "data": {
      "image/png": "[encoded data removed]",
      "text/plain": [
       "<Figure size 432x288 with 1 Axes>"
      ]
     },
     "metadata": {
      "needs_background": "light"
     },
     "output_type": "display_data"
    }
   ],
   "source": [
    "payment_type_id_not_churn = telco_df[telco_df.churn == \"No\"].payment_type_id\n",
    "payment_type_id_churn = telco_df[telco_df.churn == \"Yes\"].payment_type_id\n",
    "\n",
    "\n",
    "# plt.ylabel(\"$customers$\")\n",
    "# plt.xlabel (\"$telco_df.tenure$\")\n",
    "# plt.title (\"Tenure and Churned Customers\")\n",
    "plt.hist([payment_type_id_churn, payment_type_id_not_churn], \n",
    "          color = [\"red\", \"blue\"], \n",
    "          label = [\"churn_yes\", \"churn_no\"]) \n",
    "plt.legend()\n"
   ]
  },
  {
   "cell_type": "markdown",
   "id": "d497e717",
   "metadata": {},
   "source": [
    "#### Observing the churn rate of different internet service type\n",
    "It appears that Fiber optic churn customers churn the most in this category"
   ]
  },
  {
   "cell_type": "code",
   "execution_count": 10,
   "id": "865b456d",
   "metadata": {
    "scrolled": true
   },
   "outputs": [
    {
     "data": {
      "text/plain": [
       "<matplotlib.legend.Legend at 0x7f8363022b20>"
      ]
     },
     "execution_count": 10,
     "metadata": {},
     "output_type": "execute_result"
    },
    {
     "data": {
      "image/png": "[encoded data removed]",
      "text/plain": [
       "<Figure size 432x288 with 1 Axes>"
      ]
     },
     "metadata": {
      "needs_background": "light"
     },
     "output_type": "display_data"
    }
   ],
   "source": [
    "is_not_churn = telco_df[telco_df.churn == \"No\"].internet_service_type\n",
    "is_churn = telco_df[telco_df.churn == \"Yes\"].internet_service_type\n",
    "\n",
    "\n",
    "# plt.ylabel(\"$customers$\")\n",
    "# plt.xlabel (\"$telco_df.tenure$\")\n",
    "# plt.title (\"Tenure and Churned Customers\")\n",
    "plt.hist([is_churn, is_not_churn], \n",
    "          color = [\"red\", \"blue\"], \n",
    "          label = [\"churn_yes\", \"churn_no\"]) \n",
    "plt.legend()"
   ]
  },
  {
   "cell_type": "markdown",
   "id": "f19fa623",
   "metadata": {},
   "source": [
    "### Bivariate Analysis\n"
   ]
  },
  {
   "cell_type": "markdown",
   "id": "f5221f42",
   "metadata": {},
   "source": [
    "clear the customer_id column"
   ]
  },
  {
   "cell_type": "code",
   "execution_count": 11,
   "id": "bef8102f",
   "metadata": {},
   "outputs": [],
   "source": [
    "columns_dropped = [\"customer_id\"]\n",
    "telco_df = telco_df.drop(columns = columns_dropped)"
   ]
  },
  {
   "cell_type": "code",
   "execution_count": 12,
   "id": "a78636cc",
   "metadata": {
    "scrolled": false
   },
   "outputs": [
    {
     "data": {
      "image/png": "[encoded data removed]",
      "text/plain": [
       "<Figure size 432x288 with 1 Axes>"
      ]
     },
     "metadata": {
      "needs_background": "light"
     },
     "output_type": "display_data"
    },
    {
     "data": {
      "image/png": "[encoded data removed]",
      "text/plain": [
       "<Figure size 432x288 with 1 Axes>"
      ]
     },
     "metadata": {
      "needs_background": "light"
     },
     "output_type": "display_data"
    },
    {
     "data": {
      "image/png": "[encoded data removed]",
      "text/plain": [
       "<Figure size 432x288 with 1 Axes>"
      ]
     },
     "metadata": {
      "needs_background": "light"
     },
     "output_type": "display_data"
    },
    {
     "data": {
      "image/png": "[encoded data removed]",
      "text/plain": [
       "<Figure size 432x288 with 1 Axes>"
      ]
     },
     "metadata": {
      "needs_background": "light"
     },
     "output_type": "display_data"
    },
    {
     "data": {
      "image/png": "[encoded data removed]",
      "text/plain": [
       "<Figure size 432x288 with 1 Axes>"
      ]
     },
     "metadata": {
      "needs_background": "light"
     },
     "output_type": "display_data"
    },
    {
     "data": {
      "image/png": "[encoded data removed]",
      "text/plain": [
       "<Figure size 432x288 with 1 Axes>"
      ]
     },
     "metadata": {
      "needs_background": "light"
     },
     "output_type": "display_data"
    },
    {
     "data": {
      "image/png": "[encoded data removed]",
      "text/plain": [
       "<Figure size 432x288 with 1 Axes>"
      ]
     },
     "metadata": {
      "needs_background": "light"
     },
     "output_type": "display_data"
    },
    {
     "data": {
      "image/png": "[encoded data removed]",
      "text/plain": [
       "<Figure size 432x288 with 1 Axes>"
      ]
     },
     "metadata": {
      "needs_background": "light"
     },
     "output_type": "display_data"
    },
    {
     "data": {
      "image/png": "[encoded data removed]",
      "text/plain": [
       "<Figure size 432x288 with 1 Axes>"
      ]
     },
     "metadata": {
      "needs_background": "light"
     },
     "output_type": "display_data"
    }
   ],
   "source": [
    "for i, predictor in enumerate(telco_df.drop(columns=['senior_citizen','paperless_billing','churn','tenure', 'gender','total_charges', 'monthly_charges','contract_type_id','payment_type_id', 'internet_service_type_id','contract_type_id','phone_service','streaming_movies','streaming_tv','multiple_lines'])):\n",
    "    plt.figure(i)\n",
    "    plot= sns.countplot(data=telco_df, x=predictor, hue='churn')\n",
    "    plt.setp(plot.get_xticklabels(), rotation=90)    \n",
    "\n"
   ]
  },
  {
   "cell_type": "markdown",
   "id": "067a0023",
   "metadata": {},
   "source": [
    "### Takeaways\n",
    "- It appears that customers with no partners and no dependents have a high churn rate\n",
    "- Customers with no online backup, no online security, no device protection, and no tech support have a higher probability of churning than those who do\n",
    "- month to month contract type, fiber optic internet service and electronic check paypent also have a high probability of churning"
   ]
  },
  {
   "cell_type": "markdown",
   "id": "f20f8d2a",
   "metadata": {},
   "source": [
    "checking statistical features on specific variables "
   ]
  },
  {
   "cell_type": "code",
   "execution_count": 13,
   "id": "614bd490",
   "metadata": {
    "scrolled": true
   },
   "outputs": [
    {
     "data": {
      "text/html": [
       "<div>\n",
       "<style scoped>\n",
       "    .dataframe tbody tr th:only-of-type {\n",
       "        vertical-align: middle;\n",
       "    }\n",
       "\n",
       "    .dataframe tbody tr th {\n",
       "        vertical-align: top;\n",
       "    }\n",
       "\n",
       "    .dataframe thead th {\n",
       "        text-align: right;\n",
       "    }\n",
       "</style>\n",
       "<table border=\"1\" class=\"dataframe\">\n",
       "  <thead>\n",
       "    <tr style=\"text-align: right;\">\n",
       "      <th></th>\n",
       "      <th>count</th>\n",
       "      <th>mean</th>\n",
       "      <th>std</th>\n",
       "      <th>min</th>\n",
       "      <th>25%</th>\n",
       "      <th>50%</th>\n",
       "      <th>75%</th>\n",
       "      <th>max</th>\n",
       "    </tr>\n",
       "  </thead>\n",
       "  <tbody>\n",
       "    <tr>\n",
       "      <th>tenure</th>\n",
       "      <td>7032.0</td>\n",
       "      <td>32.421786</td>\n",
       "      <td>24.545260</td>\n",
       "      <td>1.00</td>\n",
       "      <td>9.0000</td>\n",
       "      <td>29.000</td>\n",
       "      <td>55.0000</td>\n",
       "      <td>72.00</td>\n",
       "    </tr>\n",
       "    <tr>\n",
       "      <th>monthly_charges</th>\n",
       "      <td>7032.0</td>\n",
       "      <td>64.798208</td>\n",
       "      <td>30.085974</td>\n",
       "      <td>18.25</td>\n",
       "      <td>35.5875</td>\n",
       "      <td>70.350</td>\n",
       "      <td>89.8625</td>\n",
       "      <td>118.75</td>\n",
       "    </tr>\n",
       "    <tr>\n",
       "      <th>total_charges</th>\n",
       "      <td>7032.0</td>\n",
       "      <td>2283.300441</td>\n",
       "      <td>2266.771362</td>\n",
       "      <td>18.80</td>\n",
       "      <td>401.4500</td>\n",
       "      <td>1397.475</td>\n",
       "      <td>3794.7375</td>\n",
       "      <td>8684.80</td>\n",
       "    </tr>\n",
       "  </tbody>\n",
       "</table>\n",
       "</div>"
      ],
      "text/plain": [
       "                  count         mean          std    min       25%       50%  \\\n",
       "tenure           7032.0    32.421786    24.545260   1.00    9.0000    29.000   \n",
       "monthly_charges  7032.0    64.798208    30.085974  18.25   35.5875    70.350   \n",
       "total_charges    7032.0  2283.300441  2266.771362  18.80  401.4500  1397.475   \n",
       "\n",
       "                       75%      max  \n",
       "tenure             55.0000    72.00  \n",
       "monthly_charges    89.8625   118.75  \n",
       "total_charges    3794.7375  8684.80  "
      ]
     },
     "execution_count": 13,
     "metadata": {},
     "output_type": "execute_result"
    }
   ],
   "source": [
    "temp_df = telco_df.drop(columns=['senior_citizen','contract_type_id','payment_type_id', 'internet_service_type_id','contract_type_id','phone_service','streaming_movies','streaming_tv','multiple_lines'])\n",
    "temp_df.describe().T\n"
   ]
  },
  {
   "cell_type": "markdown",
   "id": "67f4cb05",
   "metadata": {},
   "source": []
  },
  {
   "cell_type": "markdown",
   "id": "49e17e4e",
   "metadata": {},
   "source": [
    "### Hypothesis testing   \n",
    "    \n"
   ]
  },
  {
   "cell_type": "code",
   "execution_count": 14,
   "id": "9f717732",
   "metadata": {},
   "outputs": [],
   "source": [
    "alpha = 0.05"
   ]
  },
  {
   "cell_type": "markdown",
   "id": "b2eab713",
   "metadata": {},
   "source": [
    "### I used pearsons R for linear relationship/ correlation"
   ]
  },
  {
   "attachments": {},
   "cell_type": "markdown",
   "id": "4a7370c5",
   "metadata": {},
   "source": [
    "### customers with tenure\n",
    "Initial Hypotheses\n",
    "\n",
    "$H_0$: tenure does not have any effect on whether a customer will churn or not\n",
    "\n",
    "$H_1$: customers with tenure below one year(new customers) are  likely to churn more than customers past the year mark \n",
    "\n",
    "Outcome: I rejected the Null Hypothesis; customers under the one-year tenure mark are one of the highest rated churn groups .\n"
   ]
  },
  {
   "attachments": {},
   "cell_type": "markdown",
   "id": "c7feb4b2",
   "metadata": {},
   "source": [
    "### customers with certain payment_type\n",
    "Initial Hypotheses\n",
    "\n",
    "$H_0$: Method of payment does not have any effect on whether a customer will churn or not\n",
    "\n",
    "$H_1$: customers with electronic check type of payment are likely to churn more than any other method of payment \n",
    "\n",
    "Outcome: I rejected the Null Hypothesis; there is a high positive  between the method of payment and the churn rate.\n",
    "\n",
    "\n",
    "\n"
   ]
  },
  {
   "cell_type": "markdown",
   "id": "032a6f2b",
   "metadata": {},
   "source": [
    "##### for the categorical variables I used Chi2"
   ]
  },
  {
   "cell_type": "code",
   "execution_count": 15,
   "id": "a471da8d",
   "metadata": {},
   "outputs": [
    {
     "data": {
      "text/html": [
       "<div>\n",
       "<style scoped>\n",
       "    .dataframe tbody tr th:only-of-type {\n",
       "        vertical-align: middle;\n",
       "    }\n",
       "\n",
       "    .dataframe tbody tr th {\n",
       "        vertical-align: top;\n",
       "    }\n",
       "\n",
       "    .dataframe thead th {\n",
       "        text-align: right;\n",
       "    }\n",
       "</style>\n",
       "<table border=\"1\" class=\"dataframe\">\n",
       "  <thead>\n",
       "    <tr style=\"text-align: right;\">\n",
       "      <th></th>\n",
       "      <th>Unnamed: 0</th>\n",
       "      <th>variables</th>\n",
       "      <th>p_values</th>\n",
       "      <th>hypothesis</th>\n",
       "    </tr>\n",
       "  </thead>\n",
       "  <tbody>\n",
       "    <tr>\n",
       "      <th>0</th>\n",
       "      <td>0</td>\n",
       "      <td>Monthly Charges</td>\n",
       "      <td>1.073627e-35</td>\n",
       "      <td>Reject the null hypothesis</td>\n",
       "    </tr>\n",
       "    <tr>\n",
       "      <th>1</th>\n",
       "      <td>1</td>\n",
       "      <td>Total Charges</td>\n",
       "      <td>1.295547e-34</td>\n",
       "      <td>Reject the null hypothesis</td>\n",
       "    </tr>\n",
       "    <tr>\n",
       "      <th>2</th>\n",
       "      <td>2</td>\n",
       "      <td>Tenure</td>\n",
       "      <td>4.577514e-115</td>\n",
       "      <td>Reject the null hypothesis</td>\n",
       "    </tr>\n",
       "    <tr>\n",
       "      <th>3</th>\n",
       "      <td>3</td>\n",
       "      <td>Partner</td>\n",
       "      <td>3.578599e-19</td>\n",
       "      <td>Reject the null hypothesis</td>\n",
       "    </tr>\n",
       "    <tr>\n",
       "      <th>4</th>\n",
       "      <td>4</td>\n",
       "      <td>Dependents</td>\n",
       "      <td>1.538574e-24</td>\n",
       "      <td>Reject the null hypothesis</td>\n",
       "    </tr>\n",
       "    <tr>\n",
       "      <th>5</th>\n",
       "      <td>5</td>\n",
       "      <td>Multiple Lines</td>\n",
       "      <td>9.985216e-04</td>\n",
       "      <td>Reject the null hypothesis</td>\n",
       "    </tr>\n",
       "    <tr>\n",
       "      <th>6</th>\n",
       "      <td>6</td>\n",
       "      <td>Online Security</td>\n",
       "      <td>1.213117e-29</td>\n",
       "      <td>Reject the null hypothesis</td>\n",
       "    </tr>\n",
       "    <tr>\n",
       "      <th>7</th>\n",
       "      <td>7</td>\n",
       "      <td>Online Backup</td>\n",
       "      <td>2.031212e-05</td>\n",
       "      <td>Reject the null hypothesis</td>\n",
       "    </tr>\n",
       "    <tr>\n",
       "      <th>8</th>\n",
       "      <td>8</td>\n",
       "      <td>Device Protection</td>\n",
       "      <td>1.887008e-04</td>\n",
       "      <td>Reject the null hypothesis</td>\n",
       "    </tr>\n",
       "    <tr>\n",
       "      <th>9</th>\n",
       "      <td>9</td>\n",
       "      <td>Tech Support</td>\n",
       "      <td>2.376481e-23</td>\n",
       "      <td>Reject the null hypothesis</td>\n",
       "    </tr>\n",
       "    <tr>\n",
       "      <th>10</th>\n",
       "      <td>10</td>\n",
       "      <td>Contract Type</td>\n",
       "      <td>7.326182e-257</td>\n",
       "      <td>Reject the null hypothesis</td>\n",
       "    </tr>\n",
       "    <tr>\n",
       "      <th>11</th>\n",
       "      <td>11</td>\n",
       "      <td>Fiber Optic Internt</td>\n",
       "      <td>2.831420e-90</td>\n",
       "      <td>Reject the null hypothesis</td>\n",
       "    </tr>\n",
       "    <tr>\n",
       "      <th>12</th>\n",
       "      <td>12</td>\n",
       "      <td>Electronic Check Payments</td>\n",
       "      <td>7.910588e-75</td>\n",
       "      <td>Reject the null hypothesis</td>\n",
       "    </tr>\n",
       "  </tbody>\n",
       "</table>\n",
       "</div>"
      ],
      "text/plain": [
       "    Unnamed: 0                  variables       p_values  \\\n",
       "0            0            Monthly Charges   1.073627e-35   \n",
       "1            1              Total Charges   1.295547e-34   \n",
       "2            2                     Tenure  4.577514e-115   \n",
       "3            3                    Partner   3.578599e-19   \n",
       "4            4                 Dependents   1.538574e-24   \n",
       "5            5             Multiple Lines   9.985216e-04   \n",
       "6            6            Online Security   1.213117e-29   \n",
       "7            7              Online Backup   2.031212e-05   \n",
       "8            8          Device Protection   1.887008e-04   \n",
       "9            9               Tech Support   2.376481e-23   \n",
       "10          10              Contract Type  7.326182e-257   \n",
       "11          11        Fiber Optic Internt   2.831420e-90   \n",
       "12          12  Electronic Check Payments   7.910588e-75   \n",
       "\n",
       "                    hypothesis  \n",
       "0   Reject the null hypothesis  \n",
       "1   Reject the null hypothesis  \n",
       "2   Reject the null hypothesis  \n",
       "3   Reject the null hypothesis  \n",
       "4   Reject the null hypothesis  \n",
       "5   Reject the null hypothesis  \n",
       "6   Reject the null hypothesis  \n",
       "7   Reject the null hypothesis  \n",
       "8   Reject the null hypothesis  \n",
       "9   Reject the null hypothesis  \n",
       "10  Reject the null hypothesis  \n",
       "11  Reject the null hypothesis  \n",
       "12  Reject the null hypothesis  "
      ]
     },
     "execution_count": 15,
     "metadata": {},
     "output_type": "execute_result"
    }
   ],
   "source": [
    "p_value_df = pd.read_csv('p_value.csv')\n",
    "p_value_df\n"
   ]
  },
  {
   "cell_type": "code",
   "execution_count": null,
   "id": "8ecad027",
   "metadata": {},
   "outputs": [],
   "source": []
  },
  {
   "cell_type": "markdown",
   "id": "f8da0a08",
   "metadata": {},
   "source": [
    "# Feature Modeling"
   ]
  },
  {
   "cell_type": "markdown",
   "id": "655adf47",
   "metadata": {},
   "source": [
    "Correlation Visualization"
   ]
  },
  {
   "cell_type": "code",
   "execution_count": 16,
   "id": "78f7cac2",
   "metadata": {},
   "outputs": [
    {
     "data": {
      "text/plain": [
       "<AxesSubplot:>"
      ]
     },
     "execution_count": 16,
     "metadata": {},
     "output_type": "execute_result"
    },
    {
     "data": {
      "image/png": "[encoded data removed]",
      "text/plain": [
       "<Figure size 2160x1080 with 1 Axes>"
      ]
     },
     "metadata": {
      "needs_background": "light"
     },
     "output_type": "display_data"
    }
   ],
   "source": [
    "plt.figure(figsize=(30,15))\n",
    "train.corr()['churn_Yes'].sort_values(ascending = False).plot(kind='bar')"
   ]
  },
  {
   "cell_type": "markdown",
   "id": "9defae03",
   "metadata": {},
   "source": [
    "evaluation of the current train data set"
   ]
  },
  {
   "cell_type": "code",
   "execution_count": 17,
   "id": "86aab424",
   "metadata": {},
   "outputs": [],
   "source": [
    "from sklearn.model_selection import train_test_split\n",
    "\n",
    "def train_validate_test_split(df, target, seed=123):\n",
    "    '''\n",
    "    This function takes in the telco df, the name of the target variable\n",
    "    (for stratification purposes), and an integer for a setting a seed\n",
    "    and splits the data into train, validate and test. \n",
    "    Test is 20% of the original dataset, validate is .30*.80= 24% of the \n",
    "    original dataset, and train is .70*.80= 56% of the original dataset. \n",
    "    The function returns, in this order, train, validate and test dataframes. \n",
    "    '''\n",
    "    train_validate, test = train_test_split(df, test_size=0.2, \n",
    "                                            random_state=seed, \n",
    "                                            stratify=df[target])\n",
    "    train, validate = train_test_split(train_validate, test_size=0.3, \n",
    "                                       random_state=seed,\n",
    "                                       stratify=train_validate[target])\n",
    "    return train, validate, test"
   ]
  },
  {
   "cell_type": "code",
   "execution_count": 18,
   "id": "abbde99a",
   "metadata": {},
   "outputs": [],
   "source": [
    "train, validate, test = train_validate_test_split(train, target = \"churn_Yes\", seed =123)\n",
    "\n",
    "X_train = train.drop(columns = [\"churn_Yes\"])\n",
    "y_train = train.churn_Yes\n",
    "\n",
    "X_validate = validate.drop(columns = [\"churn_Yes\"])\n",
    "y_validate = validate.churn_Yes\n",
    "\n",
    "X_test = test.drop(columns = [\"churn_Yes\"])\n",
    "y_test = test.churn_Yes"
   ]
  },
  {
   "cell_type": "markdown",
   "id": "5cb40ceb",
   "metadata": {},
   "source": [
    "### Baseline"
   ]
  },
  {
   "cell_type": "code",
   "execution_count": 19,
   "id": "f2693f82",
   "metadata": {},
   "outputs": [
    {
     "name": "stdout",
     "output_type": "stream",
     "text": [
      "Baseline accuracy: 0.73\n"
     ]
    },
    {
     "data": {
      "text/plain": [
       "0    0\n",
       "dtype: uint8"
      ]
     },
     "execution_count": 19,
     "metadata": {},
     "output_type": "execute_result"
    }
   ],
   "source": [
    "import statistics\n",
    "# The mode is a great baseline\n",
    "baseline = y_train.mode()\n",
    "\n",
    "\n",
    "# Produce a boolean array with True representing a match between the baseline prediction and reality\n",
    "matches_baseline_prediction = (y_train == 0)\n",
    "\n",
    "baseline_accuracy = matches_baseline_prediction.mean()\n",
    "print(f\"Baseline accuracy: {round(baseline_accuracy, 2)}\")\n",
    "baseline"
   ]
  },
  {
   "cell_type": "markdown",
   "id": "3f93d1c3",
   "metadata": {},
   "source": []
  },
  {
   "cell_type": "markdown",
   "id": "ebf06d6b",
   "metadata": {},
   "source": [
    "## New Train Dataset "
   ]
  },
  {
   "cell_type": "markdown",
   "id": "c5afbb9f",
   "metadata": {},
   "source": [
    "#### After running some decision tree models with the train data, it appears that the model has an F1 score of ~50 for the churners. \n",
    "#### It appears that churned data is under represented in the model with a ratio of = 0.73: 0.27 on the train dataset\n",
    "#### This prompts for an upsample for the training data set\n"
   ]
  },
  {
   "cell_type": "code",
   "execution_count": 20,
   "id": "d5329fa9",
   "metadata": {},
   "outputs": [
    {
     "data": {
      "text/plain": [
       "0    73.411978\n",
       "1    26.588022\n",
       "Name: churn_Yes, dtype: float64"
      ]
     },
     "execution_count": 20,
     "metadata": {},
     "output_type": "execute_result"
    }
   ],
   "source": [
    "100*train[\"churn_Yes\"].value_counts()/len(train[\"churn_Yes\"])"
   ]
  },
  {
   "cell_type": "code",
   "execution_count": 21,
   "id": "a340eacc",
   "metadata": {},
   "outputs": [],
   "source": [
    "churners = train[train[\"churn_Yes\"] == 1]\n",
    "non_churners  = train[train[\"churn_Yes\"] == 0]\n",
    "\n",
    "from sklearn.utils import resample\n",
    "churners_upsample = resample(churners,\n",
    "             replace=True,\n",
    "             n_samples=len(non_churners),\n",
    "             random_state=42)\n",
    "\n"
   ]
  },
  {
   "cell_type": "markdown",
   "id": "447332d2",
   "metadata": {},
   "source": [
    "Great success"
   ]
  },
  {
   "cell_type": "code",
   "execution_count": 22,
   "id": "3c5b7d1a",
   "metadata": {
    "scrolled": false
   },
   "outputs": [
    {
     "data": {
      "text/plain": [
       "1    50.0\n",
       "0    50.0\n",
       "Name: churn_Yes, dtype: float64"
      ]
     },
     "execution_count": 22,
     "metadata": {},
     "output_type": "execute_result"
    }
   ],
   "source": [
    "new_train = pd.concat([churners_upsample, non_churners])\n",
    "\n",
    "100*new_train[\"churn_Yes\"].value_counts()/len(new_train[\"churn_Yes\"])"
   ]
  },
  {
   "cell_type": "code",
   "execution_count": 23,
   "id": "00f699d6",
   "metadata": {},
   "outputs": [],
   "source": [
    "new_train, validate, test = train_validate_test_split(new_train, target = \"churn_Yes\", seed =123)\n",
    "\n",
    "X_train_new = new_train.drop(columns = [\"churn_Yes\"])\n",
    "y_train_new = new_train.churn_Yes\n",
    "\n",
    "X_validate = validate.drop(columns = [\"churn_Yes\"])\n",
    "y_validate = validate.churn_Yes\n",
    "\n",
    "X_test = test.drop(columns = [\"churn_Yes\"])\n",
    "y_test = test.churn_Yes"
   ]
  },
  {
   "cell_type": "markdown",
   "id": "b884b4bd",
   "metadata": {},
   "source": [
    "### Decision Tree model"
   ]
  },
  {
   "cell_type": "markdown",
   "id": "3f5289c5",
   "metadata": {},
   "source": [
    "  Making the model & Fitting the model \n",
    "  evaluate the model's performance on train, first"
   ]
  },
  {
   "cell_type": "code",
   "execution_count": 24,
   "id": "7d23b830",
   "metadata": {},
   "outputs": [],
   "source": [
    "tree3 = DecisionTreeClassifier(max_depth=3, random_state=123)\n",
    "\n",
    "tree3 = tree3.fit(X_train_new, y_train_new)\n",
    "\n",
    "y_pred_dt = tree3.predict(X_train_new)"
   ]
  },
  {
   "cell_type": "markdown",
   "id": "316641c4",
   "metadata": {},
   "source": [
    "\n",
    "\n"
   ]
  },
  {
   "cell_type": "code",
   "execution_count": null,
   "id": "5ed4abba",
   "metadata": {},
   "outputs": [],
   "source": []
  },
  {
   "cell_type": "markdown",
   "id": "f2a62c29",
   "metadata": {},
   "source": [
    "#### looped multiple  decision trees to find the most optimal models\n",
    "#### max depth of 8 seems like the only viable model"
   ]
  },
  {
   "cell_type": "code",
   "execution_count": 56,
   "id": "8c86587f",
   "metadata": {},
   "outputs": [
    {
     "data": {
      "text/html": [
       "<div>\n",
       "<style scoped>\n",
       "    .dataframe tbody tr th:only-of-type {\n",
       "        vertical-align: middle;\n",
       "    }\n",
       "\n",
       "    .dataframe tbody tr th {\n",
       "        vertical-align: top;\n",
       "    }\n",
       "\n",
       "    .dataframe thead th {\n",
       "        text-align: right;\n",
       "    }\n",
       "</style>\n",
       "<table border=\"1\" class=\"dataframe\">\n",
       "  <thead>\n",
       "    <tr style=\"text-align: right;\">\n",
       "      <th></th>\n",
       "      <th>max_depth</th>\n",
       "      <th>train_accuracy</th>\n",
       "      <th>validate_accuracy</th>\n",
       "      <th>difference</th>\n",
       "    </tr>\n",
       "  </thead>\n",
       "  <tbody>\n",
       "    <tr>\n",
       "      <th>0</th>\n",
       "      <td>2</td>\n",
       "      <td>0.722606</td>\n",
       "      <td>0.701149</td>\n",
       "      <td>0.021457</td>\n",
       "    </tr>\n",
       "    <tr>\n",
       "      <th>2</th>\n",
       "      <td>4</td>\n",
       "      <td>0.784798</td>\n",
       "      <td>0.749425</td>\n",
       "      <td>0.035372</td>\n",
       "    </tr>\n",
       "    <tr>\n",
       "      <th>1</th>\n",
       "      <td>3</td>\n",
       "      <td>0.769003</td>\n",
       "      <td>0.726437</td>\n",
       "      <td>0.042566</td>\n",
       "    </tr>\n",
       "    <tr>\n",
       "      <th>4</th>\n",
       "      <td>6</td>\n",
       "      <td>0.845015</td>\n",
       "      <td>0.770115</td>\n",
       "      <td>0.074900</td>\n",
       "    </tr>\n",
       "    <tr>\n",
       "      <th>3</th>\n",
       "      <td>5</td>\n",
       "      <td>0.815400</td>\n",
       "      <td>0.724138</td>\n",
       "      <td>0.091262</td>\n",
       "    </tr>\n",
       "  </tbody>\n",
       "</table>\n",
       "</div>"
      ],
      "text/plain": [
       "   max_depth  train_accuracy  validate_accuracy  difference\n",
       "0          2        0.722606           0.701149    0.021457\n",
       "2          4        0.784798           0.749425    0.035372\n",
       "1          3        0.769003           0.726437    0.042566\n",
       "4          6        0.845015           0.770115    0.074900\n",
       "3          5        0.815400           0.724138    0.091262"
      ]
     },
     "execution_count": 56,
     "metadata": {},
     "output_type": "execute_result"
    }
   ],
   "source": [
    "df_dt = pd.read_csv(\"decision_tree_df\")\n",
    "df_dt.sort_values(by = \"difference\", axis=0, ascending=True).head()"
   ]
  },
  {
   "cell_type": "markdown",
   "id": "eddecaf5",
   "metadata": {},
   "source": [
    "### Random forest with the new_train "
   ]
  },
  {
   "cell_type": "code",
   "execution_count": 26,
   "id": "8badec2e",
   "metadata": {},
   "outputs": [],
   "source": [
    "new_train, validate, test = train_validate_test_split(new_train, target = \"churn_Yes\", seed =123)\n",
    "\n",
    "X_train_new = new_train.drop(columns = [\"churn_Yes\"])\n",
    "y_train_new = new_train.churn_Yes\n",
    "\n",
    "X_validate = validate.drop(columns = [\"churn_Yes\"])\n",
    "y_validate = validate.churn_Yes\n",
    "\n",
    "X_test = test.drop(columns = [\"churn_Yes\"])\n",
    "y_test = test.churn_Yes\n"
   ]
  },
  {
   "cell_type": "code",
   "execution_count": 27,
   "id": "1caa1587",
   "metadata": {},
   "outputs": [],
   "source": [
    "rf_new = RandomForestClassifier(max_depth=5, \n",
    "                            random_state=123)"
   ]
  },
  {
   "cell_type": "code",
   "execution_count": 28,
   "id": "ee8560a4",
   "metadata": {},
   "outputs": [],
   "source": [
    "rf_new = rf_new.fit(X_train_new, y_train_new)"
   ]
  },
  {
   "cell_type": "code",
   "execution_count": 29,
   "id": "0de3d8d9",
   "metadata": {},
   "outputs": [
    {
     "data": {
      "text/plain": [
       "array([[0.34988959, 0.65011041],\n",
       "       [0.52808769, 0.47191231],\n",
       "       [0.92501778, 0.07498222],\n",
       "       [0.41778086, 0.58221914],\n",
       "       [0.63859257, 0.36140743]])"
      ]
     },
     "execution_count": 29,
     "metadata": {},
     "output_type": "execute_result"
    }
   ],
   "source": [
    "y_pred_new = rf_new.predict(X_train_new)\n",
    "y_pred_proba_new = rf_new.predict_proba(X_train_new)\n",
    "y_pred_proba_new[0:5]"
   ]
  },
  {
   "cell_type": "code",
   "execution_count": 30,
   "id": "9dc152bb",
   "metadata": {},
   "outputs": [],
   "source": [
    "y_pred_proba_new = rf_new.predict_proba(X_train_new)\n"
   ]
  },
  {
   "cell_type": "code",
   "execution_count": 31,
   "id": "27c61962",
   "metadata": {
    "scrolled": true
   },
   "outputs": [
    {
     "name": "stdout",
     "output_type": "stream",
     "text": [
      "Accuracy of Decision Tree classifier on validate set: 0.77\n"
     ]
    }
   ],
   "source": [
    "print('Accuracy of Decision Tree classifier on validate set: {:.2f}'\n",
    "     .format(rf_new.score(X_validate, y_validate)))"
   ]
  },
  {
   "cell_type": "code",
   "execution_count": 32,
   "id": "7cbb3375",
   "metadata": {
    "scrolled": true
   },
   "outputs": [
    {
     "name": "stdout",
     "output_type": "stream",
     "text": [
      "              precision    recall  f1-score   support\n",
      "\n",
      "           0       0.79      0.73      0.76       218\n",
      "           1       0.75      0.81      0.78       217\n",
      "\n",
      "    accuracy                           0.77       435\n",
      "   macro avg       0.77      0.77      0.77       435\n",
      "weighted avg       0.77      0.77      0.77       435\n",
      "\n"
     ]
    }
   ],
   "source": [
    "y_pred_new = rf_new.predict(X_validate)\n",
    "\n",
    "# Compare actual y values (from validate) to predicted y_values from the model run on X_validate\n",
    "print(classification_report(y_validate, y_pred_new))"
   ]
  },
  {
   "cell_type": "markdown",
   "id": "b1f7aab2",
   "metadata": {},
   "source": [
    "## model optimization"
   ]
  },
  {
   "cell_type": "code",
   "execution_count": 64,
   "id": "513d8102",
   "metadata": {},
   "outputs": [
    {
     "data": {
      "text/html": [
       "<div>\n",
       "<style scoped>\n",
       "    .dataframe tbody tr th:only-of-type {\n",
       "        vertical-align: middle;\n",
       "    }\n",
       "\n",
       "    .dataframe tbody tr th {\n",
       "        vertical-align: top;\n",
       "    }\n",
       "\n",
       "    .dataframe thead th {\n",
       "        text-align: right;\n",
       "    }\n",
       "</style>\n",
       "<table border=\"1\" class=\"dataframe\">\n",
       "  <thead>\n",
       "    <tr style=\"text-align: right;\">\n",
       "      <th></th>\n",
       "      <th>max_depth</th>\n",
       "      <th>train_accuracy</th>\n",
       "      <th>validate_accuracy</th>\n",
       "      <th>difference</th>\n",
       "    </tr>\n",
       "  </thead>\n",
       "  <tbody>\n",
       "    <tr>\n",
       "      <th>12</th>\n",
       "      <td>14</td>\n",
       "      <td>0.852087</td>\n",
       "      <td>0.827586</td>\n",
       "      <td>0.024501</td>\n",
       "    </tr>\n",
       "    <tr>\n",
       "      <th>7</th>\n",
       "      <td>9</td>\n",
       "      <td>0.825318</td>\n",
       "      <td>0.825287</td>\n",
       "      <td>0.000030</td>\n",
       "    </tr>\n",
       "    <tr>\n",
       "      <th>14</th>\n",
       "      <td>16</td>\n",
       "      <td>0.849819</td>\n",
       "      <td>0.822989</td>\n",
       "      <td>0.026830</td>\n",
       "    </tr>\n",
       "    <tr>\n",
       "      <th>20</th>\n",
       "      <td>22</td>\n",
       "      <td>0.848004</td>\n",
       "      <td>0.822989</td>\n",
       "      <td>0.025015</td>\n",
       "    </tr>\n",
       "    <tr>\n",
       "      <th>16</th>\n",
       "      <td>18</td>\n",
       "      <td>0.847096</td>\n",
       "      <td>0.822989</td>\n",
       "      <td>0.024108</td>\n",
       "    </tr>\n",
       "  </tbody>\n",
       "</table>\n",
       "</div>"
      ],
      "text/plain": [
       "    max_depth  train_accuracy  validate_accuracy  difference\n",
       "12         14        0.852087           0.827586    0.024501\n",
       "7           9        0.825318           0.825287    0.000030\n",
       "14         16        0.849819           0.822989    0.026830\n",
       "20         22        0.848004           0.822989    0.025015\n",
       "16         18        0.847096           0.822989    0.024108"
      ]
     },
     "execution_count": 64,
     "metadata": {},
     "output_type": "execute_result"
    }
   ],
   "source": [
    "df_rf = pd.read_csv(\"random_forest_df\")\n",
    "df_rf.sort_values(by= \"validate_accuracy\",ascending=False).head()\n"
   ]
  },
  {
   "cell_type": "markdown",
   "id": "3fc11be2",
   "metadata": {},
   "source": [
    "#### Takeaways\n",
    "\n",
    "- best model in this has 14 maxdepth samples per leaf and has 85% train accuracy and 82% validate accuracy\n",
    "- so far this is the best model\n"
   ]
  },
  {
   "cell_type": "code",
   "execution_count": 65,
   "id": "1b59eb4b",
   "metadata": {},
   "outputs": [
    {
     "data": {
      "image/png": "[encoded data removed]",
      "text/plain": [
       "<Figure size 1152x648 with 1 Axes>"
      ]
     },
     "metadata": {
      "needs_background": "light"
     },
     "output_type": "display_data"
    }
   ],
   "source": [
    "df_rf.set_index('max_depth').plot(figsize = (16,9))\n",
    "plt.ylabel('Accuracy')\n",
    "plt.xticks(np.arange(0,21,1))\n",
    "plt.grid()"
   ]
  },
  {
   "cell_type": "markdown",
   "id": "eb21f2dd",
   "metadata": {},
   "source": [
    "### KNN MODEL"
   ]
  },
  {
   "cell_type": "markdown",
   "id": "35f54677",
   "metadata": {},
   "source": [
    "#### Categories neccessary for KNN model\n",
    "I chose to go with the top 5 according to the p values"
   ]
  },
  {
   "cell_type": "code",
   "execution_count": 38,
   "id": "69051664",
   "metadata": {
    "scrolled": true
   },
   "outputs": [
    {
     "data": {
      "text/html": [
       "<div>\n",
       "<style scoped>\n",
       "    .dataframe tbody tr th:only-of-type {\n",
       "        vertical-align: middle;\n",
       "    }\n",
       "\n",
       "    .dataframe tbody tr th {\n",
       "        vertical-align: top;\n",
       "    }\n",
       "\n",
       "    .dataframe thead th {\n",
       "        text-align: right;\n",
       "    }\n",
       "</style>\n",
       "<table border=\"1\" class=\"dataframe\">\n",
       "  <thead>\n",
       "    <tr style=\"text-align: right;\">\n",
       "      <th></th>\n",
       "      <th>Unnamed: 0</th>\n",
       "      <th>variables</th>\n",
       "      <th>p_values</th>\n",
       "      <th>hypothesis</th>\n",
       "    </tr>\n",
       "  </thead>\n",
       "  <tbody>\n",
       "    <tr>\n",
       "      <th>10</th>\n",
       "      <td>10</td>\n",
       "      <td>Contract Type</td>\n",
       "      <td>7.326182e-257</td>\n",
       "      <td>Reject the null hypothesis</td>\n",
       "    </tr>\n",
       "    <tr>\n",
       "      <th>2</th>\n",
       "      <td>2</td>\n",
       "      <td>Tenure</td>\n",
       "      <td>4.577514e-115</td>\n",
       "      <td>Reject the null hypothesis</td>\n",
       "    </tr>\n",
       "    <tr>\n",
       "      <th>11</th>\n",
       "      <td>11</td>\n",
       "      <td>Fiber Optic Internt</td>\n",
       "      <td>2.831420e-90</td>\n",
       "      <td>Reject the null hypothesis</td>\n",
       "    </tr>\n",
       "    <tr>\n",
       "      <th>12</th>\n",
       "      <td>12</td>\n",
       "      <td>Electronic Check Payments</td>\n",
       "      <td>7.910588e-75</td>\n",
       "      <td>Reject the null hypothesis</td>\n",
       "    </tr>\n",
       "    <tr>\n",
       "      <th>0</th>\n",
       "      <td>0</td>\n",
       "      <td>Monthly Charges</td>\n",
       "      <td>1.073627e-35</td>\n",
       "      <td>Reject the null hypothesis</td>\n",
       "    </tr>\n",
       "  </tbody>\n",
       "</table>\n",
       "</div>"
      ],
      "text/plain": [
       "    Unnamed: 0                  variables       p_values  \\\n",
       "10          10              Contract Type  7.326182e-257   \n",
       "2            2                     Tenure  4.577514e-115   \n",
       "11          11        Fiber Optic Internt   2.831420e-90   \n",
       "12          12  Electronic Check Payments   7.910588e-75   \n",
       "0            0            Monthly Charges   1.073627e-35   \n",
       "\n",
       "                    hypothesis  \n",
       "10  Reject the null hypothesis  \n",
       "2   Reject the null hypothesis  \n",
       "11  Reject the null hypothesis  \n",
       "12  Reject the null hypothesis  \n",
       "0   Reject the null hypothesis  "
      ]
     },
     "execution_count": 38,
     "metadata": {},
     "output_type": "execute_result"
    }
   ],
   "source": [
    "p_value_df.sort_values(by = \"p_values\").head()"
   ]
  },
  {
   "cell_type": "code",
   "execution_count": 39,
   "id": "6f2df8f5",
   "metadata": {},
   "outputs": [],
   "source": [
    "x_cols = [\"monthly_charges\",\"tenure\",\"internet_service_type_Fiber_optic\", \"internet_service_type_Fiber_optic\",\"contract_type_Two_year\",\"payment_type_Electronic_check\"]\n",
    "y_col = \"churn_Yes\""
   ]
  },
  {
   "cell_type": "code",
   "execution_count": 40,
   "id": "9e6c24c0",
   "metadata": {},
   "outputs": [],
   "source": [
    "X_train_knn, y_train_knn = new_train[x_cols], new_train[y_col]\n",
    "X_validate_knn, y_validate_knn = validate[x_cols], validate[y_col]\n",
    "X_test_knn, y_test_knn = test[x_cols], test[y_col]"
   ]
  },
  {
   "cell_type": "code",
   "execution_count": null,
   "id": "404b7c02",
   "metadata": {},
   "outputs": [],
   "source": []
  },
  {
   "cell_type": "code",
   "execution_count": 41,
   "id": "a08a7a17",
   "metadata": {},
   "outputs": [],
   "source": [
    "knn10 = KNeighborsClassifier(10)\n",
    "knn10.fit(X_train_knn, y_train_knn)  \n",
    "y_pred_knn = knn10.predict(X_train_knn)"
   ]
  },
  {
   "cell_type": "code",
   "execution_count": 42,
   "id": "2bf1a4fe",
   "metadata": {},
   "outputs": [
    {
     "name": "stdout",
     "output_type": "stream",
     "text": [
      "              precision    recall  f1-score   support\n",
      "\n",
      "           0       0.76      0.79      0.78       506\n",
      "           1       0.79      0.75      0.77       507\n",
      "\n",
      "    accuracy                           0.77      1013\n",
      "   macro avg       0.77      0.77      0.77      1013\n",
      "weighted avg       0.77      0.77      0.77      1013\n",
      "\n"
     ]
    }
   ],
   "source": [
    "print(classification_report(y_train_knn, y_pred_knn))"
   ]
  },
  {
   "cell_type": "code",
   "execution_count": 43,
   "id": "0432a6e0",
   "metadata": {},
   "outputs": [
    {
     "name": "stdout",
     "output_type": "stream",
     "text": [
      "n_neighbour = 10\n"
     ]
    },
    {
     "data": {
      "text/html": [
       "<div>\n",
       "<style scoped>\n",
       "    .dataframe tbody tr th:only-of-type {\n",
       "        vertical-align: middle;\n",
       "    }\n",
       "\n",
       "    .dataframe tbody tr th {\n",
       "        vertical-align: top;\n",
       "    }\n",
       "\n",
       "    .dataframe thead th {\n",
       "        text-align: right;\n",
       "    }\n",
       "</style>\n",
       "<table border=\"1\" class=\"dataframe\">\n",
       "  <thead>\n",
       "    <tr style=\"text-align: right;\">\n",
       "      <th></th>\n",
       "      <th>0</th>\n",
       "      <th>1</th>\n",
       "      <th>accuracy</th>\n",
       "      <th>macro avg</th>\n",
       "      <th>weighted avg</th>\n",
       "    </tr>\n",
       "  </thead>\n",
       "  <tbody>\n",
       "    <tr>\n",
       "      <th>precision</th>\n",
       "      <td>0.762808</td>\n",
       "      <td>0.786008</td>\n",
       "      <td>0.773939</td>\n",
       "      <td>0.774408</td>\n",
       "      <td>0.774420</td>\n",
       "    </tr>\n",
       "    <tr>\n",
       "      <th>recall</th>\n",
       "      <td>0.794466</td>\n",
       "      <td>0.753452</td>\n",
       "      <td>0.773939</td>\n",
       "      <td>0.773959</td>\n",
       "      <td>0.773939</td>\n",
       "    </tr>\n",
       "    <tr>\n",
       "      <th>f1-score</th>\n",
       "      <td>0.778316</td>\n",
       "      <td>0.769386</td>\n",
       "      <td>0.773939</td>\n",
       "      <td>0.773851</td>\n",
       "      <td>0.773846</td>\n",
       "    </tr>\n",
       "    <tr>\n",
       "      <th>support</th>\n",
       "      <td>506.000000</td>\n",
       "      <td>507.000000</td>\n",
       "      <td>0.773939</td>\n",
       "      <td>1013.000000</td>\n",
       "      <td>1013.000000</td>\n",
       "    </tr>\n",
       "  </tbody>\n",
       "</table>\n",
       "</div>"
      ],
      "text/plain": [
       "                    0           1  accuracy    macro avg  weighted avg\n",
       "precision    0.762808    0.786008  0.773939     0.774408      0.774420\n",
       "recall       0.794466    0.753452  0.773939     0.773959      0.773939\n",
       "f1-score     0.778316    0.769386  0.773939     0.773851      0.773846\n",
       "support    506.000000  507.000000  0.773939  1013.000000   1013.000000"
      ]
     },
     "execution_count": 43,
     "metadata": {},
     "output_type": "execute_result"
    }
   ],
   "source": [
    "report = classification_report(y_train_knn, y_pred_knn, output_dict=True)\n",
    "print(\"n_neighbour = 10\")\n",
    "pd.DataFrame(report)"
   ]
  },
  {
   "cell_type": "code",
   "execution_count": 44,
   "id": "b2139381",
   "metadata": {
    "scrolled": true
   },
   "outputs": [
    {
     "data": {
      "text/html": [
       "<div>\n",
       "<style scoped>\n",
       "    .dataframe tbody tr th:only-of-type {\n",
       "        vertical-align: middle;\n",
       "    }\n",
       "\n",
       "    .dataframe tbody tr th {\n",
       "        vertical-align: top;\n",
       "    }\n",
       "\n",
       "    .dataframe thead th {\n",
       "        text-align: right;\n",
       "    }\n",
       "</style>\n",
       "<table border=\"1\" class=\"dataframe\">\n",
       "  <thead>\n",
       "    <tr style=\"text-align: right;\">\n",
       "      <th>col_0</th>\n",
       "      <th>0</th>\n",
       "      <th>1</th>\n",
       "    </tr>\n",
       "    <tr>\n",
       "      <th>churn_Yes</th>\n",
       "      <th></th>\n",
       "      <th></th>\n",
       "    </tr>\n",
       "  </thead>\n",
       "  <tbody>\n",
       "    <tr>\n",
       "      <th>0</th>\n",
       "      <td>402</td>\n",
       "      <td>104</td>\n",
       "    </tr>\n",
       "    <tr>\n",
       "      <th>1</th>\n",
       "      <td>125</td>\n",
       "      <td>382</td>\n",
       "    </tr>\n",
       "  </tbody>\n",
       "</table>\n",
       "</div>"
      ],
      "text/plain": [
       "col_0        0    1\n",
       "churn_Yes          \n",
       "0          402  104\n",
       "1          125  382"
      ]
     },
     "execution_count": 44,
     "metadata": {},
     "output_type": "execute_result"
    }
   ],
   "source": [
    "pd.crosstab(y_train_knn, y_pred_knn)\n"
   ]
  },
  {
   "cell_type": "markdown",
   "id": "7533de3f",
   "metadata": {},
   "source": [
    "### takeaways\n",
    "after running a few models with KNN, the accuracy of the models were lower and less efficient than the decision trees"
   ]
  },
  {
   "cell_type": "markdown",
   "id": "d9023e4e",
   "metadata": {},
   "source": [
    "## Test my best model"
   ]
  },
  {
   "cell_type": "code",
   "execution_count": 68,
   "id": "b1f4caaa",
   "metadata": {},
   "outputs": [],
   "source": [
    "best_model = RandomForestClassifier(max_depth=14, \n",
    "                            random_state=123)"
   ]
  },
  {
   "cell_type": "code",
   "execution_count": 69,
   "id": "aea0e65a",
   "metadata": {},
   "outputs": [],
   "source": [
    "best_model = best_model.fit(X_train_new, y_train_new)"
   ]
  },
  {
   "cell_type": "code",
   "execution_count": null,
   "id": "de4d71d7",
   "metadata": {},
   "outputs": [],
   "source": []
  },
  {
   "cell_type": "code",
   "execution_count": 74,
   "id": "d30abed3",
   "metadata": {},
   "outputs": [],
   "source": [
    "\n",
    "best_model = RandomForestClassifier(max_depth=14, \n",
    "                            random_state=123)\n",
    "best_model = best_model.fit(X_train_new, y_train_new)\n",
    "test.reset_index()\n",
    "\n",
    "y_predictions = best_model.predict(X_test)\n",
    "y_proba = best_model.predict_proba(X_test)\n",
    "y_proba = y_proba[:,1]\n",
    "predictions = pd.DataFrame({\n",
    "    \"index\" : test.index, # since the customer_id is dropped from X_test, we'll use test here since the indexes line up\n",
    "    \"prediction\": y_predictions,\n",
    "    \"probability_of_churn\": y_proba\n",
    "})\n",
    "\n",
    "predictions.to_csv(\"predictions.csv\",index = 0)"
   ]
  },
  {
   "cell_type": "code",
   "execution_count": 75,
   "id": "77a8fe5b",
   "metadata": {},
   "outputs": [
    {
     "data": {
      "text/html": [
       "<div>\n",
       "<style scoped>\n",
       "    .dataframe tbody tr th:only-of-type {\n",
       "        vertical-align: middle;\n",
       "    }\n",
       "\n",
       "    .dataframe tbody tr th {\n",
       "        vertical-align: top;\n",
       "    }\n",
       "\n",
       "    .dataframe thead th {\n",
       "        text-align: right;\n",
       "    }\n",
       "</style>\n",
       "<table border=\"1\" class=\"dataframe\">\n",
       "  <thead>\n",
       "    <tr style=\"text-align: right;\">\n",
       "      <th></th>\n",
       "      <th>index</th>\n",
       "      <th>prediction</th>\n",
       "      <th>probability_of_churn</th>\n",
       "    </tr>\n",
       "  </thead>\n",
       "  <tbody>\n",
       "    <tr>\n",
       "      <th>0</th>\n",
       "      <td>1631</td>\n",
       "      <td>0</td>\n",
       "      <td>0.283333</td>\n",
       "    </tr>\n",
       "    <tr>\n",
       "      <th>1</th>\n",
       "      <td>5569</td>\n",
       "      <td>0</td>\n",
       "      <td>0.020000</td>\n",
       "    </tr>\n",
       "    <tr>\n",
       "      <th>2</th>\n",
       "      <td>1976</td>\n",
       "      <td>1</td>\n",
       "      <td>0.879627</td>\n",
       "    </tr>\n",
       "    <tr>\n",
       "      <th>3</th>\n",
       "      <td>1587</td>\n",
       "      <td>0</td>\n",
       "      <td>0.110000</td>\n",
       "    </tr>\n",
       "    <tr>\n",
       "      <th>4</th>\n",
       "      <td>3964</td>\n",
       "      <td>1</td>\n",
       "      <td>0.898571</td>\n",
       "    </tr>\n",
       "    <tr>\n",
       "      <th>...</th>\n",
       "      <td>...</td>\n",
       "      <td>...</td>\n",
       "      <td>...</td>\n",
       "    </tr>\n",
       "    <tr>\n",
       "      <th>358</th>\n",
       "      <td>943</td>\n",
       "      <td>1</td>\n",
       "      <td>1.000000</td>\n",
       "    </tr>\n",
       "    <tr>\n",
       "      <th>359</th>\n",
       "      <td>1438</td>\n",
       "      <td>0</td>\n",
       "      <td>0.082500</td>\n",
       "    </tr>\n",
       "    <tr>\n",
       "      <th>360</th>\n",
       "      <td>3646</td>\n",
       "      <td>1</td>\n",
       "      <td>0.890000</td>\n",
       "    </tr>\n",
       "    <tr>\n",
       "      <th>361</th>\n",
       "      <td>1794</td>\n",
       "      <td>1</td>\n",
       "      <td>0.990000</td>\n",
       "    </tr>\n",
       "    <tr>\n",
       "      <th>362</th>\n",
       "      <td>3099</td>\n",
       "      <td>0</td>\n",
       "      <td>0.130000</td>\n",
       "    </tr>\n",
       "  </tbody>\n",
       "</table>\n",
       "<p>363 rows × 3 columns</p>\n",
       "</div>"
      ],
      "text/plain": [
       "     index  prediction  probability_of_churn\n",
       "0     1631           0              0.283333\n",
       "1     5569           0              0.020000\n",
       "2     1976           1              0.879627\n",
       "3     1587           0              0.110000\n",
       "4     3964           1              0.898571\n",
       "..     ...         ...                   ...\n",
       "358    943           1              1.000000\n",
       "359   1438           0              0.082500\n",
       "360   3646           1              0.890000\n",
       "361   1794           1              0.990000\n",
       "362   3099           0              0.130000\n",
       "\n",
       "[363 rows x 3 columns]"
      ]
     },
     "execution_count": 75,
     "metadata": {},
     "output_type": "execute_result"
    }
   ],
   "source": [
    "pd.read_csv(\"predictions.csv\")"
   ]
  },
  {
   "cell_type": "code",
   "execution_count": 76,
   "id": "daa18f1a",
   "metadata": {},
   "outputs": [
    {
     "name": "stdout",
     "output_type": "stream",
     "text": [
      "              precision    recall  f1-score   support\n",
      "\n",
      "           0       0.86      0.81      0.84       181\n",
      "           1       0.82      0.87      0.84       182\n",
      "\n",
      "    accuracy                           0.84       363\n",
      "   macro avg       0.84      0.84      0.84       363\n",
      "weighted avg       0.84      0.84      0.84       363\n",
      "\n"
     ]
    }
   ],
   "source": [
    "actual_test = y_test\n",
    "predicted_test = best_model.predict(X_test)\n",
    "print(classification_report(actual_test, predicted_test))\n"
   ]
  },
  {
   "cell_type": "code",
   "execution_count": 77,
   "id": "185e40ea",
   "metadata": {},
   "outputs": [
    {
     "data": {
      "text/plain": [
       "(147, 34, 24, 158)"
      ]
     },
     "execution_count": 77,
     "metadata": {},
     "output_type": "execute_result"
    }
   ],
   "source": [
    "TN, FP, FN, TP = confusion_matrix(actual_test,predicted_test).ravel()\n",
    "ALL = TP + TN + FP + FN\n",
    "\n",
    "TN, FP, FN, TP"
   ]
  },
  {
   "cell_type": "code",
   "execution_count": 78,
   "id": "3c05ad92",
   "metadata": {},
   "outputs": [],
   "source": [
    "def show_scores(TN, FP, FN, TP):\n",
    "    \n",
    "    ALL = TP + TN + FP + FN\n",
    "    \n",
    "    accuracy = (TP + TN)/ALL # How often did the model get it right?\n",
    "    precision = TP/(TP+FP) # What is the quality of a positive prediction made by the model?\n",
    "    recall = TP/(TP+FN) # How many of the true positives were found?   \n",
    "    \n",
    "    true_positive_rate = TP/(TP+FN) # Same as recall, actually\n",
    "    true_negative_rate = TN/(TN+FP) # How many of the true negatives were found?\n",
    "    false_positive_rate = FP/(FP+TN) # How often did we miss the negative and accidentally call it positive?\n",
    "    false_negative_rate = FN/(FN+TP) # How often did we miss the positive and accidentally call it negative?\n",
    "    \n",
    "    f1_score = 2*(precision*recall)/(precision+recall) # Harmonic mean, good for imbalanced data sets\n",
    "    support_pos = TP + FN # Number of actual positives in the sample\n",
    "    support_neg = FP + TN # Number of actual negatives in the sample\n",
    "    \n",
    "    print(f\"Accuracy: {accuracy}\")\n",
    "    print(f\"Precision: {precision}\")\n",
    "    print(f\"Recall: {recall}\")\n",
    "    print(f\"True Positive Rate: {true_positive_rate}\")\n",
    "    print(f\"True Negative Rate: {true_negative_rate}\")\n",
    "    print(f\"False Positive Rate: {false_positive_rate}\")\n",
    "    print(f\"False Negative Rate: {false_negative_rate}\")\n",
    "    print(f\"F1 Score: {f1_score}\")\n",
    "    print(f\"Support (0): {support_pos}\")\n",
    "    print(f\"Support (1): {support_neg}\")"
   ]
  },
  {
   "cell_type": "code",
   "execution_count": 79,
   "id": "01ec2dfd",
   "metadata": {},
   "outputs": [
    {
     "name": "stdout",
     "output_type": "stream",
     "text": [
      "Accuracy: 0.8402203856749312\n",
      "Precision: 0.8229166666666666\n",
      "Recall: 0.8681318681318682\n",
      "True Positive Rate: 0.8681318681318682\n",
      "True Negative Rate: 0.8121546961325967\n",
      "False Positive Rate: 0.1878453038674033\n",
      "False Negative Rate: 0.13186813186813187\n",
      "F1 Score: 0.8449197860962567\n",
      "Support (0): 182\n",
      "Support (1): 181\n"
     ]
    }
   ],
   "source": [
    "show_scores(TN, FP, FN, TP)"
   ]
  },
  {
   "cell_type": "markdown",
   "id": "1d0ad3e6",
   "metadata": {},
   "source": [
    "## Conclusion\n",
    "#### These are the recommendations after observing the factors that contribute to churn \n",
    "\n",
    "#### incentivise month to month contracts to switch to yearly\n",
    "#### discontinue/discourage electronic check payment system for payment purposes.\n",
    "#### have package deals and promote online security, online backup to internet customers.\n",
    "#### invest in tech support and investigate more on customer satisfaction with the service\n",
    "#### fiber optic customers have a high churn rate, if possible we can try to collect industry data and see why the customer have a propensity to churn\n",
    "#### lastly reducing monthly payments might also decrease the churn rate since there is a high correlation between churning and higher monthly payments "
   ]
  }
 ],
 "metadata": {
  "kernelspec": {
   "display_name": "Python 3 (ipykernel)",
   "language": "python",
   "name": "python3"
  },
  "language_info": {
   "codemirror_mode": {
    "name": "ipython",
    "version": 3
   },
   "file_extension": ".py",
   "mimetype": "text/x-python",
   "name": "python",
   "nbconvert_exporter": "python",
   "pygments_lexer": "ipython3",
   "version": "3.9.7"
  }
 },
 "nbformat": 4,
 "nbformat_minor": 5
}
