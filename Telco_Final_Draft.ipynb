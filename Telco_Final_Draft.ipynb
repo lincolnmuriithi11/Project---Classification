{
 "cells": [
  {
   "cell_type": "code",
   "execution_count": 1,
   "id": "b33502ea",
   "metadata": {},
   "outputs": [],
   "source": [
    "import warnings\n",
    "warnings.filterwarnings(\"ignore\")\n",
    "import pandas as pd\n",
    "import numpy as np\n",
    "\n",
    "from sklearn.model_selection import train_test_split\n",
    "from sklearn.ensemble import RandomForestClassifier\n",
    "from sklearn.metrics import classification_report\n",
    "from sklearn.metrics import confusion_matrix\n",
    "from sklearn import metrics\n",
    "from sklearn.metrics import recall_score\n",
    "from sklearn.tree import DecisionTreeClassifier\n",
    "from sklearn.neighbors import KNeighborsClassifier\n",
    "import matplotlib.pyplot as plt\n",
    "%matplotlib inline\n",
    "import seaborn as sns\n",
    "\n",
    "\n",
    "from pydataset import data\n",
    "\n",
    "import acquire\n",
    "import env\n",
    "\n",
    "from scipy import stats\n",
    "import math\n"
   ]
  },
  {
   "cell_type": "markdown",
   "id": "74966cb4",
   "metadata": {},
   "source": [
    "# Churn up for what !!!"
   ]
  },
  {
   "cell_type": "markdown",
   "id": "1691e552",
   "metadata": {},
   "source": [
    "## Project Objectives\n",
    "\n",
    "- #### Determine what are the key drivers leading to customer churn\n",
    "\n",
    "- #### Build a Machine learning model that is able to predict customers with a propensity to churn\n",
    "\n",
    "- #### Draw takeaways from the data\n",
    "\n",
    "- #### Issue recommendations"
   ]
  },
  {
   "cell_type": "markdown",
   "id": "715f91d9",
   "metadata": {},
   "source": [
    "## Methodology\n",
    "\n",
    "- #### acquire data \n",
    "\n",
    "- #### prepare/ clean data\n",
    "\n",
    "- #### explore\n",
    "\n",
    "- #### hypothesis testing\n",
    "\n",
    "- #### create machine learning models\n",
    "\n",
    "- #### conclusions and recommendations\n"
   ]
  },
  {
   "cell_type": "code",
   "execution_count": 2,
   "id": "5f9b7c58",
   "metadata": {},
   "outputs": [],
   "source": [
    "telco_df = acquire.get_telco_data()\n",
    "train, validate, test = acquire.prep_telco_data(telco_df)\n"
   ]
  },
  {
   "cell_type": "markdown",
   "id": "cf2a3d67",
   "metadata": {},
   "source": [
    "## Data Dictionary/ Acquisition"
   ]
  },
  {
   "cell_type": "markdown",
   "id": "26f6a5d8",
   "metadata": {},
   "source": [
    "- #### the data is acquired from the Codeup SQL database where specific credentials are neccessary to access it. \n",
    "- #### below are the snippets of the data (the functions are located in the acquire.py file)"
   ]
  },
  {
   "cell_type": "code",
   "execution_count": 50,
   "id": "9f1ca5b5",
   "metadata": {},
   "outputs": [],
   "source": [
    "telco_df = acquire.get_telco_data()\n",
    "train, validate, test = acquire.prep_telco_data(telco_df)"
   ]
  },
  {
   "cell_type": "code",
   "execution_count": 51,
   "id": "c3f612f2",
   "metadata": {
    "scrolled": true
   },
   "outputs": [
    {
     "data": {
      "text/html": [
       "<div>\n",
       "<style scoped>\n",
       "    .dataframe tbody tr th:only-of-type {\n",
       "        vertical-align: middle;\n",
       "    }\n",
       "\n",
       "    .dataframe tbody tr th {\n",
       "        vertical-align: top;\n",
       "    }\n",
       "\n",
       "    .dataframe thead th {\n",
       "        text-align: right;\n",
       "    }\n",
       "</style>\n",
       "<table border=\"1\" class=\"dataframe\">\n",
       "  <thead>\n",
       "    <tr style=\"text-align: right;\">\n",
       "      <th></th>\n",
       "      <th>payment_type_id</th>\n",
       "      <th>internet_service_type_id</th>\n",
       "      <th>contract_type_id</th>\n",
       "      <th>customer_id</th>\n",
       "      <th>gender</th>\n",
       "      <th>senior_citizen</th>\n",
       "      <th>partner</th>\n",
       "      <th>dependents</th>\n",
       "      <th>tenure</th>\n",
       "      <th>phone_service</th>\n",
       "      <th>...</th>\n",
       "      <th>tech_support</th>\n",
       "      <th>streaming_tv</th>\n",
       "      <th>streaming_movies</th>\n",
       "      <th>paperless_billing</th>\n",
       "      <th>monthly_charges</th>\n",
       "      <th>total_charges</th>\n",
       "      <th>churn</th>\n",
       "      <th>contract_type</th>\n",
       "      <th>internet_service_type</th>\n",
       "      <th>payment_type</th>\n",
       "    </tr>\n",
       "  </thead>\n",
       "  <tbody>\n",
       "    <tr>\n",
       "      <th>0</th>\n",
       "      <td>2</td>\n",
       "      <td>1</td>\n",
       "      <td>2</td>\n",
       "      <td>0002-ORFBO</td>\n",
       "      <td>Female</td>\n",
       "      <td>0</td>\n",
       "      <td>Yes</td>\n",
       "      <td>Yes</td>\n",
       "      <td>9</td>\n",
       "      <td>Yes</td>\n",
       "      <td>...</td>\n",
       "      <td>Yes</td>\n",
       "      <td>Yes</td>\n",
       "      <td>No</td>\n",
       "      <td>Yes</td>\n",
       "      <td>65.6</td>\n",
       "      <td>593.3</td>\n",
       "      <td>No</td>\n",
       "      <td>One year</td>\n",
       "      <td>DSL</td>\n",
       "      <td>Mailed check</td>\n",
       "    </tr>\n",
       "    <tr>\n",
       "      <th>1</th>\n",
       "      <td>2</td>\n",
       "      <td>1</td>\n",
       "      <td>1</td>\n",
       "      <td>0003-MKNFE</td>\n",
       "      <td>Male</td>\n",
       "      <td>0</td>\n",
       "      <td>No</td>\n",
       "      <td>No</td>\n",
       "      <td>9</td>\n",
       "      <td>Yes</td>\n",
       "      <td>...</td>\n",
       "      <td>No</td>\n",
       "      <td>No</td>\n",
       "      <td>Yes</td>\n",
       "      <td>No</td>\n",
       "      <td>59.9</td>\n",
       "      <td>542.4</td>\n",
       "      <td>No</td>\n",
       "      <td>Month-to-month</td>\n",
       "      <td>DSL</td>\n",
       "      <td>Mailed check</td>\n",
       "    </tr>\n",
       "    <tr>\n",
       "      <th>2</th>\n",
       "      <td>1</td>\n",
       "      <td>2</td>\n",
       "      <td>1</td>\n",
       "      <td>0004-TLHLJ</td>\n",
       "      <td>Male</td>\n",
       "      <td>0</td>\n",
       "      <td>No</td>\n",
       "      <td>No</td>\n",
       "      <td>4</td>\n",
       "      <td>Yes</td>\n",
       "      <td>...</td>\n",
       "      <td>No</td>\n",
       "      <td>No</td>\n",
       "      <td>No</td>\n",
       "      <td>Yes</td>\n",
       "      <td>73.9</td>\n",
       "      <td>280.85</td>\n",
       "      <td>Yes</td>\n",
       "      <td>Month-to-month</td>\n",
       "      <td>Fiber optic</td>\n",
       "      <td>Electronic check</td>\n",
       "    </tr>\n",
       "    <tr>\n",
       "      <th>3</th>\n",
       "      <td>1</td>\n",
       "      <td>2</td>\n",
       "      <td>1</td>\n",
       "      <td>0011-IGKFF</td>\n",
       "      <td>Male</td>\n",
       "      <td>1</td>\n",
       "      <td>Yes</td>\n",
       "      <td>No</td>\n",
       "      <td>13</td>\n",
       "      <td>Yes</td>\n",
       "      <td>...</td>\n",
       "      <td>No</td>\n",
       "      <td>Yes</td>\n",
       "      <td>Yes</td>\n",
       "      <td>Yes</td>\n",
       "      <td>98.0</td>\n",
       "      <td>1237.85</td>\n",
       "      <td>Yes</td>\n",
       "      <td>Month-to-month</td>\n",
       "      <td>Fiber optic</td>\n",
       "      <td>Electronic check</td>\n",
       "    </tr>\n",
       "    <tr>\n",
       "      <th>4</th>\n",
       "      <td>2</td>\n",
       "      <td>2</td>\n",
       "      <td>1</td>\n",
       "      <td>0013-EXCHZ</td>\n",
       "      <td>Female</td>\n",
       "      <td>1</td>\n",
       "      <td>Yes</td>\n",
       "      <td>No</td>\n",
       "      <td>3</td>\n",
       "      <td>Yes</td>\n",
       "      <td>...</td>\n",
       "      <td>Yes</td>\n",
       "      <td>Yes</td>\n",
       "      <td>No</td>\n",
       "      <td>Yes</td>\n",
       "      <td>83.9</td>\n",
       "      <td>267.4</td>\n",
       "      <td>Yes</td>\n",
       "      <td>Month-to-month</td>\n",
       "      <td>Fiber optic</td>\n",
       "      <td>Mailed check</td>\n",
       "    </tr>\n",
       "  </tbody>\n",
       "</table>\n",
       "<p>5 rows × 24 columns</p>\n",
       "</div>"
      ],
      "text/plain": [
       "   payment_type_id  internet_service_type_id  contract_type_id customer_id  \\\n",
       "0                2                         1                 2  0002-ORFBO   \n",
       "1                2                         1                 1  0003-MKNFE   \n",
       "2                1                         2                 1  0004-TLHLJ   \n",
       "3                1                         2                 1  0011-IGKFF   \n",
       "4                2                         2                 1  0013-EXCHZ   \n",
       "\n",
       "   gender  senior_citizen partner dependents  tenure phone_service  ...  \\\n",
       "0  Female               0     Yes        Yes       9           Yes  ...   \n",
       "1    Male               0      No         No       9           Yes  ...   \n",
       "2    Male               0      No         No       4           Yes  ...   \n",
       "3    Male               1     Yes         No      13           Yes  ...   \n",
       "4  Female               1     Yes         No       3           Yes  ...   \n",
       "\n",
       "  tech_support streaming_tv streaming_movies paperless_billing  \\\n",
       "0          Yes          Yes               No               Yes   \n",
       "1           No           No              Yes                No   \n",
       "2           No           No               No               Yes   \n",
       "3           No          Yes              Yes               Yes   \n",
       "4          Yes          Yes               No               Yes   \n",
       "\n",
       "  monthly_charges total_charges churn   contract_type  internet_service_type  \\\n",
       "0            65.6         593.3    No        One year                    DSL   \n",
       "1            59.9         542.4    No  Month-to-month                    DSL   \n",
       "2            73.9        280.85   Yes  Month-to-month            Fiber optic   \n",
       "3            98.0       1237.85   Yes  Month-to-month            Fiber optic   \n",
       "4            83.9         267.4   Yes  Month-to-month            Fiber optic   \n",
       "\n",
       "       payment_type  \n",
       "0      Mailed check  \n",
       "1      Mailed check  \n",
       "2  Electronic check  \n",
       "3  Electronic check  \n",
       "4      Mailed check  \n",
       "\n",
       "[5 rows x 24 columns]"
      ]
     },
     "execution_count": 51,
     "metadata": {},
     "output_type": "execute_result"
    }
   ],
   "source": [
    "telco_df.head()"
   ]
  },
  {
   "cell_type": "code",
   "execution_count": 4,
   "id": "c7d13aa3",
   "metadata": {
    "scrolled": true
   },
   "outputs": [
    {
     "data": {
      "text/html": [
       "<div>\n",
       "<style scoped>\n",
       "    .dataframe tbody tr th:only-of-type {\n",
       "        vertical-align: middle;\n",
       "    }\n",
       "\n",
       "    .dataframe tbody tr th {\n",
       "        vertical-align: top;\n",
       "    }\n",
       "\n",
       "    .dataframe thead th {\n",
       "        text-align: right;\n",
       "    }\n",
       "</style>\n",
       "<table border=\"1\" class=\"dataframe\">\n",
       "  <thead>\n",
       "    <tr style=\"text-align: right;\">\n",
       "      <th></th>\n",
       "      <th>senior_citizen</th>\n",
       "      <th>tenure</th>\n",
       "      <th>monthly_charges</th>\n",
       "      <th>total_charges</th>\n",
       "      <th>gender_Male</th>\n",
       "      <th>partner_Yes</th>\n",
       "      <th>dependents_Yes</th>\n",
       "      <th>multiple_lines_Yes</th>\n",
       "      <th>online_security_Yes</th>\n",
       "      <th>online_backup_Yes</th>\n",
       "      <th>...</th>\n",
       "      <th>streaming_tv_Yes</th>\n",
       "      <th>streaming_movies_Yes</th>\n",
       "      <th>paperless_billing_Yes</th>\n",
       "      <th>contract_type_One_year</th>\n",
       "      <th>contract_type_Two_year</th>\n",
       "      <th>internet_service_type_Fiber_optic</th>\n",
       "      <th>internet_service_type_None</th>\n",
       "      <th>payment_type_Credit_card_(automatic)</th>\n",
       "      <th>payment_type_Electronic_check</th>\n",
       "      <th>payment_type_Mailed_check</th>\n",
       "    </tr>\n",
       "  </thead>\n",
       "  <tbody>\n",
       "    <tr>\n",
       "      <th>5919</th>\n",
       "      <td>0</td>\n",
       "      <td>58</td>\n",
       "      <td>71.10</td>\n",
       "      <td>4299.200195</td>\n",
       "      <td>0</td>\n",
       "      <td>0</td>\n",
       "      <td>0</td>\n",
       "      <td>1</td>\n",
       "      <td>1</td>\n",
       "      <td>1</td>\n",
       "      <td>...</td>\n",
       "      <td>0</td>\n",
       "      <td>0</td>\n",
       "      <td>1</td>\n",
       "      <td>1</td>\n",
       "      <td>0</td>\n",
       "      <td>0</td>\n",
       "      <td>0</td>\n",
       "      <td>1</td>\n",
       "      <td>0</td>\n",
       "      <td>0</td>\n",
       "    </tr>\n",
       "    <tr>\n",
       "      <th>1915</th>\n",
       "      <td>0</td>\n",
       "      <td>71</td>\n",
       "      <td>85.45</td>\n",
       "      <td>6028.950195</td>\n",
       "      <td>1</td>\n",
       "      <td>0</td>\n",
       "      <td>1</td>\n",
       "      <td>1</td>\n",
       "      <td>1</td>\n",
       "      <td>1</td>\n",
       "      <td>...</td>\n",
       "      <td>0</td>\n",
       "      <td>0</td>\n",
       "      <td>1</td>\n",
       "      <td>1</td>\n",
       "      <td>0</td>\n",
       "      <td>1</td>\n",
       "      <td>0</td>\n",
       "      <td>1</td>\n",
       "      <td>0</td>\n",
       "      <td>0</td>\n",
       "    </tr>\n",
       "    <tr>\n",
       "      <th>5054</th>\n",
       "      <td>0</td>\n",
       "      <td>35</td>\n",
       "      <td>25.75</td>\n",
       "      <td>882.549988</td>\n",
       "      <td>0</td>\n",
       "      <td>1</td>\n",
       "      <td>1</td>\n",
       "      <td>1</td>\n",
       "      <td>0</td>\n",
       "      <td>0</td>\n",
       "      <td>...</td>\n",
       "      <td>0</td>\n",
       "      <td>0</td>\n",
       "      <td>1</td>\n",
       "      <td>0</td>\n",
       "      <td>0</td>\n",
       "      <td>0</td>\n",
       "      <td>1</td>\n",
       "      <td>0</td>\n",
       "      <td>1</td>\n",
       "      <td>0</td>\n",
       "    </tr>\n",
       "    <tr>\n",
       "      <th>2355</th>\n",
       "      <td>0</td>\n",
       "      <td>1</td>\n",
       "      <td>19.20</td>\n",
       "      <td>19.200001</td>\n",
       "      <td>1</td>\n",
       "      <td>1</td>\n",
       "      <td>1</td>\n",
       "      <td>0</td>\n",
       "      <td>0</td>\n",
       "      <td>0</td>\n",
       "      <td>...</td>\n",
       "      <td>0</td>\n",
       "      <td>0</td>\n",
       "      <td>0</td>\n",
       "      <td>0</td>\n",
       "      <td>0</td>\n",
       "      <td>0</td>\n",
       "      <td>1</td>\n",
       "      <td>0</td>\n",
       "      <td>0</td>\n",
       "      <td>1</td>\n",
       "    </tr>\n",
       "    <tr>\n",
       "      <th>6279</th>\n",
       "      <td>1</td>\n",
       "      <td>20</td>\n",
       "      <td>54.00</td>\n",
       "      <td>1055.900024</td>\n",
       "      <td>1</td>\n",
       "      <td>0</td>\n",
       "      <td>0</td>\n",
       "      <td>0</td>\n",
       "      <td>1</td>\n",
       "      <td>0</td>\n",
       "      <td>...</td>\n",
       "      <td>0</td>\n",
       "      <td>0</td>\n",
       "      <td>0</td>\n",
       "      <td>1</td>\n",
       "      <td>0</td>\n",
       "      <td>0</td>\n",
       "      <td>0</td>\n",
       "      <td>0</td>\n",
       "      <td>0</td>\n",
       "      <td>1</td>\n",
       "    </tr>\n",
       "  </tbody>\n",
       "</table>\n",
       "<p>5 rows × 23 columns</p>\n",
       "</div>"
      ],
      "text/plain": [
       "      senior_citizen  tenure  monthly_charges  total_charges  gender_Male  \\\n",
       "5919               0      58            71.10    4299.200195            0   \n",
       "1915               0      71            85.45    6028.950195            1   \n",
       "5054               0      35            25.75     882.549988            0   \n",
       "2355               0       1            19.20      19.200001            1   \n",
       "6279               1      20            54.00    1055.900024            1   \n",
       "\n",
       "      partner_Yes  dependents_Yes  multiple_lines_Yes  online_security_Yes  \\\n",
       "5919            0               0                   1                    1   \n",
       "1915            0               1                   1                    1   \n",
       "5054            1               1                   1                    0   \n",
       "2355            1               1                   0                    0   \n",
       "6279            0               0                   0                    1   \n",
       "\n",
       "      online_backup_Yes  ...  streaming_tv_Yes  streaming_movies_Yes  \\\n",
       "5919                  1  ...                 0                     0   \n",
       "1915                  1  ...                 0                     0   \n",
       "5054                  0  ...                 0                     0   \n",
       "2355                  0  ...                 0                     0   \n",
       "6279                  0  ...                 0                     0   \n",
       "\n",
       "      paperless_billing_Yes  contract_type_One_year  contract_type_Two_year  \\\n",
       "5919                      1                       1                       0   \n",
       "1915                      1                       1                       0   \n",
       "5054                      1                       0                       0   \n",
       "2355                      0                       0                       0   \n",
       "6279                      0                       1                       0   \n",
       "\n",
       "      internet_service_type_Fiber_optic  internet_service_type_None  \\\n",
       "5919                                  0                           0   \n",
       "1915                                  1                           0   \n",
       "5054                                  0                           1   \n",
       "2355                                  0                           1   \n",
       "6279                                  0                           0   \n",
       "\n",
       "      payment_type_Credit_card_(automatic)  payment_type_Electronic_check  \\\n",
       "5919                                     1                              0   \n",
       "1915                                     1                              0   \n",
       "5054                                     0                              1   \n",
       "2355                                     0                              0   \n",
       "6279                                     0                              0   \n",
       "\n",
       "      payment_type_Mailed_check  \n",
       "5919                          0  \n",
       "1915                          0  \n",
       "5054                          0  \n",
       "2355                          1  \n",
       "6279                          1  \n",
       "\n",
       "[5 rows x 23 columns]"
      ]
     },
     "execution_count": 4,
     "metadata": {},
     "output_type": "execute_result"
    }
   ],
   "source": [
    "train.head()"
   ]
  },
  {
   "cell_type": "code",
   "execution_count": null,
   "id": "c13d81f5",
   "metadata": {},
   "outputs": [],
   "source": []
  },
  {
   "cell_type": "markdown",
   "id": "6e6371b8",
   "metadata": {},
   "source": [
    "## Preparation\n",
    "\n",
    "### two seperate data sets are prepared:\n",
    "\n",
    "- #### telco_df for exploring and visialization\n",
    "\n",
    "- #### train dataset which is encoded for modeling\n"
   ]
  },
  {
   "cell_type": "markdown",
   "id": "3e370d4e",
   "metadata": {
    "scrolled": true
   },
   "source": [
    "## Data Exploration"
   ]
  },
  {
   "cell_type": "markdown",
   "id": "58e3cf11",
   "metadata": {},
   "source": [
    "### Univariate Analysis\n"
   ]
  },
  {
   "cell_type": "code",
   "execution_count": 5,
   "id": "f102e122",
   "metadata": {},
   "outputs": [],
   "source": [
    "telco_df = telco_df[telco_df.total_charges!=\" \"]\n",
    "telco_df[\"total_charges\"] = pd.to_numeric(telco_df.total_charges)"
   ]
  },
  {
   "cell_type": "markdown",
   "id": "61987eed",
   "metadata": {},
   "source": [
    "\n",
    "### Observing the churn rate of different tenure\n",
    "- #### it appears that customers of 10 months and under have a high churn rate"
   ]
  },
  {
   "cell_type": "code",
   "execution_count": 22,
   "id": "135b4c6b",
   "metadata": {
    "scrolled": true
   },
   "outputs": [
    {
     "data": {
      "image/png": "[encoded data removed]",
      "text/plain": [
       "<Figure size 432x288 with 1 Axes>"
      ]
     },
     "metadata": {
      "needs_background": "light"
     },
     "output_type": "display_data"
    }
   ],
   "source": [
    "acquire.tenure_vs_churn(telco_df)"
   ]
  },
  {
   "cell_type": "code",
   "execution_count": null,
   "id": "df43b882",
   "metadata": {},
   "outputs": [],
   "source": []
  },
  {
   "cell_type": "markdown",
   "id": "d8f58d10",
   "metadata": {},
   "source": [
    "### Observing the churn rate of different monthly charges\n",
    "- #### it appears that customers that pay 70 ~ 110 have a higher churn rate\n"
   ]
  },
  {
   "cell_type": "code",
   "execution_count": 6,
   "id": "42598921",
   "metadata": {
    "scrolled": true
   },
   "outputs": [
    {
     "data": {
      "image/png": "[encoded data removed]",
      "text/plain": [
       "<Figure size 432x288 with 1 Axes>"
      ]
     },
     "metadata": {
      "needs_background": "light"
     },
     "output_type": "display_data"
    }
   ],
   "source": [
    "acquire.monthly_charges_churn(telco_df)"
   ]
  },
  {
   "cell_type": "code",
   "execution_count": null,
   "id": "a964736f",
   "metadata": {},
   "outputs": [],
   "source": []
  },
  {
   "cell_type": "markdown",
   "id": "f19fa623",
   "metadata": {},
   "source": [
    "### Bivariate Analysis\n"
   ]
  },
  {
   "cell_type": "markdown",
   "id": "f5221f42",
   "metadata": {},
   "source": [
    "clear the customer_id column"
   ]
  },
  {
   "cell_type": "code",
   "execution_count": 7,
   "id": "bef8102f",
   "metadata": {},
   "outputs": [],
   "source": [
    "columns_dropped = [\"customer_id\"]\n",
    "telco_df = telco_df.drop(columns = columns_dropped)"
   ]
  },
  {
   "cell_type": "code",
   "execution_count": 8,
   "id": "a78636cc",
   "metadata": {
    "scrolled": false
   },
   "outputs": [
    {
     "data": {
      "image/png": "[encoded data removed]",
      "text/plain": [
       "<Figure size 432x288 with 1 Axes>"
      ]
     },
     "metadata": {
      "needs_background": "light"
     },
     "output_type": "display_data"
    },
    {
     "data": {
      "image/png": "[encoded data removed]",
      "text/plain": [
       "<Figure size 432x288 with 1 Axes>"
      ]
     },
     "metadata": {
      "needs_background": "light"
     },
     "output_type": "display_data"
    },
    {
     "data": {
      "image/png": "[encoded data removed]",
      "text/plain": [
       "<Figure size 432x288 with 1 Axes>"
      ]
     },
     "metadata": {
      "needs_background": "light"
     },
     "output_type": "display_data"
    },
    {
     "data": {
      "image/png": "[encoded data removed]",
      "text/plain": [
       "<Figure size 432x288 with 1 Axes>"
      ]
     },
     "metadata": {
      "needs_background": "light"
     },
     "output_type": "display_data"
    },
    {
     "data": {
      "image/png": "[encoded data removed]",
      "text/plain": [
       "<Figure size 432x288 with 1 Axes>"
      ]
     },
     "metadata": {
      "needs_background": "light"
     },
     "output_type": "display_data"
    },
    {
     "data": {
      "image/png": "[encoded data removed]",
      "text/plain": [
       "<Figure size 432x288 with 1 Axes>"
      ]
     },
     "metadata": {
      "needs_background": "light"
     },
     "output_type": "display_data"
    }
   ],
   "source": [
    "for i, predictor in enumerate(telco_df.drop(columns=['partner','dependents','online_backup','senior_citizen','paperless_billing','churn','tenure', 'gender','total_charges', 'monthly_charges','contract_type_id','payment_type_id', 'internet_service_type_id','contract_type_id','phone_service','streaming_movies','streaming_tv','multiple_lines'])):\n",
    "    plt.figure(i)\n",
    "    plot= sns.countplot(data=telco_df, x=predictor, hue='churn')\n",
    "    plt.setp(plot.get_xticklabels(), rotation=45)    \n",
    "\n"
   ]
  },
  {
   "cell_type": "markdown",
   "id": "067a0023",
   "metadata": {},
   "source": [
    "### Takeaways\n",
    "- #### It appears that customers with no partners and no dependents have a high churn rate\n",
    "- #### customers with no tech support and no device protection have a higher probability of churning than those who do\n",
    "- #### month to month contract type has a higher rate of churn than the 1 year and 2 year contract\n",
    "- #### fiber optic internet service  \n",
    "- #### electronic check mode of payment has a high rate of churn and is also the highest sub group in payments"
   ]
  },
  {
   "cell_type": "markdown",
   "id": "f20f8d2a",
   "metadata": {},
   "source": [
    "###  Statistical features of numeric variables "
   ]
  },
  {
   "cell_type": "code",
   "execution_count": 9,
   "id": "614bd490",
   "metadata": {
    "scrolled": true
   },
   "outputs": [
    {
     "data": {
      "text/html": [
       "<div>\n",
       "<style scoped>\n",
       "    .dataframe tbody tr th:only-of-type {\n",
       "        vertical-align: middle;\n",
       "    }\n",
       "\n",
       "    .dataframe tbody tr th {\n",
       "        vertical-align: top;\n",
       "    }\n",
       "\n",
       "    .dataframe thead th {\n",
       "        text-align: right;\n",
       "    }\n",
       "</style>\n",
       "<table border=\"1\" class=\"dataframe\">\n",
       "  <thead>\n",
       "    <tr style=\"text-align: right;\">\n",
       "      <th></th>\n",
       "      <th>count</th>\n",
       "      <th>mean</th>\n",
       "      <th>std</th>\n",
       "      <th>min</th>\n",
       "      <th>25%</th>\n",
       "      <th>50%</th>\n",
       "      <th>75%</th>\n",
       "      <th>max</th>\n",
       "    </tr>\n",
       "  </thead>\n",
       "  <tbody>\n",
       "    <tr>\n",
       "      <th>tenure</th>\n",
       "      <td>7032.0</td>\n",
       "      <td>32.421786</td>\n",
       "      <td>24.545260</td>\n",
       "      <td>1.00</td>\n",
       "      <td>9.0000</td>\n",
       "      <td>29.000</td>\n",
       "      <td>55.0000</td>\n",
       "      <td>72.00</td>\n",
       "    </tr>\n",
       "    <tr>\n",
       "      <th>monthly_charges</th>\n",
       "      <td>7032.0</td>\n",
       "      <td>64.798208</td>\n",
       "      <td>30.085974</td>\n",
       "      <td>18.25</td>\n",
       "      <td>35.5875</td>\n",
       "      <td>70.350</td>\n",
       "      <td>89.8625</td>\n",
       "      <td>118.75</td>\n",
       "    </tr>\n",
       "    <tr>\n",
       "      <th>total_charges</th>\n",
       "      <td>7032.0</td>\n",
       "      <td>2283.300441</td>\n",
       "      <td>2266.771362</td>\n",
       "      <td>18.80</td>\n",
       "      <td>401.4500</td>\n",
       "      <td>1397.475</td>\n",
       "      <td>3794.7375</td>\n",
       "      <td>8684.80</td>\n",
       "    </tr>\n",
       "  </tbody>\n",
       "</table>\n",
       "</div>"
      ],
      "text/plain": [
       "                  count         mean          std    min       25%       50%  \\\n",
       "tenure           7032.0    32.421786    24.545260   1.00    9.0000    29.000   \n",
       "monthly_charges  7032.0    64.798208    30.085974  18.25   35.5875    70.350   \n",
       "total_charges    7032.0  2283.300441  2266.771362  18.80  401.4500  1397.475   \n",
       "\n",
       "                       75%      max  \n",
       "tenure             55.0000    72.00  \n",
       "monthly_charges    89.8625   118.75  \n",
       "total_charges    3794.7375  8684.80  "
      ]
     },
     "execution_count": 9,
     "metadata": {},
     "output_type": "execute_result"
    }
   ],
   "source": [
    "temp_df = telco_df.drop(columns=['senior_citizen','contract_type_id','payment_type_id', 'internet_service_type_id','contract_type_id','phone_service','streaming_movies','streaming_tv','multiple_lines'])\n",
    "temp_df.describe().T\n"
   ]
  },
  {
   "cell_type": "markdown",
   "id": "67f4cb05",
   "metadata": {},
   "source": []
  },
  {
   "cell_type": "markdown",
   "id": "49e17e4e",
   "metadata": {},
   "source": [
    "### Hypothesis testing   \n",
    "    \n"
   ]
  },
  {
   "cell_type": "code",
   "execution_count": 10,
   "id": "9f717732",
   "metadata": {},
   "outputs": [],
   "source": [
    "alpha = 0.05"
   ]
  },
  {
   "cell_type": "markdown",
   "id": "b2eab713",
   "metadata": {},
   "source": [
    "### I used pearsons R for linear relationship/ correlation"
   ]
  },
  {
   "cell_type": "markdown",
   "id": "4a7370c5",
   "metadata": {},
   "source": [
    "### customers with tenure\n",
    "Initial Hypotheses\n",
    "\n",
    "$H_0$: tenure does not have any effect on whether a customer will churn or not\n",
    "\n",
    "$H_1$: customers with tenure below one year(new customers) are  likely to churn more than customers past the year mark \n",
    "\n",
    "Outcome: I rejected the Null Hypothesis; customers under the one-year tenure mark are one of the highest rated churn groups .\n"
   ]
  },
  {
   "cell_type": "markdown",
   "id": "c7feb4b2",
   "metadata": {},
   "source": [
    "### customers with certain payment_type\n",
    "Initial Hypotheses\n",
    "\n",
    "$H_0$: Method of payment does not have any effect on whether a customer will churn or not\n",
    "\n",
    "$H_1$: customers with electronic check type of payment are likely to churn more than any other method of payment \n",
    "\n",
    "Outcome: I rejected the Null Hypothesis; there is a high positive  between the method of payment and the churn rate.\n",
    "\n",
    "\n",
    "\n"
   ]
  },
  {
   "cell_type": "markdown",
   "id": "032a6f2b",
   "metadata": {},
   "source": [
    "##### for the categorical variables I used Chi2"
   ]
  },
  {
   "cell_type": "code",
   "execution_count": 11,
   "id": "a471da8d",
   "metadata": {},
   "outputs": [
    {
     "data": {
      "text/html": [
       "<div>\n",
       "<style scoped>\n",
       "    .dataframe tbody tr th:only-of-type {\n",
       "        vertical-align: middle;\n",
       "    }\n",
       "\n",
       "    .dataframe tbody tr th {\n",
       "        vertical-align: top;\n",
       "    }\n",
       "\n",
       "    .dataframe thead th {\n",
       "        text-align: right;\n",
       "    }\n",
       "</style>\n",
       "<table border=\"1\" class=\"dataframe\">\n",
       "  <thead>\n",
       "    <tr style=\"text-align: right;\">\n",
       "      <th></th>\n",
       "      <th>Unnamed: 0</th>\n",
       "      <th>variables</th>\n",
       "      <th>p_values</th>\n",
       "      <th>hypothesis</th>\n",
       "    </tr>\n",
       "  </thead>\n",
       "  <tbody>\n",
       "    <tr>\n",
       "      <th>0</th>\n",
       "      <td>0</td>\n",
       "      <td>Monthly Charges</td>\n",
       "      <td>1.073627e-35</td>\n",
       "      <td>Reject the null hypothesis</td>\n",
       "    </tr>\n",
       "    <tr>\n",
       "      <th>1</th>\n",
       "      <td>1</td>\n",
       "      <td>Total Charges</td>\n",
       "      <td>1.295547e-34</td>\n",
       "      <td>Reject the null hypothesis</td>\n",
       "    </tr>\n",
       "    <tr>\n",
       "      <th>2</th>\n",
       "      <td>2</td>\n",
       "      <td>Tenure</td>\n",
       "      <td>4.577514e-115</td>\n",
       "      <td>Reject the null hypothesis</td>\n",
       "    </tr>\n",
       "    <tr>\n",
       "      <th>3</th>\n",
       "      <td>3</td>\n",
       "      <td>Partner</td>\n",
       "      <td>3.578599e-19</td>\n",
       "      <td>Reject the null hypothesis</td>\n",
       "    </tr>\n",
       "    <tr>\n",
       "      <th>4</th>\n",
       "      <td>4</td>\n",
       "      <td>Dependents</td>\n",
       "      <td>1.538574e-24</td>\n",
       "      <td>Reject the null hypothesis</td>\n",
       "    </tr>\n",
       "    <tr>\n",
       "      <th>5</th>\n",
       "      <td>5</td>\n",
       "      <td>Multiple Lines</td>\n",
       "      <td>9.985216e-04</td>\n",
       "      <td>Reject the null hypothesis</td>\n",
       "    </tr>\n",
       "    <tr>\n",
       "      <th>6</th>\n",
       "      <td>6</td>\n",
       "      <td>Online Security</td>\n",
       "      <td>1.213117e-29</td>\n",
       "      <td>Reject the null hypothesis</td>\n",
       "    </tr>\n",
       "    <tr>\n",
       "      <th>7</th>\n",
       "      <td>7</td>\n",
       "      <td>Online Backup</td>\n",
       "      <td>2.031212e-05</td>\n",
       "      <td>Reject the null hypothesis</td>\n",
       "    </tr>\n",
       "    <tr>\n",
       "      <th>8</th>\n",
       "      <td>8</td>\n",
       "      <td>Device Protection</td>\n",
       "      <td>1.887008e-04</td>\n",
       "      <td>Reject the null hypothesis</td>\n",
       "    </tr>\n",
       "    <tr>\n",
       "      <th>9</th>\n",
       "      <td>9</td>\n",
       "      <td>Tech Support</td>\n",
       "      <td>2.376481e-23</td>\n",
       "      <td>Reject the null hypothesis</td>\n",
       "    </tr>\n",
       "    <tr>\n",
       "      <th>10</th>\n",
       "      <td>10</td>\n",
       "      <td>Contract Type</td>\n",
       "      <td>7.326182e-257</td>\n",
       "      <td>Reject the null hypothesis</td>\n",
       "    </tr>\n",
       "    <tr>\n",
       "      <th>11</th>\n",
       "      <td>11</td>\n",
       "      <td>Fiber Optic Internt</td>\n",
       "      <td>2.831420e-90</td>\n",
       "      <td>Reject the null hypothesis</td>\n",
       "    </tr>\n",
       "    <tr>\n",
       "      <th>12</th>\n",
       "      <td>12</td>\n",
       "      <td>Electronic Check Payments</td>\n",
       "      <td>7.910588e-75</td>\n",
       "      <td>Reject the null hypothesis</td>\n",
       "    </tr>\n",
       "  </tbody>\n",
       "</table>\n",
       "</div>"
      ],
      "text/plain": [
       "    Unnamed: 0                  variables       p_values  \\\n",
       "0            0            Monthly Charges   1.073627e-35   \n",
       "1            1              Total Charges   1.295547e-34   \n",
       "2            2                     Tenure  4.577514e-115   \n",
       "3            3                    Partner   3.578599e-19   \n",
       "4            4                 Dependents   1.538574e-24   \n",
       "5            5             Multiple Lines   9.985216e-04   \n",
       "6            6            Online Security   1.213117e-29   \n",
       "7            7              Online Backup   2.031212e-05   \n",
       "8            8          Device Protection   1.887008e-04   \n",
       "9            9               Tech Support   2.376481e-23   \n",
       "10          10              Contract Type  7.326182e-257   \n",
       "11          11        Fiber Optic Internt   2.831420e-90   \n",
       "12          12  Electronic Check Payments   7.910588e-75   \n",
       "\n",
       "                    hypothesis  \n",
       "0   Reject the null hypothesis  \n",
       "1   Reject the null hypothesis  \n",
       "2   Reject the null hypothesis  \n",
       "3   Reject the null hypothesis  \n",
       "4   Reject the null hypothesis  \n",
       "5   Reject the null hypothesis  \n",
       "6   Reject the null hypothesis  \n",
       "7   Reject the null hypothesis  \n",
       "8   Reject the null hypothesis  \n",
       "9   Reject the null hypothesis  \n",
       "10  Reject the null hypothesis  \n",
       "11  Reject the null hypothesis  \n",
       "12  Reject the null hypothesis  "
      ]
     },
     "execution_count": 11,
     "metadata": {},
     "output_type": "execute_result"
    }
   ],
   "source": [
    "p_value_df = pd.read_csv('p_value.csv')\n",
    "p_value_df\n"
   ]
  },
  {
   "cell_type": "code",
   "execution_count": null,
   "id": "8ecad027",
   "metadata": {},
   "outputs": [],
   "source": []
  },
  {
   "cell_type": "markdown",
   "id": "f8da0a08",
   "metadata": {},
   "source": [
    "# Feature Modeling"
   ]
  },
  {
   "cell_type": "markdown",
   "id": "9defae03",
   "metadata": {},
   "source": [
    "evaluation of the current train data set"
   ]
  },
  {
   "cell_type": "code",
   "execution_count": 23,
   "id": "abbde99a",
   "metadata": {},
   "outputs": [],
   "source": [
    "train, validate, test = train_validate_test_split(train, target = \"churn_Yes\", seed =123)\n",
    "\n",
    "X_train = train.drop(columns = [\"churn_Yes\"])\n",
    "y_train = train.churn_Yes\n",
    "\n",
    "X_validate = validate.drop(columns = [\"churn_Yes\"])\n",
    "y_validate = validate.churn_Yes\n",
    "\n",
    "X_test = test.drop(columns = [\"churn_Yes\"])\n",
    "y_test = test.churn_Yes"
   ]
  },
  {
   "cell_type": "markdown",
   "id": "5cb40ceb",
   "metadata": {},
   "source": [
    "### Baseline"
   ]
  },
  {
   "cell_type": "code",
   "execution_count": 15,
   "id": "f2693f82",
   "metadata": {},
   "outputs": [
    {
     "name": "stdout",
     "output_type": "stream",
     "text": [
      "Baseline accuracy: 0.73\n"
     ]
    },
    {
     "data": {
      "text/plain": [
       "0    0\n",
       "dtype: uint8"
      ]
     },
     "execution_count": 15,
     "metadata": {},
     "output_type": "execute_result"
    }
   ],
   "source": [
    "import statistics\n",
    "# The mode is a great baseline\n",
    "baseline = y_train.mode()\n",
    "\n",
    "\n",
    "# Produce a boolean array with True representing a match between the baseline prediction and reality\n",
    "matches_baseline_prediction = (y_train == 0)\n",
    "\n",
    "baseline_accuracy = matches_baseline_prediction.mean()\n",
    "print(f\"Baseline accuracy: {round(baseline_accuracy, 2)}\")\n",
    "baseline"
   ]
  },
  {
   "cell_type": "markdown",
   "id": "3f93d1c3",
   "metadata": {},
   "source": []
  },
  {
   "cell_type": "markdown",
   "id": "ebf06d6b",
   "metadata": {},
   "source": [
    "## New Train Dataset "
   ]
  },
  {
   "cell_type": "markdown",
   "id": "c5afbb9f",
   "metadata": {},
   "source": [
    "#### After running some decision tree models with the train data, it appears that the model has an F1 score of ~50 for the churners. \n",
    "#### It appears that churned data is under represented in the model with a ratio of = 0.73: 0.27 on the train dataset\n",
    "#### This prompts for an upsample for the training data set\n"
   ]
  },
  {
   "cell_type": "code",
   "execution_count": 16,
   "id": "d5329fa9",
   "metadata": {},
   "outputs": [
    {
     "data": {
      "text/plain": [
       "0    73.411978\n",
       "1    26.588022\n",
       "Name: churn_Yes, dtype: float64"
      ]
     },
     "execution_count": 16,
     "metadata": {},
     "output_type": "execute_result"
    }
   ],
   "source": [
    "100*train[\"churn_Yes\"].value_counts()/len(train[\"churn_Yes\"])"
   ]
  },
  {
   "cell_type": "code",
   "execution_count": 17,
   "id": "a340eacc",
   "metadata": {},
   "outputs": [],
   "source": [
    "churners = train[train[\"churn_Yes\"] == 1]\n",
    "non_churners  = train[train[\"churn_Yes\"] == 0]\n",
    "\n",
    "from sklearn.utils import resample\n",
    "churners_upsample = resample(churners,\n",
    "             replace=True,\n",
    "             n_samples=len(non_churners),\n",
    "             random_state=42)\n",
    "\n"
   ]
  },
  {
   "cell_type": "markdown",
   "id": "447332d2",
   "metadata": {},
   "source": [
    "Great success"
   ]
  },
  {
   "cell_type": "code",
   "execution_count": 18,
   "id": "3c5b7d1a",
   "metadata": {
    "scrolled": false
   },
   "outputs": [
    {
     "data": {
      "text/plain": [
       "1    50.0\n",
       "0    50.0\n",
       "Name: churn_Yes, dtype: float64"
      ]
     },
     "execution_count": 18,
     "metadata": {},
     "output_type": "execute_result"
    }
   ],
   "source": [
    "new_train = pd.concat([churners_upsample, non_churners])\n",
    "\n",
    "100*new_train[\"churn_Yes\"].value_counts()/len(new_train[\"churn_Yes\"])"
   ]
  },
  {
   "cell_type": "code",
   "execution_count": 19,
   "id": "00f699d6",
   "metadata": {},
   "outputs": [],
   "source": [
    "new_train, validate, test = train_validate_test_split(new_train, target = \"churn_Yes\", seed =123)\n",
    "\n",
    "X_train_new = new_train.drop(columns = [\"churn_Yes\"])\n",
    "y_train_new = new_train.churn_Yes\n",
    "\n",
    "X_validate = validate.drop(columns = [\"churn_Yes\"])\n",
    "y_validate = validate.churn_Yes\n",
    "\n",
    "X_test = test.drop(columns = [\"churn_Yes\"])\n",
    "y_test = test.churn_Yes"
   ]
  },
  {
   "cell_type": "markdown",
   "id": "b884b4bd",
   "metadata": {},
   "source": [
    "### Decision Tree model 84% accuracy "
   ]
  },
  {
   "cell_type": "markdown",
   "id": "3f5289c5",
   "metadata": {},
   "source": [
    "- #### looped multiple  decision trees to find the most optimal models\n",
    "- #### max depth of 8 seems like the only viable model"
   ]
  },
  {
   "cell_type": "code",
   "execution_count": 20,
   "id": "7d23b830",
   "metadata": {},
   "outputs": [],
   "source": [
    "tree3 = DecisionTreeClassifier(max_depth=3, random_state=123)\n",
    "\n",
    "tree3 = tree3.fit(X_train_new, y_train_new)\n",
    "\n",
    "y_pred_dt = tree3.predict(X_train_new)"
   ]
  },
  {
   "cell_type": "markdown",
   "id": "316641c4",
   "metadata": {},
   "source": [
    "\n",
    "\n"
   ]
  },
  {
   "cell_type": "code",
   "execution_count": 48,
   "id": "8c86587f",
   "metadata": {},
   "outputs": [
    {
     "data": {
      "text/html": [
       "<div>\n",
       "<style scoped>\n",
       "    .dataframe tbody tr th:only-of-type {\n",
       "        vertical-align: middle;\n",
       "    }\n",
       "\n",
       "    .dataframe tbody tr th {\n",
       "        vertical-align: top;\n",
       "    }\n",
       "\n",
       "    .dataframe thead th {\n",
       "        text-align: right;\n",
       "    }\n",
       "</style>\n",
       "<table border=\"1\" class=\"dataframe\">\n",
       "  <thead>\n",
       "    <tr style=\"text-align: right;\">\n",
       "      <th></th>\n",
       "      <th>max_depth</th>\n",
       "      <th>train_accuracy</th>\n",
       "      <th>validate_accuracy</th>\n",
       "      <th>difference</th>\n",
       "    </tr>\n",
       "  </thead>\n",
       "  <tbody>\n",
       "    <tr>\n",
       "      <th>0</th>\n",
       "      <td>2</td>\n",
       "      <td>0.720596</td>\n",
       "      <td>0.692407</td>\n",
       "      <td>0.028190</td>\n",
       "    </tr>\n",
       "    <tr>\n",
       "      <th>4</th>\n",
       "      <td>6</td>\n",
       "      <td>0.822198</td>\n",
       "      <td>0.737452</td>\n",
       "      <td>0.084746</td>\n",
       "    </tr>\n",
       "    <tr>\n",
       "      <th>3</th>\n",
       "      <td>5</td>\n",
       "      <td>0.791828</td>\n",
       "      <td>0.745174</td>\n",
       "      <td>0.046654</td>\n",
       "    </tr>\n",
       "    <tr>\n",
       "      <th>1</th>\n",
       "      <td>3</td>\n",
       "      <td>0.762562</td>\n",
       "      <td>0.749035</td>\n",
       "      <td>0.013527</td>\n",
       "    </tr>\n",
       "    <tr>\n",
       "      <th>2</th>\n",
       "      <td>4</td>\n",
       "      <td>0.780784</td>\n",
       "      <td>0.751609</td>\n",
       "      <td>0.029175</td>\n",
       "    </tr>\n",
       "    <tr>\n",
       "      <th>5</th>\n",
       "      <td>7</td>\n",
       "      <td>0.856433</td>\n",
       "      <td>0.768340</td>\n",
       "      <td>0.088093</td>\n",
       "    </tr>\n",
       "    <tr>\n",
       "      <th>6</th>\n",
       "      <td>8</td>\n",
       "      <td>0.880177</td>\n",
       "      <td>0.791506</td>\n",
       "      <td>0.088671</td>\n",
       "    </tr>\n",
       "  </tbody>\n",
       "</table>\n",
       "</div>"
      ],
      "text/plain": [
       "   max_depth  train_accuracy  validate_accuracy  difference\n",
       "0          2        0.720596           0.692407    0.028190\n",
       "4          6        0.822198           0.737452    0.084746\n",
       "3          5        0.791828           0.745174    0.046654\n",
       "1          3        0.762562           0.749035    0.013527\n",
       "2          4        0.780784           0.751609    0.029175\n",
       "5          7        0.856433           0.768340    0.088093\n",
       "6          8        0.880177           0.791506    0.088671"
      ]
     },
     "execution_count": 48,
     "metadata": {},
     "output_type": "execute_result"
    }
   ],
   "source": [
    "df_dt = pd.read_csv(\"decision_tree_df.csv\")\n",
    "df_dt.sort_values(by = \"validate_accuracy\", axis=0, ascending=True).head(7)"
   ]
  },
  {
   "cell_type": "markdown",
   "id": "eddecaf5",
   "metadata": {},
   "source": [
    "### Random forest with the new_train "
   ]
  },
  {
   "cell_type": "code",
   "execution_count": 33,
   "id": "8badec2e",
   "metadata": {},
   "outputs": [],
   "source": [
    "new_train, validate, test = train_validate_test_split(new_train, target = \"churn_Yes\", seed =123)\n",
    "\n",
    "X_train_new = new_train.drop(columns = [\"churn_Yes\"])\n",
    "y_train_new = new_train.churn_Yes\n",
    "\n",
    "X_validate = validate.drop(columns = [\"churn_Yes\"])\n",
    "y_validate = validate.churn_Yes\n",
    "\n",
    "X_test = test.drop(columns = [\"churn_Yes\"])\n",
    "y_test = test.churn_Yes\n"
   ]
  },
  {
   "cell_type": "code",
   "execution_count": 34,
   "id": "1caa1587",
   "metadata": {},
   "outputs": [],
   "source": [
    "rf_new = RandomForestClassifier(max_depth=5, \n",
    "                            random_state=123)"
   ]
  },
  {
   "cell_type": "code",
   "execution_count": 35,
   "id": "ee8560a4",
   "metadata": {},
   "outputs": [],
   "source": [
    "rf_new = rf_new.fit(X_train_new, y_train_new)"
   ]
  },
  {
   "cell_type": "code",
   "execution_count": 36,
   "id": "0de3d8d9",
   "metadata": {},
   "outputs": [
    {
     "data": {
      "text/plain": [
       "array([[0.34988959, 0.65011041],\n",
       "       [0.52808769, 0.47191231],\n",
       "       [0.92501778, 0.07498222],\n",
       "       [0.41778086, 0.58221914],\n",
       "       [0.63859257, 0.36140743]])"
      ]
     },
     "execution_count": 36,
     "metadata": {},
     "output_type": "execute_result"
    }
   ],
   "source": [
    "y_pred_new = rf_new.predict(X_train_new)\n",
    "y_pred_proba_new = rf_new.predict_proba(X_train_new)\n",
    "y_pred_proba_new[0:5]"
   ]
  },
  {
   "cell_type": "code",
   "execution_count": 37,
   "id": "9dc152bb",
   "metadata": {},
   "outputs": [],
   "source": [
    "y_pred_proba_new = rf_new.predict_proba(X_train_new)\n"
   ]
  },
  {
   "cell_type": "code",
   "execution_count": 38,
   "id": "27c61962",
   "metadata": {
    "scrolled": true
   },
   "outputs": [
    {
     "name": "stdout",
     "output_type": "stream",
     "text": [
      "Accuracy of Decision Tree classifier on validate set: 0.77\n"
     ]
    }
   ],
   "source": [
    "print('Accuracy of Decision Tree classifier on validate set: {:.2f}'\n",
    "     .format(rf_new.score(X_validate, y_validate)))"
   ]
  },
  {
   "cell_type": "markdown",
   "id": "b1f7aab2",
   "metadata": {},
   "source": [
    "## Model optimization\n",
    "#### two viable models max depth of 14 and 9"
   ]
  },
  {
   "cell_type": "code",
   "execution_count": 49,
   "id": "513d8102",
   "metadata": {},
   "outputs": [
    {
     "data": {
      "text/html": [
       "<div>\n",
       "<style scoped>\n",
       "    .dataframe tbody tr th:only-of-type {\n",
       "        vertical-align: middle;\n",
       "    }\n",
       "\n",
       "    .dataframe tbody tr th {\n",
       "        vertical-align: top;\n",
       "    }\n",
       "\n",
       "    .dataframe thead th {\n",
       "        text-align: right;\n",
       "    }\n",
       "</style>\n",
       "<table border=\"1\" class=\"dataframe\">\n",
       "  <thead>\n",
       "    <tr style=\"text-align: right;\">\n",
       "      <th></th>\n",
       "      <th>max_depth</th>\n",
       "      <th>train_accuracy</th>\n",
       "      <th>validate_accuracy</th>\n",
       "      <th>difference</th>\n",
       "    </tr>\n",
       "  </thead>\n",
       "  <tbody>\n",
       "    <tr>\n",
       "      <th>12</th>\n",
       "      <td>14</td>\n",
       "      <td>0.852087</td>\n",
       "      <td>0.827586</td>\n",
       "      <td>0.024501</td>\n",
       "    </tr>\n",
       "    <tr>\n",
       "      <th>7</th>\n",
       "      <td>9</td>\n",
       "      <td>0.825318</td>\n",
       "      <td>0.825287</td>\n",
       "      <td>0.000030</td>\n",
       "    </tr>\n",
       "    <tr>\n",
       "      <th>14</th>\n",
       "      <td>16</td>\n",
       "      <td>0.849819</td>\n",
       "      <td>0.822989</td>\n",
       "      <td>0.026830</td>\n",
       "    </tr>\n",
       "    <tr>\n",
       "      <th>20</th>\n",
       "      <td>22</td>\n",
       "      <td>0.848004</td>\n",
       "      <td>0.822989</td>\n",
       "      <td>0.025015</td>\n",
       "    </tr>\n",
       "    <tr>\n",
       "      <th>16</th>\n",
       "      <td>18</td>\n",
       "      <td>0.847096</td>\n",
       "      <td>0.822989</td>\n",
       "      <td>0.024108</td>\n",
       "    </tr>\n",
       "  </tbody>\n",
       "</table>\n",
       "</div>"
      ],
      "text/plain": [
       "    max_depth  train_accuracy  validate_accuracy  difference\n",
       "12         14        0.852087           0.827586    0.024501\n",
       "7           9        0.825318           0.825287    0.000030\n",
       "14         16        0.849819           0.822989    0.026830\n",
       "20         22        0.848004           0.822989    0.025015\n",
       "16         18        0.847096           0.822989    0.024108"
      ]
     },
     "execution_count": 49,
     "metadata": {},
     "output_type": "execute_result"
    }
   ],
   "source": [
    "df_rf = pd.read_csv(\"random_forest_df.csv\")\n",
    "df_rf.sort_values(by= \"validate_accuracy\",ascending=False).head()\n"
   ]
  },
  {
   "cell_type": "markdown",
   "id": "3fc11be2",
   "metadata": {},
   "source": [
    "### Takeaways\n",
    "\n",
    "- #### 14 max depth samples per leaf has an 85% train accuracy and 82% validate accuracy\n",
    "- #### so far this is the best model\n"
   ]
  },
  {
   "cell_type": "markdown",
   "id": "d9023e4e",
   "metadata": {},
   "source": [
    "## Test my best model 85% accurate on test model"
   ]
  },
  {
   "cell_type": "code",
   "execution_count": 42,
   "id": "b1f4caaa",
   "metadata": {},
   "outputs": [],
   "source": [
    "best_model = RandomForestClassifier(max_depth=14, \n",
    "                            random_state=123)"
   ]
  },
  {
   "cell_type": "code",
   "execution_count": 43,
   "id": "aea0e65a",
   "metadata": {},
   "outputs": [],
   "source": [
    "best_model = best_model.fit(X_train_new, y_train_new)"
   ]
  },
  {
   "cell_type": "code",
   "execution_count": 44,
   "id": "d30abed3",
   "metadata": {},
   "outputs": [],
   "source": [
    "\n",
    "best_model = RandomForestClassifier(max_depth=14, \n",
    "                            random_state=123)\n",
    "best_model = best_model.fit(X_train_new, y_train_new)\n",
    "test.reset_index()\n",
    "\n",
    "y_predictions = best_model.predict(X_test)\n",
    "y_proba = best_model.predict_proba(X_test)\n",
    "y_proba = y_proba[:,1]\n",
    "predictions = pd.DataFrame({\n",
    "    \"index\" : test.index, # since the customer_id is dropped from X_test, we'll use test here since the indexes line up\n",
    "    \"prediction\": y_predictions,\n",
    "    \"probability_of_churn\": y_proba\n",
    "})\n",
    "\n",
    "predictions.to_csv(\"predictions.csv\",index = 0)"
   ]
  },
  {
   "cell_type": "code",
   "execution_count": 47,
   "id": "77a8fe5b",
   "metadata": {},
   "outputs": [],
   "source": [
    "prediction_model = pd.read_csv(\"predictions.csv\")"
   ]
  },
  {
   "cell_type": "code",
   "execution_count": 46,
   "id": "daa18f1a",
   "metadata": {},
   "outputs": [
    {
     "name": "stdout",
     "output_type": "stream",
     "text": [
      "              precision    recall  f1-score   support\n",
      "\n",
      "           0       0.86      0.81      0.84       181\n",
      "           1       0.82      0.87      0.84       182\n",
      "\n",
      "    accuracy                           0.84       363\n",
      "   macro avg       0.84      0.84      0.84       363\n",
      "weighted avg       0.84      0.84      0.84       363\n",
      "\n"
     ]
    }
   ],
   "source": [
    "actual_test = y_test\n",
    "predicted_test = best_model.predict(X_test)\n",
    "print(classification_report(actual_test, predicted_test))\n"
   ]
  },
  {
   "cell_type": "markdown",
   "id": "1d0ad3e6",
   "metadata": {},
   "source": [
    "## Conclusion & Recommendations\n",
    "\n",
    "- #### due to a high churn rate for customers on month to month contracts incentivize them to switch to yearly contracts\n",
    "- #### introduce semi annual contracts\n",
    "\n",
    "- #### discontinue/discourage electronic check payment system for payment purposes (risky: highest number of customers)\n",
    "\n",
    "- #### have package deals for services to  promote online security, online backup to internet customers\n",
    "\n",
    "- #### possibly introduce surveys to measure customer satisfaction with the services like tech support\n",
    "\n",
    "\n",
    "\n",
    "\n",
    "## What can we do with more time?\n",
    "- #### since fiber optic customers have a high churn rate, we can possible collect industry data and see why the customer have a propensity to churn and what the competition is offering \n",
    "\n",
    "- #### lastly, matching the competitions prices on month to month customer prices might heavily reduce the churn rate"
   ]
  }
 ],
 "metadata": {
  "kernelspec": {
   "display_name": "Python 3 (ipykernel)",
   "language": "python",
   "name": "python3"
  },
  "language_info": {
   "codemirror_mode": {
    "name": "ipython",
    "version": 3
   },
   "file_extension": ".py",
   "mimetype": "text/x-python",
   "name": "python",
   "nbconvert_exporter": "python",
   "pygments_lexer": "ipython3",
   "version": "3.9.7"
  }
 },
 "nbformat": 4,
 "nbformat_minor": 5
}
